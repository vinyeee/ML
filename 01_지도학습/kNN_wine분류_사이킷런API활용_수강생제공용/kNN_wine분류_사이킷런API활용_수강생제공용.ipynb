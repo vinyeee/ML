{
 "cells": [
  {
   "cell_type": "code",
   "execution_count": 1,
   "id": "2231de01",
   "metadata": {},
   "outputs": [
    {
     "data": {
      "text/plain": [
       "'\\n   실습 순서\\n   1. wine.csv 파일에서 wine 데이터 얻기 및 정보 보기\\n   2. wine 데이터 정보보기\\n   3. DataFrame에서 학습 데이터 및 타겟 데이터 구하기\\n   4. 학습 데이터를 train_test_split 이용하여 훈련 데이터와 테스트 데이터로 분리\\n   5. StandardScaler 이용한 표준화\\n   6. 모델 생성 및 훈련\\n   7. 예측 및 평가\\n   \\n   # 새로운 값으로 예측하기\\n   new = [[9.4,1.9,3.51],[11.8,0.8,3.26]]\\n   \\n'"
      ]
     },
     "execution_count": 1,
     "metadata": {},
     "output_type": "execute_result"
    }
   ],
   "source": [
    "# wine 분류 문제  - 이중 분류 문제\n",
    "\n",
    "'''\n",
    "   실습 순서\n",
    "   1. wine.csv 파일에서 wine 데이터 얻기 및 정보 보기\n",
    "   2. wine 데이터 정보보기\n",
    "   3. DataFrame에서 학습 데이터 및 타겟 데이터 구하기\n",
    "   4. 학습 데이터를 train_test_split 이용하여 훈련 데이터와 테스트 데이터로 분리\n",
    "   5. StandardScaler 이용한 표준화\n",
    "   6. 모델 생성 및 훈련\n",
    "   7. 예측 및 평가\n",
    "   \n",
    "   # 새로운 값으로 예측하기\n",
    "   new = [[9.4,1.9,3.51],[11.8,0.8,3.26]]\n",
    "   \n",
    "'''\n"
   ]
  },
  {
   "cell_type": "code",
   "execution_count": 2,
   "id": "e0e49f23",
   "metadata": {},
   "outputs": [],
   "source": [
    "import pandas as pd\n",
    "import numpy as np"
   ]
  },
  {
   "cell_type": "markdown",
   "id": "2513d9d5",
   "metadata": {},
   "source": [
    "### 1. 데이터 수집 "
   ]
  },
  {
   "cell_type": "code",
   "execution_count": 3,
   "id": "6453367f",
   "metadata": {},
   "outputs": [
    {
     "data": {
      "text/html": [
       "<div>\n",
       "<style scoped>\n",
       "    .dataframe tbody tr th:only-of-type {\n",
       "        vertical-align: middle;\n",
       "    }\n",
       "\n",
       "    .dataframe tbody tr th {\n",
       "        vertical-align: top;\n",
       "    }\n",
       "\n",
       "    .dataframe thead th {\n",
       "        text-align: right;\n",
       "    }\n",
       "</style>\n",
       "<table border=\"1\" class=\"dataframe\">\n",
       "  <thead>\n",
       "    <tr style=\"text-align: right;\">\n",
       "      <th></th>\n",
       "      <th>alcohol</th>\n",
       "      <th>sugar</th>\n",
       "      <th>pH</th>\n",
       "      <th>class</th>\n",
       "    </tr>\n",
       "  </thead>\n",
       "  <tbody>\n",
       "    <tr>\n",
       "      <th>0</th>\n",
       "      <td>9.4</td>\n",
       "      <td>1.9</td>\n",
       "      <td>3.51</td>\n",
       "      <td>0.0</td>\n",
       "    </tr>\n",
       "    <tr>\n",
       "      <th>1</th>\n",
       "      <td>9.8</td>\n",
       "      <td>2.6</td>\n",
       "      <td>3.20</td>\n",
       "      <td>0.0</td>\n",
       "    </tr>\n",
       "    <tr>\n",
       "      <th>2</th>\n",
       "      <td>9.8</td>\n",
       "      <td>2.3</td>\n",
       "      <td>3.26</td>\n",
       "      <td>0.0</td>\n",
       "    </tr>\n",
       "    <tr>\n",
       "      <th>3</th>\n",
       "      <td>9.8</td>\n",
       "      <td>1.9</td>\n",
       "      <td>3.16</td>\n",
       "      <td>0.0</td>\n",
       "    </tr>\n",
       "    <tr>\n",
       "      <th>4</th>\n",
       "      <td>9.4</td>\n",
       "      <td>1.9</td>\n",
       "      <td>3.51</td>\n",
       "      <td>0.0</td>\n",
       "    </tr>\n",
       "  </tbody>\n",
       "</table>\n",
       "</div>"
      ],
      "text/plain": [
       "   alcohol  sugar    pH  class\n",
       "0      9.4    1.9  3.51    0.0\n",
       "1      9.8    2.6  3.20    0.0\n",
       "2      9.8    2.3  3.26    0.0\n",
       "3      9.8    1.9  3.16    0.0\n",
       "4      9.4    1.9  3.51    0.0"
      ]
     },
     "execution_count": 3,
     "metadata": {},
     "output_type": "execute_result"
    }
   ],
   "source": [
    "# red wine: 1599  ,  white wine: 4898\n",
    "wine = pd.read_csv(\"wine.csv\")\n",
    "wine.head()"
   ]
  },
  {
   "cell_type": "code",
   "execution_count": null,
   "id": "d1b35352",
   "metadata": {},
   "outputs": [],
   "source": []
  }
 ],
 "metadata": {
  "kernelspec": {
   "display_name": "Python 3 (ipykernel)",
   "language": "python",
   "name": "python3"
  },
  "language_info": {
   "codemirror_mode": {
    "name": "ipython",
    "version": 3
   },
   "file_extension": ".py",
   "mimetype": "text/x-python",
   "name": "python",
   "nbconvert_exporter": "python",
   "pygments_lexer": "ipython3",
   "version": "3.8.13"
  }
 },
 "nbformat": 4,
 "nbformat_minor": 5
}
