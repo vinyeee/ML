{
 "cells": [
  {
   "cell_type": "code",
   "execution_count": null,
   "id": "11882ee7",
   "metadata": {},
   "outputs": [],
   "source": [
    "'''\n",
    "    로지스틱 회귀(logistic regression) - 다중분류(multi-class classification)\n",
    "    - 선형회귀의 선형방정식을 이용해서 분류 알고리즘으로 사용\n",
    "    - 선형방정식에서 나온 값을 softmax 함수를 총합이 1이 되도록 만든다. (확률값으로 사용된다.)\n",
    "    - softmax 함수의 동작은 큰 값을 작은 값보다 훨씬 두드러지게 만든다.\n",
    "    \n",
    "\n",
    "'''"
   ]
  },
  {
   "cell_type": "code",
   "execution_count": 2,
   "id": "89b0b2a9",
   "metadata": {},
   "outputs": [],
   "source": [
    "import numpy as np\n",
    "import pandas as pd"
   ]
  },
  {
   "cell_type": "code",
   "execution_count": 4,
   "id": "8449d513",
   "metadata": {},
   "outputs": [
    {
     "data": {
      "image/png": "[encoded data removed]",
      "text/plain": [
       "<Figure size 640x480 with 1 Axes>"
      ]
     },
     "metadata": {},
     "output_type": "display_data"
    }
   ],
   "source": [
    "import matplotlib.pyplot as plt\n",
    "import tensorflow as tf\n",
    "x = np.arange(-5,5,0.1)\n",
    "y = tf.nn.softmax(x)\n",
    "plt.plot(x, y)\n",
    "plt.grid()\n",
    "plt.title(\"softmax function\")\n",
    "plt.show()\n"
   ]
  },
  {
   "cell_type": "code",
   "execution_count": 5,
   "id": "5f4053b4",
   "metadata": {},
   "outputs": [
    {
     "data": {
      "text/plain": [
       "(<tf.Tensor: shape=(3,), dtype=float64, numpy=array([0.3671654 , 0.33222499, 0.30060961])>,\n",
       " <tf.Tensor: shape=(3,), dtype=float64, numpy=array([0.41474187, 0.30724834, 0.27800979])>)"
      ]
     },
     "execution_count": 5,
     "metadata": {},
     "output_type": "execute_result"
    }
   ],
   "source": [
    "### a1과 a2 비교 했을 때 훨씬 값이 큰 a1이 잘 예측했다고 할 수 있다.\n",
    "# a1값들이 서로 큰 차이가 없기 때문에 결과는 언제든 달라질 수 있다. ==> ML 입장에서는 안 좋다.\n",
    "# a2값들은 서로 간의 큰 차이가 있기 때문에 결과가 달라질 확률이 적다. ==> ML 입장에서는 좋다. \n",
    "a1 = np.array([0.9, 0.8, 0.7])\n",
    "a2 = np.array([0.5, 0.2, 0.1]) \n",
    "y1 = tf.nn.softmax(a1) #array([0.3671654 , 0.33222499, 0.30060961])\n",
    "y2 = tf.nn.softmax(a2) #array([0.41474187, 0.30724834, 0.27800979])\n",
    "y1,y2"
   ]
  },
  {
   "cell_type": "code",
   "execution_count": 6,
   "id": "de35e29d",
   "metadata": {},
   "outputs": [
    {
     "data": {
      "text/html": [
       "<div>\n",
       "<style scoped>\n",
       "    .dataframe tbody tr th:only-of-type {\n",
       "        vertical-align: middle;\n",
       "    }\n",
       "\n",
       "    .dataframe tbody tr th {\n",
       "        vertical-align: top;\n",
       "    }\n",
       "\n",
       "    .dataframe thead th {\n",
       "        text-align: right;\n",
       "    }\n",
       "</style>\n",
       "<table border=\"1\" class=\"dataframe\">\n",
       "  <thead>\n",
       "    <tr style=\"text-align: right;\">\n",
       "      <th></th>\n",
       "      <th>Species</th>\n",
       "      <th>Weight</th>\n",
       "      <th>Length</th>\n",
       "      <th>Diagonal</th>\n",
       "      <th>Height</th>\n",
       "      <th>Width</th>\n",
       "    </tr>\n",
       "  </thead>\n",
       "  <tbody>\n",
       "    <tr>\n",
       "      <th>0</th>\n",
       "      <td>Bream</td>\n",
       "      <td>242.0</td>\n",
       "      <td>25.4</td>\n",
       "      <td>30.0</td>\n",
       "      <td>11.5200</td>\n",
       "      <td>4.0200</td>\n",
       "    </tr>\n",
       "    <tr>\n",
       "      <th>1</th>\n",
       "      <td>Bream</td>\n",
       "      <td>290.0</td>\n",
       "      <td>26.3</td>\n",
       "      <td>31.2</td>\n",
       "      <td>12.4800</td>\n",
       "      <td>4.3056</td>\n",
       "    </tr>\n",
       "    <tr>\n",
       "      <th>2</th>\n",
       "      <td>Bream</td>\n",
       "      <td>340.0</td>\n",
       "      <td>26.5</td>\n",
       "      <td>31.1</td>\n",
       "      <td>12.3778</td>\n",
       "      <td>4.6961</td>\n",
       "    </tr>\n",
       "    <tr>\n",
       "      <th>3</th>\n",
       "      <td>Bream</td>\n",
       "      <td>363.0</td>\n",
       "      <td>29.0</td>\n",
       "      <td>33.5</td>\n",
       "      <td>12.7300</td>\n",
       "      <td>4.4555</td>\n",
       "    </tr>\n",
       "    <tr>\n",
       "      <th>4</th>\n",
       "      <td>Bream</td>\n",
       "      <td>430.0</td>\n",
       "      <td>29.0</td>\n",
       "      <td>34.0</td>\n",
       "      <td>12.4440</td>\n",
       "      <td>5.1340</td>\n",
       "    </tr>\n",
       "    <tr>\n",
       "      <th>...</th>\n",
       "      <td>...</td>\n",
       "      <td>...</td>\n",
       "      <td>...</td>\n",
       "      <td>...</td>\n",
       "      <td>...</td>\n",
       "      <td>...</td>\n",
       "    </tr>\n",
       "    <tr>\n",
       "      <th>154</th>\n",
       "      <td>Smelt</td>\n",
       "      <td>12.2</td>\n",
       "      <td>12.2</td>\n",
       "      <td>13.4</td>\n",
       "      <td>2.0904</td>\n",
       "      <td>1.3936</td>\n",
       "    </tr>\n",
       "    <tr>\n",
       "      <th>155</th>\n",
       "      <td>Smelt</td>\n",
       "      <td>13.4</td>\n",
       "      <td>12.4</td>\n",
       "      <td>13.5</td>\n",
       "      <td>2.4300</td>\n",
       "      <td>1.2690</td>\n",
       "    </tr>\n",
       "    <tr>\n",
       "      <th>156</th>\n",
       "      <td>Smelt</td>\n",
       "      <td>12.2</td>\n",
       "      <td>13.0</td>\n",
       "      <td>13.8</td>\n",
       "      <td>2.2770</td>\n",
       "      <td>1.2558</td>\n",
       "    </tr>\n",
       "    <tr>\n",
       "      <th>157</th>\n",
       "      <td>Smelt</td>\n",
       "      <td>19.7</td>\n",
       "      <td>14.3</td>\n",
       "      <td>15.2</td>\n",
       "      <td>2.8728</td>\n",
       "      <td>2.0672</td>\n",
       "    </tr>\n",
       "    <tr>\n",
       "      <th>158</th>\n",
       "      <td>Smelt</td>\n",
       "      <td>19.9</td>\n",
       "      <td>15.0</td>\n",
       "      <td>16.2</td>\n",
       "      <td>2.9322</td>\n",
       "      <td>1.8792</td>\n",
       "    </tr>\n",
       "  </tbody>\n",
       "</table>\n",
       "<p>159 rows × 6 columns</p>\n",
       "</div>"
      ],
      "text/plain": [
       "    Species  Weight  Length  Diagonal   Height   Width\n",
       "0     Bream   242.0    25.4      30.0  11.5200  4.0200\n",
       "1     Bream   290.0    26.3      31.2  12.4800  4.3056\n",
       "2     Bream   340.0    26.5      31.1  12.3778  4.6961\n",
       "3     Bream   363.0    29.0      33.5  12.7300  4.4555\n",
       "4     Bream   430.0    29.0      34.0  12.4440  5.1340\n",
       "..      ...     ...     ...       ...      ...     ...\n",
       "154   Smelt    12.2    12.2      13.4   2.0904  1.3936\n",
       "155   Smelt    13.4    12.4      13.5   2.4300  1.2690\n",
       "156   Smelt    12.2    13.0      13.8   2.2770  1.2558\n",
       "157   Smelt    19.7    14.3      15.2   2.8728  2.0672\n",
       "158   Smelt    19.9    15.0      16.2   2.9322  1.8792\n",
       "\n",
       "[159 rows x 6 columns]"
      ]
     },
     "execution_count": 6,
     "metadata": {},
     "output_type": "execute_result"
    }
   ],
   "source": [
    "df = pd.read_csv(r\"C:\\Users\\YB\\Desktop\\tf24_study\\csv\\fish.csv\")\n",
    "df"
   ]
  },
  {
   "cell_type": "code",
   "execution_count": 7,
   "id": "b8fc265b",
   "metadata": {},
   "outputs": [
    {
     "data": {
      "text/plain": [
       "Perch        56\n",
       "Bream        35\n",
       "Roach        20\n",
       "Pike         17\n",
       "Smelt        14\n",
       "Parkki       11\n",
       "Whitefish     6\n",
       "Name: Species, dtype: int64"
      ]
     },
     "execution_count": 7,
     "metadata": {},
     "output_type": "execute_result"
    }
   ],
   "source": [
    "df['Species'].value_counts()"
   ]
  },
  {
   "cell_type": "markdown",
   "id": "b881450e",
   "metadata": {},
   "source": [
    "### 2. 입력데이터와 label 작성"
   ]
  },
  {
   "cell_type": "code",
   "execution_count": 8,
   "id": "c4441f35",
   "metadata": {},
   "outputs": [],
   "source": [
    "fish_data = df.iloc[:,1:]\n",
    "fish_target = df.iloc[:,0]"
   ]
  },
  {
   "cell_type": "code",
   "execution_count": 9,
   "id": "14d0051f",
   "metadata": {},
   "outputs": [
    {
     "data": {
      "text/plain": [
       "((159, 5), (159,))"
      ]
     },
     "execution_count": 9,
     "metadata": {},
     "output_type": "execute_result"
    }
   ],
   "source": [
    "fish_data.shape, fish_target.shape"
   ]
  },
  {
   "cell_type": "markdown",
   "id": "f411d0d0",
   "metadata": {},
   "source": [
    "### 3. 훈련데이터와 테스트 데이터 분리"
   ]
  },
  {
   "cell_type": "code",
   "execution_count": 10,
   "id": "4c71618b",
   "metadata": {},
   "outputs": [],
   "source": [
    "from sklearn.model_selection import train_test_split"
   ]
  },
  {
   "cell_type": "code",
   "execution_count": 11,
   "id": "c67f85ba",
   "metadata": {},
   "outputs": [],
   "source": [
    "X_train, X_test, y_train, y_test=train_test_split(fish_data, fish_target, test_size=0.2, random_state=1,stratify=fish_target)"
   ]
  },
  {
   "cell_type": "code",
   "execution_count": 12,
   "id": "913451e1",
   "metadata": {},
   "outputs": [
    {
     "data": {
      "text/plain": [
       "((127, 5), (127,))"
      ]
     },
     "execution_count": 12,
     "metadata": {},
     "output_type": "execute_result"
    }
   ],
   "source": [
    "### 총 159개 중에 127개가 훈련 데이터\n",
    "X_train.shape,y_train.shape"
   ]
  },
  {
   "cell_type": "code",
   "execution_count": 13,
   "id": "7823a7e1",
   "metadata": {},
   "outputs": [
    {
     "data": {
      "text/plain": [
       "((32, 5), (32,))"
      ]
     },
     "execution_count": 13,
     "metadata": {},
     "output_type": "execute_result"
    }
   ],
   "source": [
    "### 총 159개 중에 32개가 테스트 데이터\n",
    "X_test.shape, y_test.shape"
   ]
  },
  {
   "cell_type": "markdown",
   "id": "977159fc",
   "metadata": {},
   "source": [
    "### 4. 표준화"
   ]
  },
  {
   "cell_type": "code",
   "execution_count": 14,
   "id": "d0325357",
   "metadata": {},
   "outputs": [],
   "source": [
    "from sklearn.preprocessing import StandardScaler"
   ]
  },
  {
   "cell_type": "code",
   "execution_count": 15,
   "id": "91adae91",
   "metadata": {},
   "outputs": [],
   "source": [
    "sc = StandardScaler()\n",
    "sc.fit(X_train)\n",
    "X_train_scaled = sc.transform(X_train)\n",
    "X_test_scaled = sc.transform(X_test)"
   ]
  },
  {
   "cell_type": "markdown",
   "id": "0dfcb3c5",
   "metadata": {},
   "source": [
    "### 5. 모델 생성"
   ]
  },
  {
   "cell_type": "code",
   "execution_count": 16,
   "id": "6aca5bec",
   "metadata": {},
   "outputs": [],
   "source": [
    "from sklearn.linear_model import LogisticRegression"
   ]
  },
  {
   "cell_type": "code",
   "execution_count": 18,
   "id": "49402325",
   "metadata": {},
   "outputs": [
    {
     "data": {
      "text/html": [
       "<style>#sk-container-id-2 {color: black;background-color: white;}#sk-container-id-2 pre{padding: 0;}#sk-container-id-2 div.sk-toggleable {background-color: white;}#sk-container-id-2 label.sk-toggleable__label {cursor: pointer;display: block;width: 100%;margin-bottom: 0;padding: 0.3em;box-sizing: border-box;text-align: center;}#sk-container-id-2 label.sk-toggleable__label-arrow:before {content: \"▸\";float: left;margin-right: 0.25em;color: #696969;}#sk-container-id-2 label.sk-toggleable__label-arrow:hover:before {color: black;}#sk-container-id-2 div.sk-estimator:hover label.sk-toggleable__label-arrow:before {color: black;}#sk-container-id-2 div.sk-toggleable__content {max-height: 0;max-width: 0;overflow: hidden;text-align: left;background-color: #f0f8ff;}#sk-container-id-2 div.sk-toggleable__content pre {margin: 0.2em;color: black;border-radius: 0.25em;background-color: #f0f8ff;}#sk-container-id-2 input.sk-toggleable__control:checked~div.sk-toggleable__content {max-height: 200px;max-width: 100%;overflow: auto;}#sk-container-id-2 input.sk-toggleable__control:checked~label.sk-toggleable__label-arrow:before {content: \"▾\";}#sk-container-id-2 div.sk-estimator input.sk-toggleable__control:checked~label.sk-toggleable__label {background-color: #d4ebff;}#sk-container-id-2 div.sk-label input.sk-toggleable__control:checked~label.sk-toggleable__label {background-color: #d4ebff;}#sk-container-id-2 input.sk-hidden--visually {border: 0;clip: rect(1px 1px 1px 1px);clip: rect(1px, 1px, 1px, 1px);height: 1px;margin: -1px;overflow: hidden;padding: 0;position: absolute;width: 1px;}#sk-container-id-2 div.sk-estimator {font-family: monospace;background-color: #f0f8ff;border: 1px dotted black;border-radius: 0.25em;box-sizing: border-box;margin-bottom: 0.5em;}#sk-container-id-2 div.sk-estimator:hover {background-color: #d4ebff;}#sk-container-id-2 div.sk-parallel-item::after {content: \"\";width: 100%;border-bottom: 1px solid gray;flex-grow: 1;}#sk-container-id-2 div.sk-label:hover label.sk-toggleable__label {background-color: #d4ebff;}#sk-container-id-2 div.sk-serial::before {content: \"\";position: absolute;border-left: 1px solid gray;box-sizing: border-box;top: 0;bottom: 0;left: 50%;z-index: 0;}#sk-container-id-2 div.sk-serial {display: flex;flex-direction: column;align-items: center;background-color: white;padding-right: 0.2em;padding-left: 0.2em;position: relative;}#sk-container-id-2 div.sk-item {position: relative;z-index: 1;}#sk-container-id-2 div.sk-parallel {display: flex;align-items: stretch;justify-content: center;background-color: white;position: relative;}#sk-container-id-2 div.sk-item::before, #sk-container-id-2 div.sk-parallel-item::before {content: \"\";position: absolute;border-left: 1px solid gray;box-sizing: border-box;top: 0;bottom: 0;left: 50%;z-index: -1;}#sk-container-id-2 div.sk-parallel-item {display: flex;flex-direction: column;z-index: 1;position: relative;background-color: white;}#sk-container-id-2 div.sk-parallel-item:first-child::after {align-self: flex-end;width: 50%;}#sk-container-id-2 div.sk-parallel-item:last-child::after {align-self: flex-start;width: 50%;}#sk-container-id-2 div.sk-parallel-item:only-child::after {width: 0;}#sk-container-id-2 div.sk-dashed-wrapped {border: 1px dashed gray;margin: 0 0.4em 0.5em 0.4em;box-sizing: border-box;padding-bottom: 0.4em;background-color: white;}#sk-container-id-2 div.sk-label label {font-family: monospace;font-weight: bold;display: inline-block;line-height: 1.2em;}#sk-container-id-2 div.sk-label-container {text-align: center;}#sk-container-id-2 div.sk-container {/* jupyter's `normalize.less` sets `[hidden] { display: none; }` but bootstrap.min.css set `[hidden] { display: none !important; }` so we also need the `!important` here to be able to override the default hidden behavior on the sphinx rendered scikit-learn.org. See: https://github.com/scikit-learn/scikit-learn/issues/21755 */display: inline-block !important;position: relative;}#sk-container-id-2 div.sk-text-repr-fallback {display: none;}</style><div id=\"sk-container-id-2\" class=\"sk-top-container\"><div class=\"sk-text-repr-fallback\"><pre>LogisticRegression(C=20.0, max_iter=1000, random_state=42)</pre><b>In a Jupyter environment, please rerun this cell to show the HTML representation or trust the notebook. <br />On GitHub, the HTML representation is unable to render, please try loading this page with nbviewer.org.</b></div><div class=\"sk-container\" hidden><div class=\"sk-item\"><div class=\"sk-estimator sk-toggleable\"><input class=\"sk-toggleable__control sk-hidden--visually\" id=\"sk-estimator-id-2\" type=\"checkbox\" checked><label for=\"sk-estimator-id-2\" class=\"sk-toggleable__label sk-toggleable__label-arrow\">LogisticRegression</label><div class=\"sk-toggleable__content\"><pre>LogisticRegression(C=20.0, max_iter=1000, random_state=42)</pre></div></div></div></div></div>"
      ],
      "text/plain": [
       "LogisticRegression(C=20.0, max_iter=1000, random_state=42)"
      ]
     },
     "execution_count": 18,
     "metadata": {},
     "output_type": "execute_result"
    }
   ],
   "source": [
    "lr = LogisticRegression(C=20.0,random_state=42,max_iter=1000) # C 기능은 Ridge의 alpha 와 동일한 기능이다. C는 작을수록 규제 강도가 강해진다.\n",
    "lr.fit(X_train_scaled,y_train)"
   ]
  },
  {
   "cell_type": "markdown",
   "id": "e994e491",
   "metadata": {},
   "source": [
    "### 6. 예측"
   ]
  },
  {
   "cell_type": "code",
   "execution_count": 21,
   "id": "ad055dd4",
   "metadata": {},
   "outputs": [
    {
     "data": {
      "text/plain": [
       "array(['Roach', 'Bream', 'Bream', 'Parkki', 'Roach'], dtype=object)"
      ]
     },
     "execution_count": 21,
     "metadata": {},
     "output_type": "execute_result"
    }
   ],
   "source": [
    "pred = lr.predict(X_test_scaled[:5])\n",
    "pred # 새 데이터를 넣어줬더니 예측함"
   ]
  },
  {
   "cell_type": "markdown",
   "id": "d7c4bda2",
   "metadata": {},
   "source": [
    "### 7. 평가"
   ]
  },
  {
   "cell_type": "code",
   "execution_count": 20,
   "id": "80b4cc4f",
   "metadata": {},
   "outputs": [
    {
     "data": {
      "text/plain": [
       "0.9375"
      ]
     },
     "execution_count": 20,
     "metadata": {},
     "output_type": "execute_result"
    }
   ],
   "source": [
    "lr.score(X_test_scaled,y_test)"
   ]
  },
  {
   "cell_type": "markdown",
   "id": "ad73d4d7",
   "metadata": {},
   "source": [
    "### 예측된 과정"
   ]
  },
  {
   "cell_type": "markdown",
   "id": "27763349",
   "metadata": {},
   "source": [
    "### 가. label 종류 - 클래스 확인 \n",
    "* ['Bream', 'Parkki', 'Perch', 'Pike', 'Roach', 'Smelt', 'Whitefish'] ,..."
   ]
  },
  {
   "cell_type": "code",
   "execution_count": 22,
   "id": "7bcff397",
   "metadata": {},
   "outputs": [
    {
     "data": {
      "text/plain": [
       "array(['Bream', 'Parkki', 'Perch', 'Pike', 'Roach', 'Smelt', 'Whitefish'],\n",
       "      dtype=object)"
      ]
     },
     "execution_count": 22,
     "metadata": {},
     "output_type": "execute_result"
    }
   ],
   "source": [
    "lr.classes_"
   ]
  },
  {
   "cell_type": "markdown",
   "id": "4b47abdd",
   "metadata": {},
   "source": [
    "### 나. 회귀계수 확인 "
   ]
  },
  {
   "cell_type": "code",
   "execution_count": 23,
   "id": "f11a624d",
   "metadata": {},
   "outputs": [
    {
     "data": {
      "text/plain": [
       "Index(['Weight', 'Length', 'Diagonal', 'Height', 'Width'], dtype='object')"
      ]
     },
     "execution_count": 23,
     "metadata": {},
     "output_type": "execute_result"
    }
   ],
   "source": [
    "fish_data.columns"
   ]
  },
  {
   "cell_type": "code",
   "execution_count": 24,
   "id": "e6108f64",
   "metadata": {},
   "outputs": [
    {
     "data": {
      "text/plain": [
       "(array([[-1.40394383, -1.3414721 ,  1.8863137 ,  8.09992949, -0.22961979],\n",
       "        [-0.6256055 , -1.71617071, -2.88909505,  6.85654591, -2.51499095],\n",
       "        [ 3.12683163,  6.91265536, -8.89167541, -7.01939518,  4.93706288],\n",
       "        [-0.33928302,  3.7102616 ,  4.11234808, -3.76816951, -1.85610618],\n",
       "        [-1.74474988, -5.94057141,  4.99340529, -1.08908088,  2.46225593],\n",
       "        [-0.95976895,  1.04248467,  1.30591342, -4.29387054, -5.58960793],\n",
       "        [ 1.94651954, -2.66718742, -0.51721005,  1.21404072,  2.79100603]]),\n",
       " array([ 0.21707804, -0.30582197,  2.82538221, -0.16988213,  2.30981598,\n",
       "        -7.36622336,  2.48965123]))"
      ]
     },
     "execution_count": 24,
     "metadata": {},
     "output_type": "execute_result"
    }
   ],
   "source": [
    "lr.coef_, lr.intercept_ #feature가 5개여서 계수가 5개가 나옴b"
   ]
  },
  {
   "cell_type": "markdown",
   "id": "d89e2511",
   "metadata": {},
   "source": [
    "### 선형 방정식\n",
    "* y = w1*x1 + w2*x2 + w3*x3 + w4*x4 + w5*x5 + w0\n",
    "* y = -1.40394383 * Weight + -1.3414721 * Length + 1.8863137 * Diagonal + 8.09992949 * Height + 8.09992949 * Width + 8.09992949"
   ]
  },
  {
   "cell_type": "markdown",
   "id": "305b8403",
   "metadata": {},
   "source": [
    "### 실제 5개의 feature 값을 위의 선형 회귀식에 직접 대입 하지 않고 y값을 구해주는 함수를 사용한다.\n",
    "* lr.decision_function(데이터)"
   ]
  },
  {
   "cell_type": "code",
   "execution_count": 25,
   "id": "06e0549c",
   "metadata": {},
   "outputs": [
    {
     "data": {
      "text/plain": [
       "array([[-0.80311799, -0.71728333, -0.6738959 , -0.68296452, -0.69993802],\n",
       "       [ 0.5060019 ,  0.29981453,  0.47712474,  1.44669788,  0.6339306 ],\n",
       "       [ 0.09690193,  0.11488765,  0.29807709,  1.11934743,  0.20430551],\n",
       "       [-0.38583603, -0.34742956, -0.30727451,  0.45306557, -0.20407759],\n",
       "       [-0.66947867, -0.43989301, -0.37548314, -0.35865207, -0.38428437]])"
      ]
     },
     "execution_count": 25,
     "metadata": {},
     "output_type": "execute_result"
    }
   ],
   "source": [
    "X_test_scaled[:5]"
   ]
  },
  {
   "cell_type": "code",
   "execution_count": 26,
   "id": "c6441840",
   "metadata": {},
   "outputs": [
    {
     "data": {
      "text/plain": [
       "-2.28291452227314"
      ]
     },
     "execution_count": 26,
     "metadata": {},
     "output_type": "execute_result"
    }
   ],
   "source": [
    "y = -1.40394383 * (-0.80311799) + -1.3414721 * (-0.71728333) + 1.8863137 * (-0.6738959) + 8.09992949 * (-0.68296452) + 8.09992949 * (-0.69993802) + 8.09992949\n",
    "y"
   ]
  },
  {
   "cell_type": "code",
   "execution_count": 31,
   "id": "738163f5",
   "metadata": {},
   "outputs": [
    {
     "data": {
      "text/plain": [
       "array([[ -4.33559771,   0.45210322,   2.68625841,  -1.45731581,\n",
       "          3.6274706 ,  -1.37828193,   0.40536322],\n",
       "       [ 11.57708169,   5.80964951,  -4.7875477 ,  -3.89511197,\n",
       "          2.01370519, -16.67158953,   5.95381282],\n",
       "       [  9.50890414,   5.73624633,  -5.57632054,  -3.14780292,\n",
       "          2.23066034, -12.89851599,   4.14682865],\n",
       "       [  4.36188056,   5.03927109,  -2.23832795,  -3.92008703,\n",
       "          2.516671  ,  -8.56406501,   2.80465735],\n",
       "       [ -1.77800349,   0.46010287,   1.65016508,  -1.0542405 ,\n",
       "          3.66055978,  -3.98460419,   1.04602045]])"
      ]
     },
     "execution_count": 31,
     "metadata": {},
     "output_type": "execute_result"
    }
   ],
   "source": [
    "decisions = lr.decision_function(X_test_scaled[:5])\n",
    "decisions"
   ]
  },
  {
   "cell_type": "markdown",
   "id": "75d0892c",
   "metadata": {},
   "source": [
    "### y값을 softmax 함수에 적용한다."
   ]
  },
  {
   "cell_type": "code",
   "execution_count": 32,
   "id": "6843e806",
   "metadata": {},
   "outputs": [],
   "source": [
    "from scipy.special import softmax"
   ]
  },
  {
   "cell_type": "code",
   "execution_count": 33,
   "id": "7ee5ac14",
   "metadata": {},
   "outputs": [
    {
     "data": {
      "text/plain": [
       "array([[0.   , 0.028, 0.263, 0.004, 0.673, 0.005, 0.027],\n",
       "       [0.993, 0.003, 0.   , 0.   , 0.   , 0.   , 0.004],\n",
       "       [0.972, 0.022, 0.   , 0.   , 0.001, 0.   , 0.005],\n",
       "       [0.299, 0.59 , 0.   , 0.   , 0.047, 0.   , 0.063],\n",
       "       [0.003, 0.032, 0.106, 0.007, 0.793, 0.   , 0.058]])"
      ]
     },
     "execution_count": 33,
     "metadata": {},
     "output_type": "execute_result"
    }
   ],
   "source": [
    "np.round(softmax(decisions,axis=1),3) "
   ]
  },
  {
   "cell_type": "markdown",
   "id": "02642751",
   "metadata": {},
   "source": [
    "### 전체 예측 확률 값으로 보기\n",
    "* lr.classes_ [Bream, Smelt]"
   ]
  },
  {
   "cell_type": "code",
   "execution_count": 35,
   "id": "cb415c38",
   "metadata": {},
   "outputs": [
    {
     "data": {
      "text/plain": [
       "array([[0.   , 0.028, 0.263, 0.004, 0.673, 0.005, 0.027],\n",
       "       [0.993, 0.003, 0.   , 0.   , 0.   , 0.   , 0.004],\n",
       "       [0.972, 0.022, 0.   , 0.   , 0.001, 0.   , 0.005],\n",
       "       [0.299, 0.59 , 0.   , 0.   , 0.047, 0.   , 0.063],\n",
       "       [0.003, 0.032, 0.106, 0.007, 0.793, 0.   , 0.058]])"
      ]
     },
     "execution_count": 35,
     "metadata": {},
     "output_type": "execute_result"
    }
   ],
   "source": [
    "#['Bream', 'Parkki', 'Perch', 'Pike', 'Roach', 'Smelt', 'Whitefish']\n",
    "np.round(lr.predict_proba(X_test_scaled[:5]),3)"
   ]
  }
 ],
 "metadata": {
  "kernelspec": {
   "display_name": "Python 3 (ipykernel)",
   "language": "python",
   "name": "python3"
  },
  "language_info": {
   "codemirror_mode": {
    "name": "ipython",
    "version": 3
   },
   "file_extension": ".py",
   "mimetype": "text/x-python",
   "name": "python",
   "nbconvert_exporter": "python",
   "pygments_lexer": "ipython3",
   "version": "3.8.13"
  }
 },
 "nbformat": 4,
 "nbformat_minor": 5
}
