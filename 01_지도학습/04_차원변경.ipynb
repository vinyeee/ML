{
 "cells": [
  {
   "cell_type": "markdown",
   "id": "dd7ce89f",
   "metadata": {},
   "source": [
    "### 차원변경"
   ]
  },
  {
   "cell_type": "code",
   "execution_count": 2,
   "id": "6f8ac6fe",
   "metadata": {},
   "outputs": [
    {
     "data": {
      "text/plain": [
       "'\\n    차원 증가 (1차원 -> 2차원)\\n    [10 20 30] (3,) --> [[10 20 30]] (1,3)\\n                        [[10][20][30]] (3,1)\\n                        \\n    1) arr1D.reshape(1,-1)\\n                        \\n                        \\n'"
      ]
     },
     "execution_count": 2,
     "metadata": {},
     "output_type": "execute_result"
    }
   ],
   "source": [
    "'''\n",
    "    차원 증가 (1차원 -> 2차원)\n",
    "    [10 20 30] (3,) --> [[10 20 30]] (1,3)\n",
    "                        [[10][20][30]] (3,1)\n",
    "                        \n",
    "    1) arr1D.reshape(1,-1)\n",
    "    2) np.reshape(arr1D,(1,-1))\n",
    "    3) np.expand_dims(arr1D,axis=0)\n",
    "    4) arr1D[np.newaxis,...] (권장)\n",
    "       arr1D[np.newaxis,:]\n",
    "                        \n",
    "                        \n",
    "'''"
   ]
  },
  {
   "cell_type": "code",
   "execution_count": 3,
   "id": "cbe8ff48",
   "metadata": {},
   "outputs": [],
   "source": [
    "import numpy as np"
   ]
  },
  {
   "cell_type": "markdown",
   "id": "3de45bf4",
   "metadata": {},
   "source": [
    "### 1) arr1D.reshape(1,-1)"
   ]
  },
  {
   "cell_type": "code",
   "execution_count": 5,
   "id": "fcf02b01",
   "metadata": {},
   "outputs": [
    {
     "data": {
      "text/plain": [
       "((3,), (1, 3))"
      ]
     },
     "execution_count": 5,
     "metadata": {},
     "output_type": "execute_result"
    }
   ],
   "source": [
    "arr1D = np.array([10,20,30])\n",
    "arr2D = arr1D.reshape(1,-1)\n",
    "arr1D.shape, arr2D.shape"
   ]
  },
  {
   "cell_type": "markdown",
   "id": "20030d1e",
   "metadata": {},
   "source": [
    "### 2) np.reshape(arr1D,(1,-1))"
   ]
  },
  {
   "cell_type": "code",
   "execution_count": 6,
   "id": "0e026b88",
   "metadata": {},
   "outputs": [
    {
     "data": {
      "text/plain": [
       "((3,), (1, 3))"
      ]
     },
     "execution_count": 6,
     "metadata": {},
     "output_type": "execute_result"
    }
   ],
   "source": [
    "arr1D = np.array([10,20,30])\n",
    "arr2D = np.reshape(arr1D,(1,-1))\n",
    "arr1D.shape, arr2D.shape"
   ]
  },
  {
   "cell_type": "markdown",
   "id": "1e111660",
   "metadata": {},
   "source": [
    "### 3) np.expand_dims(arr1D,axis=0)"
   ]
  },
  {
   "cell_type": "code",
   "execution_count": 7,
   "id": "7b6a4610",
   "metadata": {},
   "outputs": [
    {
     "data": {
      "text/plain": [
       "((3,), (1, 3))"
      ]
     },
     "execution_count": 7,
     "metadata": {},
     "output_type": "execute_result"
    }
   ],
   "source": [
    "arr1D = np.array([10,20,30])\n",
    "arr2D = np.expand_dims(arr1D,axis=0)\n",
    "arr1D.shape,arr2D.shape"
   ]
  },
  {
   "cell_type": "markdown",
   "id": "00d0ee2d",
   "metadata": {},
   "source": [
    "### 4) arr1D[np.newaxis,...] 또는 arr1D[np.newaxis,:]"
   ]
  },
  {
   "cell_type": "code",
   "execution_count": 9,
   "id": "68b93111",
   "metadata": {},
   "outputs": [
    {
     "data": {
      "text/plain": [
       "((3,), (1, 3))"
      ]
     },
     "execution_count": 9,
     "metadata": {},
     "output_type": "execute_result"
    }
   ],
   "source": [
    "arr1D = np.array([10,20,30])\n",
    "#arr2D = arr1D[np.newaxis,...]\n",
    "arr2D = arr1D[np.newaxis,:]\n",
    "arr1D.shape,arr2D.shape"
   ]
  },
  {
   "cell_type": "code",
   "execution_count": 10,
   "id": "f4a7f774",
   "metadata": {},
   "outputs": [
    {
     "data": {
      "text/plain": [
       "'\\n    차원 증가 (1차원 -> 2차원)\\n    [10 20 30] (3,) --> [[10][20][30]] (3,1)\\n                        \\n    1) arr1D.reshape(-1,1)\\n    2) np.reshape(arr1D,(-1,1))\\n    3) np.expand_dims(arr1D,axis=1)\\n    4) arr1D[...,np.newaxis] (권장)\\n       arr1D[:,np.newaxis]\\n                        \\n                        \\n'"
      ]
     },
     "execution_count": 10,
     "metadata": {},
     "output_type": "execute_result"
    }
   ],
   "source": [
    "'''\n",
    "    차원 증가 (1차원 -> 2차원)\n",
    "    [10 20 30] (3,) --> [[10][20][30]] (3,1)\n",
    "                        \n",
    "    1) arr1D.reshape(-1,1)\n",
    "    2) np.reshape(arr1D,(-1,1))\n",
    "    3) np.expand_dims(arr1D,axis=1)\n",
    "    4) arr1D[...,np.newaxis] (권장)\n",
    "       arr1D[:,np.newaxis]\n",
    "                        \n",
    "                        \n",
    "'''"
   ]
  },
  {
   "cell_type": "code",
   "execution_count": 12,
   "id": "acb3f465",
   "metadata": {},
   "outputs": [
    {
     "data": {
      "text/plain": [
       "((3,), (3, 1))"
      ]
     },
     "execution_count": 12,
     "metadata": {},
     "output_type": "execute_result"
    }
   ],
   "source": [
    "arr1D = np.array([10,20,30])\n",
    "arr2D = arr1D.reshape(-1,1)\n",
    "arr2D = np.reshape(arr1D,(-1,1))\n",
    "arr2D = np.expand_dims(arr1D,axis=1)\n",
    "arr2D = arr1D[...,np.newaxis]\n",
    "arr1D.shape, arr2D.shape"
   ]
  },
  {
   "cell_type": "code",
   "execution_count": null,
   "id": "f87fc4a8",
   "metadata": {},
   "outputs": [],
   "source": [
    "'''\n",
    "    차원 축소 (2차원 --> 1차원)\n",
    "    [[10 20 30]] (1,3) --> [10 20 30] (3,)\n",
    "                        \n",
    "    arr1D = np.squeeze(arr2D, axis=0)                      \n",
    "                        \n",
    "'''"
   ]
  },
  {
   "cell_type": "code",
   "execution_count": 14,
   "id": "6275684a",
   "metadata": {},
   "outputs": [
    {
     "data": {
      "text/plain": [
       "((1, 3), (3,))"
      ]
     },
     "execution_count": 14,
     "metadata": {},
     "output_type": "execute_result"
    }
   ],
   "source": [
    "arr2D = np.array([[10,20,30]])\n",
    "arr1D = np.squeeze(arr2D, axis=0)\n",
    "arr2D.shape,arr1D.shape"
   ]
  },
  {
   "cell_type": "code",
   "execution_count": 15,
   "id": "66a0cabb",
   "metadata": {},
   "outputs": [
    {
     "data": {
      "text/plain": [
       "array([[10, 20, 30]])"
      ]
     },
     "execution_count": 15,
     "metadata": {},
     "output_type": "execute_result"
    }
   ],
   "source": [
    "arr2D"
   ]
  },
  {
   "cell_type": "code",
   "execution_count": 16,
   "id": "f36ff791",
   "metadata": {},
   "outputs": [
    {
     "data": {
      "text/plain": [
       "array([10, 20, 30])"
      ]
     },
     "execution_count": 16,
     "metadata": {},
     "output_type": "execute_result"
    }
   ],
   "source": [
    "arr1D"
   ]
  },
  {
   "cell_type": "code",
   "execution_count": 17,
   "id": "dde2c8a9",
   "metadata": {},
   "outputs": [
    {
     "data": {
      "text/plain": [
       "'\\n    차원 축소 (2차원 --> 1차원)\\n    [[10 20 30]] (1,3) --> [10 20 30] (3,)\\n                        \\n    arr1D = np.squeeze(arr2D, axis=1)\\n    2) np.reshape(arr1D,(-1,1))\\n    3) np.expand_dims(arr1D,axis=1)\\n    4) arr1D[...,np.newaxis] (권장)\\n       arr1D[:,np.newaxis]\\n                        \\n                        \\n'"
      ]
     },
     "execution_count": 17,
     "metadata": {},
     "output_type": "execute_result"
    }
   ],
   "source": [
    "'''\n",
    "    차원 축소 (2차원 --> 1차원)\n",
    "    [[10] [20] [30]] (1,3) --> [10 20 30] (3,)\n",
    "                        \n",
    "    arr1D = np.squeeze(arr2D, axis=1)\n",
    "\n",
    "                        \n",
    "'''"
   ]
  },
  {
   "cell_type": "code",
   "execution_count": 18,
   "id": "dd34d736",
   "metadata": {},
   "outputs": [
    {
     "data": {
      "text/plain": [
       "((3, 1), (3,))"
      ]
     },
     "execution_count": 18,
     "metadata": {},
     "output_type": "execute_result"
    }
   ],
   "source": [
    "arr2D = np.array([[10],[20],[30]])\n",
    "arr1D = np.squeeze(arr2D, axis=1)\n",
    "arr2D.shape,arr1D.shape"
   ]
  },
  {
   "cell_type": "code",
   "execution_count": 20,
   "id": "8085433a",
   "metadata": {},
   "outputs": [
    {
     "data": {
      "text/plain": [
       "array([[10],\n",
       "       [20],\n",
       "       [30]])"
      ]
     },
     "execution_count": 20,
     "metadata": {},
     "output_type": "execute_result"
    }
   ],
   "source": [
    "arr2D"
   ]
  },
  {
   "cell_type": "code",
   "execution_count": 21,
   "id": "3564a90c",
   "metadata": {},
   "outputs": [
    {
     "data": {
      "text/plain": [
       "array([10, 20, 30])"
      ]
     },
     "execution_count": 21,
     "metadata": {},
     "output_type": "execute_result"
    }
   ],
   "source": [
    "arr1D"
   ]
  },
  {
   "cell_type": "markdown",
   "id": "1a829637",
   "metadata": {},
   "source": [
    "### 3차원 --> 2차원"
   ]
  },
  {
   "cell_type": "code",
   "execution_count": 39,
   "id": "d342210a",
   "metadata": {},
   "outputs": [
    {
     "data": {
      "text/plain": [
       "(array([[[ 0,  1,  2,  3],\n",
       "         [ 4,  5,  6,  7],\n",
       "         [ 8,  9, 10, 11],\n",
       "         [12, 13, 14, 15]]]),\n",
       " (1, 4, 4))"
      ]
     },
     "execution_count": 39,
     "metadata": {},
     "output_type": "execute_result"
    }
   ],
   "source": [
    "arr3D = np.arange(16).reshape(1,4,4)#1행 4열짜리가 4개\n",
    "arr3D, arr3D.shape"
   ]
  },
  {
   "cell_type": "code",
   "execution_count": 40,
   "id": "7ada0f3c",
   "metadata": {},
   "outputs": [
    {
     "data": {
      "text/plain": [
       "(array([[[ 0,  1,  2,  3],\n",
       "         [ 4,  5,  6,  7],\n",
       "         [ 8,  9, 10, 11],\n",
       "         [12, 13, 14, 15]]]),\n",
       " (1, 4, 4),\n",
       " (4, 4))"
      ]
     },
     "execution_count": 40,
     "metadata": {},
     "output_type": "execute_result"
    }
   ],
   "source": [
    "arr2D = np.squeeze(arr3D, axis=0)\n",
    "arr3D,arr3D.shape,arr2D.shape"
   ]
  },
  {
   "cell_type": "code",
   "execution_count": 41,
   "id": "b6713b7f",
   "metadata": {},
   "outputs": [
    {
     "data": {
      "text/plain": [
       "(array([[[ 0],\n",
       "         [ 1],\n",
       "         [ 2],\n",
       "         [ 3]],\n",
       " \n",
       "        [[ 4],\n",
       "         [ 5],\n",
       "         [ 6],\n",
       "         [ 7]],\n",
       " \n",
       "        [[ 8],\n",
       "         [ 9],\n",
       "         [10],\n",
       "         [11]],\n",
       " \n",
       "        [[12],\n",
       "         [13],\n",
       "         [14],\n",
       "         [15]]]),\n",
       " (4, 4, 1),\n",
       " (4, 4))"
      ]
     },
     "execution_count": 41,
     "metadata": {},
     "output_type": "execute_result"
    }
   ],
   "source": [
    "arr3D = np.arange(16).reshape(4,4,1)\n",
    "arr2D = np.squeeze(arr3D, axis=2)\n",
    "arr3D,arr3D.shape,arr2D.shape"
   ]
  },
  {
   "cell_type": "code",
   "execution_count": 42,
   "id": "655ba9b7",
   "metadata": {},
   "outputs": [
    {
     "data": {
      "text/plain": [
       "(array([[[ 0,  1,  2,  3]],\n",
       " \n",
       "        [[ 4,  5,  6,  7]],\n",
       " \n",
       "        [[ 8,  9, 10, 11]],\n",
       " \n",
       "        [[12, 13, 14, 15]]]),\n",
       " (4, 1, 4),\n",
       " (4, 4))"
      ]
     },
     "execution_count": 42,
     "metadata": {},
     "output_type": "execute_result"
    }
   ],
   "source": [
    "arr3D = np.arange(16).reshape(4,1,4)\n",
    "arr2D = np.squeeze(arr3D, axis=1)\n",
    "arr3D,arr3D.shape,arr2D.shape"
   ]
  },
  {
   "cell_type": "code",
   "execution_count": 43,
   "id": "d2177419",
   "metadata": {},
   "outputs": [
    {
     "data": {
      "text/plain": [
       "'\\n    다차원 --> 1차원\\n    \\n    1.arrND.flatten() ==> 복사본 (깊은 복사)\\n    2.arrND.ravel()   ==> 얕은복사\\n    \\n'"
      ]
     },
     "execution_count": 43,
     "metadata": {},
     "output_type": "execute_result"
    }
   ],
   "source": [
    "'''\n",
    "    다차원 --> 1차원\n",
    "    \n",
    "    1.arrND.flatten() ==> 복사본 (깊은 복사)\n",
    "    2.arrND.ravel()   ==> 얕은복사\n",
    "    \n",
    "'''"
   ]
  },
  {
   "cell_type": "code",
   "execution_count": 45,
   "id": "09902ea0",
   "metadata": {},
   "outputs": [],
   "source": [
    "arr2D = np.array([[10],[20],[30]])"
   ]
  },
  {
   "cell_type": "code",
   "execution_count": 46,
   "id": "7a318df1",
   "metadata": {},
   "outputs": [
    {
     "data": {
      "text/plain": [
       "array([10, 20, 30])"
      ]
     },
     "execution_count": 46,
     "metadata": {},
     "output_type": "execute_result"
    }
   ],
   "source": [
    "arr2D.flatten()"
   ]
  },
  {
   "cell_type": "code",
   "execution_count": 49,
   "id": "f0ae7ebb",
   "metadata": {},
   "outputs": [
    {
     "data": {
      "text/plain": [
       "(array([[[ 0,  1,  2,  3]],\n",
       " \n",
       "        [[ 4,  5,  6,  7]],\n",
       " \n",
       "        [[ 8,  9, 10, 11]],\n",
       " \n",
       "        [[12, 13, 14, 15]]]),\n",
       " array([ 0,  1,  2,  3,  4,  5,  6,  7,  8,  9, 10, 11, 12, 13, 14, 15]))"
      ]
     },
     "execution_count": 49,
     "metadata": {},
     "output_type": "execute_result"
    }
   ],
   "source": [
    "arr3D = np.arange(16).reshape(4,1,4)\n",
    "arr3D,arr3D.flatten()"
   ]
  },
  {
   "cell_type": "code",
   "execution_count": null,
   "id": "8f72bef0",
   "metadata": {},
   "outputs": [],
   "source": []
  }
 ],
 "metadata": {
  "kernelspec": {
   "display_name": "Python 3 (ipykernel)",
   "language": "python",
   "name": "python3"
  },
  "language_info": {
   "codemirror_mode": {
    "name": "ipython",
    "version": 3
   },
   "file_extension": ".py",
   "mimetype": "text/x-python",
   "name": "python",
   "nbconvert_exporter": "python",
   "pygments_lexer": "ipython3",
   "version": "3.8.13"
  }
 },
 "nbformat": 4,
 "nbformat_minor": 5
}
