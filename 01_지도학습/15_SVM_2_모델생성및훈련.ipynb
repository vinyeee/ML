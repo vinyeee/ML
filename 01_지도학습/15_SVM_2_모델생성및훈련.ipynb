{
 "cells": [
  {
   "cell_type": "code",
   "execution_count": 1,
   "id": "9ad61f9e",
   "metadata": {},
   "outputs": [
    {
     "data": {
      "text/plain": [
       "'\\n    sklearn.datasets import make_blobs 이용해서 데이터셋 자동 생성\\n\\n\\n'"
      ]
     },
     "execution_count": 1,
     "metadata": {},
     "output_type": "execute_result"
    }
   ],
   "source": [
    "'''\n",
    "    sklearn.datasets import make_blobs 이용해서 데이터셋 자동 생성\n",
    "\n",
    "\n",
    "'''"
   ]
  },
  {
   "cell_type": "code",
   "execution_count": 3,
   "id": "bec71e78",
   "metadata": {},
   "outputs": [],
   "source": [
    "import numpy as np\n",
    "from sklearn.datasets import make_blobs"
   ]
  },
  {
   "cell_type": "markdown",
   "id": "1d28508a",
   "metadata": {},
   "source": [
    "### 1. 데이터수집"
   ]
  },
  {
   "cell_type": "code",
   "execution_count": 4,
   "id": "ae7c907c",
   "metadata": {},
   "outputs": [
    {
     "data": {
      "text/plain": [
       "(array([[ 9.24222414,  1.36290933],\n",
       "        [ 9.17124955,  3.52485535],\n",
       "        [ 8.84264231,  1.29144424],\n",
       "        [ 9.13144602,  0.15235637],\n",
       "        [ 8.66686663,  0.93996493],\n",
       "        [ 8.76869749,  1.19960487],\n",
       "        [10.45227689,  1.14179259],\n",
       "        [ 9.4874227 ,  3.93018752],\n",
       "        [ 9.55834394,  4.10909742],\n",
       "        [10.03578098,  4.41764995],\n",
       "        [ 9.70226758,  0.96771277],\n",
       "        [ 9.53292197,  5.29136138],\n",
       "        [ 8.90512626,  4.03222184],\n",
       "        [ 8.91604215,  5.30752241],\n",
       "        [ 9.42054325,  0.3401709 ],\n",
       "        [ 9.55313298,  1.11077156],\n",
       "        [ 9.01498386,  1.21587064],\n",
       "        [ 8.84910095,  0.97186135],\n",
       "        [ 9.73389792,  0.02420705],\n",
       "        [ 9.1891148 ,  1.54564628],\n",
       "        [ 9.27524446,  1.34568829],\n",
       "        [ 9.85130417,  4.30586485],\n",
       "        [ 9.0167434 ,  1.24393257],\n",
       "        [ 9.70857663,  4.44654264],\n",
       "        [10.69197928,  4.47249157],\n",
       "        [ 9.4779887 ,  4.39064298],\n",
       "        [ 9.2024951 ,  1.34290093],\n",
       "        [10.14364725,  4.26904052],\n",
       "        [ 9.00096813,  4.51145554],\n",
       "        [ 9.6022578 ,  3.81543147],\n",
       "        [ 8.78780476,  1.36356316],\n",
       "        [ 9.9310365 ,  4.5579437 ],\n",
       "        [10.38453221,  1.40206546],\n",
       "        [ 8.76218865,  1.12014356],\n",
       "        [ 9.88910809,  4.20871461],\n",
       "        [10.08959651,  3.97249761],\n",
       "        [ 8.9815029 ,  4.43675221],\n",
       "        [ 9.5067218 ,  0.37090667],\n",
       "        [ 9.64993162,  0.90065152],\n",
       "        [10.15847055,  0.26416219],\n",
       "        [ 9.47246094,  4.3142839 ],\n",
       "        [ 9.20577794,  4.21058757],\n",
       "        [ 9.03715314,  1.71813465],\n",
       "        [ 9.06431724,  4.38602523],\n",
       "        [ 9.3645999 , -0.23439183],\n",
       "        [ 9.92101223,  4.12326894],\n",
       "        [ 8.26379956,  3.99247803],\n",
       "        [ 8.72592004,  4.57441248],\n",
       "        [ 9.82281075,  4.62169649],\n",
       "        [10.18677564,  0.38823891]]),\n",
       " array([0, 1, 0, 0, 0, 0, 0, 1, 1, 1, 0, 1, 1, 1, 0, 0, 0, 0, 0, 0, 0, 1,\n",
       "        0, 1, 1, 1, 0, 1, 1, 1, 0, 1, 0, 0, 1, 1, 1, 0, 0, 0, 1, 1, 0, 1,\n",
       "        0, 1, 1, 1, 1, 0]))"
      ]
     },
     "execution_count": 4,
     "metadata": {},
     "output_type": "execute_result"
    }
   ],
   "source": [
    "X,y = make_blobs(n_samples=50,n_features=2, centers=2, cluster_std=0.5,random_state=4)\n",
    "X,y #centers 는 종류 class"
   ]
  },
  {
   "cell_type": "markdown",
   "id": "f1e8d729",
   "metadata": {},
   "source": [
    "### 시각화"
   ]
  },
  {
   "cell_type": "code",
   "execution_count": 5,
   "id": "9d11f777",
   "metadata": {},
   "outputs": [],
   "source": [
    "import matplotlib.pyplot as plt\n",
    "%matplotlib inline"
   ]
  },
  {
   "cell_type": "code",
   "execution_count": 13,
   "id": "a44b1498",
   "metadata": {
    "scrolled": true
   },
   "outputs": [
    {
     "data": {
      "image/png": "[encoded data removed]",
      "text/plain": [
       "<Figure size 640x480 with 1 Axes>"
      ]
     },
     "metadata": {},
     "output_type": "display_data"
    }
   ],
   "source": [
    "plt.scatter(X[y == 0, 0], X[y == 0, 1], marker='o', label=\"0 label\")\n",
    "plt.scatter(X[y == 1, 0], X[y == 1, 1], marker='x', label=\"1 label\")\n",
    "plt.xlabel(\"x1\")\n",
    "plt.ylabel(\"x2\")\n",
    "plt.legend()\n",
    "plt.title(\"train data\")\n",
    "plt.show()"
   ]
  },
  {
   "cell_type": "markdown",
   "id": "21debf91",
   "metadata": {},
   "source": [
    "### 2. 모델 생성 및 훈련"
   ]
  },
  {
   "cell_type": "code",
   "execution_count": 9,
   "id": "45f3346e",
   "metadata": {},
   "outputs": [],
   "source": [
    "from sklearn.svm import SVC"
   ]
  },
  {
   "cell_type": "code",
   "execution_count": 12,
   "id": "ac0b2d83",
   "metadata": {},
   "outputs": [
    {
     "data": {
      "text/html": [
       "<style>#sk-container-id-1 {color: black;background-color: white;}#sk-container-id-1 pre{padding: 0;}#sk-container-id-1 div.sk-toggleable {background-color: white;}#sk-container-id-1 label.sk-toggleable__label {cursor: pointer;display: block;width: 100%;margin-bottom: 0;padding: 0.3em;box-sizing: border-box;text-align: center;}#sk-container-id-1 label.sk-toggleable__label-arrow:before {content: \"▸\";float: left;margin-right: 0.25em;color: #696969;}#sk-container-id-1 label.sk-toggleable__label-arrow:hover:before {color: black;}#sk-container-id-1 div.sk-estimator:hover label.sk-toggleable__label-arrow:before {color: black;}#sk-container-id-1 div.sk-toggleable__content {max-height: 0;max-width: 0;overflow: hidden;text-align: left;background-color: #f0f8ff;}#sk-container-id-1 div.sk-toggleable__content pre {margin: 0.2em;color: black;border-radius: 0.25em;background-color: #f0f8ff;}#sk-container-id-1 input.sk-toggleable__control:checked~div.sk-toggleable__content {max-height: 200px;max-width: 100%;overflow: auto;}#sk-container-id-1 input.sk-toggleable__control:checked~label.sk-toggleable__label-arrow:before {content: \"▾\";}#sk-container-id-1 div.sk-estimator input.sk-toggleable__control:checked~label.sk-toggleable__label {background-color: #d4ebff;}#sk-container-id-1 div.sk-label input.sk-toggleable__control:checked~label.sk-toggleable__label {background-color: #d4ebff;}#sk-container-id-1 input.sk-hidden--visually {border: 0;clip: rect(1px 1px 1px 1px);clip: rect(1px, 1px, 1px, 1px);height: 1px;margin: -1px;overflow: hidden;padding: 0;position: absolute;width: 1px;}#sk-container-id-1 div.sk-estimator {font-family: monospace;background-color: #f0f8ff;border: 1px dotted black;border-radius: 0.25em;box-sizing: border-box;margin-bottom: 0.5em;}#sk-container-id-1 div.sk-estimator:hover {background-color: #d4ebff;}#sk-container-id-1 div.sk-parallel-item::after {content: \"\";width: 100%;border-bottom: 1px solid gray;flex-grow: 1;}#sk-container-id-1 div.sk-label:hover label.sk-toggleable__label {background-color: #d4ebff;}#sk-container-id-1 div.sk-serial::before {content: \"\";position: absolute;border-left: 1px solid gray;box-sizing: border-box;top: 0;bottom: 0;left: 50%;z-index: 0;}#sk-container-id-1 div.sk-serial {display: flex;flex-direction: column;align-items: center;background-color: white;padding-right: 0.2em;padding-left: 0.2em;position: relative;}#sk-container-id-1 div.sk-item {position: relative;z-index: 1;}#sk-container-id-1 div.sk-parallel {display: flex;align-items: stretch;justify-content: center;background-color: white;position: relative;}#sk-container-id-1 div.sk-item::before, #sk-container-id-1 div.sk-parallel-item::before {content: \"\";position: absolute;border-left: 1px solid gray;box-sizing: border-box;top: 0;bottom: 0;left: 50%;z-index: -1;}#sk-container-id-1 div.sk-parallel-item {display: flex;flex-direction: column;z-index: 1;position: relative;background-color: white;}#sk-container-id-1 div.sk-parallel-item:first-child::after {align-self: flex-end;width: 50%;}#sk-container-id-1 div.sk-parallel-item:last-child::after {align-self: flex-start;width: 50%;}#sk-container-id-1 div.sk-parallel-item:only-child::after {width: 0;}#sk-container-id-1 div.sk-dashed-wrapped {border: 1px dashed gray;margin: 0 0.4em 0.5em 0.4em;box-sizing: border-box;padding-bottom: 0.4em;background-color: white;}#sk-container-id-1 div.sk-label label {font-family: monospace;font-weight: bold;display: inline-block;line-height: 1.2em;}#sk-container-id-1 div.sk-label-container {text-align: center;}#sk-container-id-1 div.sk-container {/* jupyter's `normalize.less` sets `[hidden] { display: none; }` but bootstrap.min.css set `[hidden] { display: none !important; }` so we also need the `!important` here to be able to override the default hidden behavior on the sphinx rendered scikit-learn.org. See: https://github.com/scikit-learn/scikit-learn/issues/21755 */display: inline-block !important;position: relative;}#sk-container-id-1 div.sk-text-repr-fallback {display: none;}</style><div id=\"sk-container-id-1\" class=\"sk-top-container\"><div class=\"sk-text-repr-fallback\"><pre>SVC(kernel=&#x27;linear&#x27;)</pre><b>In a Jupyter environment, please rerun this cell to show the HTML representation or trust the notebook. <br />On GitHub, the HTML representation is unable to render, please try loading this page with nbviewer.org.</b></div><div class=\"sk-container\" hidden><div class=\"sk-item\"><div class=\"sk-estimator sk-toggleable\"><input class=\"sk-toggleable__control sk-hidden--visually\" id=\"sk-estimator-id-1\" type=\"checkbox\" checked><label for=\"sk-estimator-id-1\" class=\"sk-toggleable__label sk-toggleable__label-arrow\">SVC</label><div class=\"sk-toggleable__content\"><pre>SVC(kernel=&#x27;linear&#x27;)</pre></div></div></div></div></div>"
      ],
      "text/plain": [
       "SVC(kernel='linear')"
      ]
     },
     "execution_count": 12,
     "metadata": {},
     "output_type": "execute_result"
    }
   ],
   "source": [
    "model1 = SVC(kernel='linear',C=1.0)\n",
    "model1.fit(X,y)"
   ]
  },
  {
   "cell_type": "code",
   "execution_count": 14,
   "id": "f732943c",
   "metadata": {},
   "outputs": [
    {
     "data": {
      "text/plain": [
       "array([0, 1])"
      ]
     },
     "execution_count": 14,
     "metadata": {},
     "output_type": "execute_result"
    }
   ],
   "source": [
    "new_data = [[10,2],[8.7,2.8]]\n",
    "pred=model1.predict(new_data)\n",
    "pred"
   ]
  },
  {
   "cell_type": "code",
   "execution_count": 16,
   "id": "2ce6622e",
   "metadata": {},
   "outputs": [
    {
     "data": {
      "image/png": "[encoded data removed]",
      "text/plain": [
       "<Figure size 640x480 with 1 Axes>"
      ]
     },
     "metadata": {},
     "output_type": "display_data"
    }
   ],
   "source": [
    "plt.scatter(X[y == 0, 0], X[y == 0, 1], marker='o', label=\"0 label\")\n",
    "plt.scatter(X[y == 1, 0], X[y == 1, 1], marker='x', label=\"1 label\")\n",
    "plt.scatter(10,2,marker='^',s=100)\n",
    "plt.scatter(8.7,2.8,marker='^',s=100)\n",
    "plt.xlabel(\"x1\")\n",
    "plt.ylabel(\"x2\")\n",
    "plt.legend()\n",
    "plt.title(\"train data\")\n",
    "plt.show()"
   ]
  }
 ],
 "metadata": {
  "kernelspec": {
   "display_name": "Python 3 (ipykernel)",
   "language": "python",
   "name": "python3"
  },
  "language_info": {
   "codemirror_mode": {
    "name": "ipython",
    "version": 3
   },
   "file_extension": ".py",
   "mimetype": "text/x-python",
   "name": "python",
   "nbconvert_exporter": "python",
   "pygments_lexer": "ipython3",
   "version": "3.8.13"
  }
 },
 "nbformat": 4,
 "nbformat_minor": 5
}
