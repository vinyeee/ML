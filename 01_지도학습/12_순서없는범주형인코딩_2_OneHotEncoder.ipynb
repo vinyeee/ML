{
 "cells": [
  {
   "cell_type": "code",
   "execution_count": 1,
   "id": "dae9a676",
   "metadata": {},
   "outputs": [
    {
     "data": {
      "text/plain": [
       "\"\\n\\n     인코딩 방법\\n     \\n     1. 레이블 인코딩\\n     - LabelEncoder API 이용\\n         fit(), transform()\\n         \\n         예> ['고양이','강아지','새']-->[0,1,2]\\n         \\n             단점: 몇몇 ML 알고리즘은 변경된 숫자 [0,1,2]값을 분류라 인식하지 않고\\n             내부적으로 0이 1보다 작기 때문에 가중치 값을 더 부여 할 수 있다. 따라서 예측성능이 떨어진다.\\n             \\n             \\n     \\n     2. 원-핫 인코딩\\n     - OneHotEnoder API 이용\\n        fit(), transform()\\n        \\n        예> ['고양이','강아지','새'] --> 고양이는 1로 나머지 모두 0 \\n                                     --> 강아지는 1로 나머지 모두 0 \\n                                     --> 새는 1로 나머지 모두 0\\n                                     \\n                            \\n    - 반드시 입력데이터는 2차원\\n\""
      ]
     },
     "execution_count": 1,
     "metadata": {},
     "output_type": "execute_result"
    }
   ],
   "source": [
    "'''\n",
    "\n",
    "     인코딩 방법\n",
    "     \n",
    "     1. 레이블 인코딩\n",
    "     - LabelEncoder API 이용\n",
    "         fit(), transform()\n",
    "         \n",
    "         예> ['고양이','강아지','새']-->[0,1,2]\n",
    "         \n",
    "             단점: 몇몇 ML 알고리즘은 변경된 숫자 [0,1,2]값을 분류라 인식하지 않고\n",
    "             내부적으로 0이 1보다 작기 때문에 가중치 값을 더 부여 할 수 있다. 따라서 예측성능이 떨어진다.\n",
    "             \n",
    "             \n",
    "     \n",
    "     2. 원-핫 인코딩\n",
    "     - OneHotEnoder API 이용\n",
    "        fit(), transform()\n",
    "        \n",
    "        예> ['고양이','강아지','새'] --> 고양이는 1로 나머지 모두 0 \n",
    "                                     --> 강아지는 1로 나머지 모두 0 \n",
    "                                     --> 새는 1로 나머지 모두 0\n",
    "                                     \n",
    "                            \n",
    "    - 반드시 입력데이터는 2차원\n",
    "'''"
   ]
  },
  {
   "cell_type": "code",
   "execution_count": 2,
   "id": "2e8a9047",
   "metadata": {},
   "outputs": [],
   "source": [
    "import numpy as np\n",
    "import pandas as pd"
   ]
  },
  {
   "cell_type": "markdown",
   "id": "6964869e",
   "metadata": {},
   "source": [
    "###  2. 원 - 핫 인코더"
   ]
  },
  {
   "cell_type": "code",
   "execution_count": 3,
   "id": "6c8dfca4",
   "metadata": {},
   "outputs": [],
   "source": [
    "from sklearn.preprocessing import OneHotEncoder"
   ]
  },
  {
   "cell_type": "code",
   "execution_count": 5,
   "id": "298d420b",
   "metadata": {},
   "outputs": [
    {
     "data": {
      "text/plain": [
       "array([['cat'],\n",
       "       ['dog'],\n",
       "       ['bird']], dtype='<U4')"
      ]
     },
     "execution_count": 5,
     "metadata": {},
     "output_type": "execute_result"
    }
   ],
   "source": [
    "data = ['cat', 'dog', 'bird']\n",
    "data = np.array(data)\n",
    "#array(['cat', 'dog', 'bird'], dtype='<U4')\n",
    "\n",
    "data = data[...,np.newaxis]\n",
    "data\n"
   ]
  },
  {
   "cell_type": "code",
   "execution_count": 7,
   "id": "c1166030",
   "metadata": {},
   "outputs": [
    {
     "data": {
      "text/plain": [
       "<3x3 sparse matrix of type '<class 'numpy.float64'>'\n",
       "\twith 3 stored elements in Compressed Sparse Row format>"
      ]
     },
     "execution_count": 7,
     "metadata": {},
     "output_type": "execute_result"
    }
   ],
   "source": [
    "### 가. fit()과 transform() 따로 구현\n",
    "encoder = OneHotEncoder()\n",
    "encoder.fit(data)\n",
    "result = encoder.transform(data)\n",
    "result"
   ]
  },
  {
   "cell_type": "code",
   "execution_count": 8,
   "id": "766633df",
   "metadata": {},
   "outputs": [
    {
     "data": {
      "text/plain": [
       "array([[0., 1., 0.],\n",
       "       [0., 0., 1.],\n",
       "       [1., 0., 0.]])"
      ]
     },
     "execution_count": 8,
     "metadata": {},
     "output_type": "execute_result"
    }
   ],
   "source": [
    "result.toarray()"
   ]
  },
  {
   "cell_type": "code",
   "execution_count": 9,
   "id": "92d06127",
   "metadata": {},
   "outputs": [
    {
     "data": {
      "text/plain": [
       "array([['cat'],\n",
       "       ['dog'],\n",
       "       ['bird']], dtype='<U4')"
      ]
     },
     "execution_count": 9,
     "metadata": {},
     "output_type": "execute_result"
    }
   ],
   "source": [
    "### 원래값\n",
    "encoder.inverse_transform(result)"
   ]
  },
  {
   "cell_type": "code",
   "execution_count": 10,
   "id": "6af39c5c",
   "metadata": {},
   "outputs": [],
   "source": [
    "### pandas에서도 get_dummies() 활용하여 원-핫 인코딩 가능하다."
   ]
  },
  {
   "cell_type": "code",
   "execution_count": 11,
   "id": "94bb9e89",
   "metadata": {},
   "outputs": [
    {
     "data": {
      "text/html": [
       "<div>\n",
       "<style scoped>\n",
       "    .dataframe tbody tr th:only-of-type {\n",
       "        vertical-align: middle;\n",
       "    }\n",
       "\n",
       "    .dataframe tbody tr th {\n",
       "        vertical-align: top;\n",
       "    }\n",
       "\n",
       "    .dataframe thead th {\n",
       "        text-align: right;\n",
       "    }\n",
       "</style>\n",
       "<table border=\"1\" class=\"dataframe\">\n",
       "  <thead>\n",
       "    <tr style=\"text-align: right;\">\n",
       "      <th></th>\n",
       "      <th>pet</th>\n",
       "    </tr>\n",
       "  </thead>\n",
       "  <tbody>\n",
       "    <tr>\n",
       "      <th>0</th>\n",
       "      <td>cat</td>\n",
       "    </tr>\n",
       "    <tr>\n",
       "      <th>1</th>\n",
       "      <td>dog</td>\n",
       "    </tr>\n",
       "    <tr>\n",
       "      <th>2</th>\n",
       "      <td>bird</td>\n",
       "    </tr>\n",
       "  </tbody>\n",
       "</table>\n",
       "</div>"
      ],
      "text/plain": [
       "    pet\n",
       "0   cat\n",
       "1   dog\n",
       "2  bird"
      ]
     },
     "execution_count": 11,
     "metadata": {},
     "output_type": "execute_result"
    }
   ],
   "source": [
    "data = ['cat','dog','bird']\n",
    "df = pd.DataFrame({'pet':data})\n",
    "df"
   ]
  },
  {
   "cell_type": "code",
   "execution_count": 12,
   "id": "4bc35584",
   "metadata": {},
   "outputs": [
    {
     "data": {
      "text/html": [
       "<div>\n",
       "<style scoped>\n",
       "    .dataframe tbody tr th:only-of-type {\n",
       "        vertical-align: middle;\n",
       "    }\n",
       "\n",
       "    .dataframe tbody tr th {\n",
       "        vertical-align: top;\n",
       "    }\n",
       "\n",
       "    .dataframe thead th {\n",
       "        text-align: right;\n",
       "    }\n",
       "</style>\n",
       "<table border=\"1\" class=\"dataframe\">\n",
       "  <thead>\n",
       "    <tr style=\"text-align: right;\">\n",
       "      <th></th>\n",
       "      <th>pet_bird</th>\n",
       "      <th>pet_cat</th>\n",
       "      <th>pet_dog</th>\n",
       "    </tr>\n",
       "  </thead>\n",
       "  <tbody>\n",
       "    <tr>\n",
       "      <th>0</th>\n",
       "      <td>0</td>\n",
       "      <td>1</td>\n",
       "      <td>0</td>\n",
       "    </tr>\n",
       "    <tr>\n",
       "      <th>1</th>\n",
       "      <td>0</td>\n",
       "      <td>0</td>\n",
       "      <td>1</td>\n",
       "    </tr>\n",
       "    <tr>\n",
       "      <th>2</th>\n",
       "      <td>1</td>\n",
       "      <td>0</td>\n",
       "      <td>0</td>\n",
       "    </tr>\n",
       "  </tbody>\n",
       "</table>\n",
       "</div>"
      ],
      "text/plain": [
       "   pet_bird  pet_cat  pet_dog\n",
       "0         0        1        0\n",
       "1         0        0        1\n",
       "2         1        0        0"
      ]
     },
     "execution_count": 12,
     "metadata": {},
     "output_type": "execute_result"
    }
   ],
   "source": [
    "pd.get_dummies(df)"
   ]
  }
 ],
 "metadata": {
  "kernelspec": {
   "display_name": "Python 3 (ipykernel)",
   "language": "python",
   "name": "python3"
  },
  "language_info": {
   "codemirror_mode": {
    "name": "ipython",
    "version": 3
   },
   "file_extension": ".py",
   "mimetype": "text/x-python",
   "name": "python",
   "nbconvert_exporter": "python",
   "pygments_lexer": "ipython3",
   "version": "3.8.13"
  }
 },
 "nbformat": 4,
 "nbformat_minor": 5
}
