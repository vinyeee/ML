{
 "cells": [
  {
   "cell_type": "code",
   "execution_count": 1,
   "id": "a92a2fea",
   "metadata": {},
   "outputs": [],
   "source": [
    "import numpy as np\n",
    "import pandas as pd"
   ]
  },
  {
   "cell_type": "code",
   "execution_count": 2,
   "id": "baed8978",
   "metadata": {},
   "outputs": [],
   "source": [
    "a = [1,2,3,4,5,6]\n",
    "b = [1,4,2,8,16,32]\n",
    "c = [6,5,4,3,2,1]"
   ]
  },
  {
   "cell_type": "code",
   "execution_count": 3,
   "id": "9925888e",
   "metadata": {},
   "outputs": [
    {
     "data": {
      "text/html": [
       "<div>\n",
       "<style scoped>\n",
       "    .dataframe tbody tr th:only-of-type {\n",
       "        vertical-align: middle;\n",
       "    }\n",
       "\n",
       "    .dataframe tbody tr th {\n",
       "        vertical-align: top;\n",
       "    }\n",
       "\n",
       "    .dataframe thead th {\n",
       "        text-align: right;\n",
       "    }\n",
       "</style>\n",
       "<table border=\"1\" class=\"dataframe\">\n",
       "  <thead>\n",
       "    <tr style=\"text-align: right;\">\n",
       "      <th></th>\n",
       "      <th>a</th>\n",
       "      <th>b</th>\n",
       "      <th>c</th>\n",
       "    </tr>\n",
       "  </thead>\n",
       "  <tbody>\n",
       "    <tr>\n",
       "      <th>0</th>\n",
       "      <td>1</td>\n",
       "      <td>1</td>\n",
       "      <td>6</td>\n",
       "    </tr>\n",
       "    <tr>\n",
       "      <th>1</th>\n",
       "      <td>2</td>\n",
       "      <td>4</td>\n",
       "      <td>5</td>\n",
       "    </tr>\n",
       "    <tr>\n",
       "      <th>2</th>\n",
       "      <td>3</td>\n",
       "      <td>2</td>\n",
       "      <td>4</td>\n",
       "    </tr>\n",
       "    <tr>\n",
       "      <th>3</th>\n",
       "      <td>4</td>\n",
       "      <td>8</td>\n",
       "      <td>3</td>\n",
       "    </tr>\n",
       "    <tr>\n",
       "      <th>4</th>\n",
       "      <td>5</td>\n",
       "      <td>16</td>\n",
       "      <td>2</td>\n",
       "    </tr>\n",
       "    <tr>\n",
       "      <th>5</th>\n",
       "      <td>6</td>\n",
       "      <td>32</td>\n",
       "      <td>1</td>\n",
       "    </tr>\n",
       "  </tbody>\n",
       "</table>\n",
       "</div>"
      ],
      "text/plain": [
       "   a   b  c\n",
       "0  1   1  6\n",
       "1  2   4  5\n",
       "2  3   2  4\n",
       "3  4   8  3\n",
       "4  5  16  2\n",
       "5  6  32  1"
      ]
     },
     "execution_count": 3,
     "metadata": {},
     "output_type": "execute_result"
    }
   ],
   "source": [
    "df = pd.DataFrame({\"a\":a, \"b\":b ,\"c\":c})\n",
    "df"
   ]
  },
  {
   "cell_type": "code",
   "execution_count": 4,
   "id": "e5bbc51f",
   "metadata": {},
   "outputs": [
    {
     "data": {
      "text/html": [
       "<div>\n",
       "<style scoped>\n",
       "    .dataframe tbody tr th:only-of-type {\n",
       "        vertical-align: middle;\n",
       "    }\n",
       "\n",
       "    .dataframe tbody tr th {\n",
       "        vertical-align: top;\n",
       "    }\n",
       "\n",
       "    .dataframe thead th {\n",
       "        text-align: right;\n",
       "    }\n",
       "</style>\n",
       "<table border=\"1\" class=\"dataframe\">\n",
       "  <thead>\n",
       "    <tr style=\"text-align: right;\">\n",
       "      <th></th>\n",
       "      <th>a</th>\n",
       "      <th>b</th>\n",
       "      <th>c</th>\n",
       "    </tr>\n",
       "  </thead>\n",
       "  <tbody>\n",
       "    <tr>\n",
       "      <th>a</th>\n",
       "      <td>1.000000</td>\n",
       "      <td>0.887739</td>\n",
       "      <td>-1.000000</td>\n",
       "    </tr>\n",
       "    <tr>\n",
       "      <th>b</th>\n",
       "      <td>0.887739</td>\n",
       "      <td>1.000000</td>\n",
       "      <td>-0.887739</td>\n",
       "    </tr>\n",
       "    <tr>\n",
       "      <th>c</th>\n",
       "      <td>-1.000000</td>\n",
       "      <td>-0.887739</td>\n",
       "      <td>1.000000</td>\n",
       "    </tr>\n",
       "  </tbody>\n",
       "</table>\n",
       "</div>"
      ],
      "text/plain": [
       "          a         b         c\n",
       "a  1.000000  0.887739 -1.000000\n",
       "b  0.887739  1.000000 -0.887739\n",
       "c -1.000000 -0.887739  1.000000"
      ]
     },
     "execution_count": 4,
     "metadata": {},
     "output_type": "execute_result"
    }
   ],
   "source": [
    "df.corr()"
   ]
  },
  {
   "cell_type": "code",
   "execution_count": 5,
   "id": "f6614b98",
   "metadata": {},
   "outputs": [],
   "source": [
    "# 상관계수:  피쳐들간의 선형적인 상관관계 정도를 알려준다\n",
    "# a 값이 증가될 때 c는 완전히 감소된다.\n",
    "# a 값이 증가될 때 b는 완전히는 아니지만 대략적으로 증가된다.\n",
    "# 이러한 관계를 수치적으로 표현 ==> 상관계수라고 한다."
   ]
  },
  {
   "cell_type": "code",
   "execution_count": 6,
   "id": "2a78ab6d",
   "metadata": {},
   "outputs": [
    {
     "data": {
      "text/plain": [
       "'\\n# 피쳐가 여러개인 경우에는 피쳐들간의 상관관계인 상관계수를 확인하자.\\n  상관계수가 큰 피쳐들만 추출해서 시각화 또는 훈련에 참여시킬수 있다.\\n  \\n-피어슨 상관 계수(Pearson Correlation Coefficient ,PCC)란 \\n두 변수 X 와 Y 간의 선형 상관 관계를 계량화한 수치이다.\\n-+1과 -1 사이의 값\\n- +1은 완벽한 양의 선형 상관 관계\\n- 1은 완벽한 음의 선형 상관 관계\\n- 0은 선형 상관 관계 없음\\n==> 피쳐간의 영향력 여부 판단 기준\\n'"
      ]
     },
     "execution_count": 6,
     "metadata": {},
     "output_type": "execute_result"
    }
   ],
   "source": [
    "\n",
    "'''\n",
    "# 피쳐가 여러개인 경우에는 피쳐들간의 상관관계인 상관계수를 확인하자.\n",
    "  상관계수가 큰 피쳐들만 추출해서 시각화 또는 훈련에 참여시킬수 있다.\n",
    "  \n",
    "-피어슨 상관 계수(Pearson Correlation Coefficient ,PCC)란 \n",
    "두 변수 X 와 Y 간의 선형 상관 관계를 계량화한 수치이다.\n",
    "-+1과 -1 사이의 값\n",
    "- +1은 완벽한 양의 선형 상관 관계\n",
    "- 1은 완벽한 음의 선형 상관 관계\n",
    "- 0은 선형 상관 관계 없음\n",
    "==> 피쳐간의 영향력 여부 판단 기준\n",
    "'''"
   ]
  },
  {
   "cell_type": "code",
   "execution_count": 7,
   "id": "52ec9de9",
   "metadata": {},
   "outputs": [
    {
     "name": "stdout",
     "output_type": "stream",
     "text": [
      "Requirement already satisfied: seaborn in c:\\users\\yb\\appdata\\roaming\\python\\python38\\site-packages (0.12.0)\n",
      "Requirement already satisfied: numpy>=1.17 in c:\\users\\yb\\anaconda3\\envs\\tf24\\lib\\site-packages (from seaborn) (1.23.1)\n",
      "Requirement already satisfied: matplotlib>=3.1 in c:\\users\\yb\\appdata\\roaming\\python\\python38\\site-packages (from seaborn) (3.6.0)\n",
      "Requirement already satisfied: pandas>=0.25 in c:\\users\\yb\\appdata\\roaming\\python\\python38\\site-packages (from seaborn) (1.5.0)\n",
      "Requirement already satisfied: python-dateutil>=2.7 in c:\\users\\yb\\appdata\\roaming\\python\\python38\\site-packages (from matplotlib>=3.1->seaborn) (2.8.2)\n",
      "Requirement already satisfied: contourpy>=1.0.1 in c:\\users\\yb\\appdata\\roaming\\python\\python38\\site-packages (from matplotlib>=3.1->seaborn) (1.0.5)\n",
      "Requirement already satisfied: kiwisolver>=1.0.1 in c:\\users\\yb\\appdata\\roaming\\python\\python38\\site-packages (from matplotlib>=3.1->seaborn) (1.4.4)\n",
      "Requirement already satisfied: cycler>=0.10 in c:\\users\\yb\\appdata\\roaming\\python\\python38\\site-packages (from matplotlib>=3.1->seaborn) (0.11.0)\n",
      "Requirement already satisfied: pyparsing>=2.2.1 in c:\\users\\yb\\appdata\\roaming\\python\\python38\\site-packages (from matplotlib>=3.1->seaborn) (3.0.9)\n",
      "Requirement already satisfied: pillow>=6.2.0 in c:\\users\\yb\\appdata\\roaming\\python\\python38\\site-packages (from matplotlib>=3.1->seaborn) (9.2.0)\n",
      "Requirement already satisfied: fonttools>=4.22.0 in c:\\users\\yb\\appdata\\roaming\\python\\python38\\site-packages (from matplotlib>=3.1->seaborn) (4.37.4)\n",
      "Requirement already satisfied: packaging>=20.0 in c:\\users\\yb\\appdata\\roaming\\python\\python38\\site-packages (from matplotlib>=3.1->seaborn) (21.3)\n",
      "Requirement already satisfied: pytz>=2020.1 in c:\\users\\yb\\appdata\\roaming\\python\\python38\\site-packages (from pandas>=0.25->seaborn) (2022.2.1)\n",
      "Requirement already satisfied: six>=1.5 in c:\\users\\yb\\appdata\\roaming\\python\\python38\\site-packages (from python-dateutil>=2.7->matplotlib>=3.1->seaborn) (1.16.0)\n"
     ]
    }
   ],
   "source": [
    "## 시각화 - heatmap\n",
    "!pip install seaborn"
   ]
  },
  {
   "cell_type": "code",
   "execution_count": 8,
   "id": "71d000bf",
   "metadata": {},
   "outputs": [
    {
     "data": {
      "image/png": "[encoded data removed]",
      "text/plain": [
       "<Figure size 1200x1200 with 2 Axes>"
      ]
     },
     "metadata": {},
     "output_type": "display_data"
    }
   ],
   "source": [
    "# heatmap\n",
    "import matplotlib.pyplot as plt\n",
    "import seaborn as sns\n",
    "%matplotlib inline\n",
    "colormap = plt.cm.gist_heat   #그래프의 색상 구성.\n",
    "plt.figure(figsize=(12,12))   #그래프의 크기.\n",
    "\n",
    "# 그래프의 속성을 결정합니다. vmax의 값을 0.9로 지정해 0.9에 가까울 수록 밝은 색으로 표시.\n",
    "sns.heatmap(df.corr(),linewidths=0.1,vmax=0.9, cmap=colormap, linecolor='white', annot=True)\n",
    "plt.show()\n"
   ]
  },
  {
   "cell_type": "code",
   "execution_count": null,
   "id": "2ba761a4",
   "metadata": {},
   "outputs": [],
   "source": []
  }
 ],
 "metadata": {
  "kernelspec": {
   "display_name": "Python 3 (ipykernel)",
   "language": "python",
   "name": "python3"
  },
  "language_info": {
   "codemirror_mode": {
    "name": "ipython",
    "version": 3
   },
   "file_extension": ".py",
   "mimetype": "text/x-python",
   "name": "python",
   "nbconvert_exporter": "python",
   "pygments_lexer": "ipython3",
   "version": "3.8.13"
  }
 },
 "nbformat": 4,
 "nbformat_minor": 5
}
