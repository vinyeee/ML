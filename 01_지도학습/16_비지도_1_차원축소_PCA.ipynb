{
 "cells": [
  {
   "cell_type": "code",
   "execution_count": 1,
   "id": "7baf52da",
   "metadata": {},
   "outputs": [
    {
     "data": {
      "text/plain": [
       "'\\n\\n    PCA \\n    \\n    - 4개의 피쳐를 모두 사용했을 때의 교차검증해서 score 값 확인\\n    - 2개의 피쳐로 차원 축소 후 교차검증해서 score 값 확인\\n    \\n\\n'"
      ]
     },
     "execution_count": 1,
     "metadata": {},
     "output_type": "execute_result"
    }
   ],
   "source": [
    "'''\n",
    "\n",
    "    PCA \n",
    "    \n",
    "    - 4개의 피쳐를 모두 사용했을 때의 교차검증해서 score 값 확인\n",
    "    - 2개의 피쳐로 차원 축소 후 교차검증해서 score 값 확인\n",
    "    \n",
    "\n",
    "'''"
   ]
  },
  {
   "cell_type": "code",
   "execution_count": 2,
   "id": "df67b1f5",
   "metadata": {},
   "outputs": [],
   "source": [
    "import pandas as pd\n",
    "import numpy as np"
   ]
  },
  {
   "cell_type": "markdown",
   "id": "8b482b89",
   "metadata": {},
   "source": [
    "### 1. 데이터 준비"
   ]
  },
  {
   "cell_type": "code",
   "execution_count": 4,
   "id": "708bd06b",
   "metadata": {},
   "outputs": [],
   "source": [
    "from sklearn.datasets import load_iris"
   ]
  },
  {
   "cell_type": "code",
   "execution_count": 5,
   "id": "956b8fb2",
   "metadata": {},
   "outputs": [],
   "source": [
    "iris = load_iris()"
   ]
  },
  {
   "cell_type": "code",
   "execution_count": 6,
   "id": "779b9493",
   "metadata": {},
   "outputs": [],
   "source": [
    "iris_data = iris.data\n",
    "iris_target = iris.target"
   ]
  },
  {
   "cell_type": "markdown",
   "id": "e8a7387b",
   "metadata": {},
   "source": [
    "### 2. 표준화"
   ]
  },
  {
   "cell_type": "code",
   "execution_count": 7,
   "id": "19f4ac89",
   "metadata": {},
   "outputs": [],
   "source": [
    "from sklearn.preprocessing  import StandardScaler"
   ]
  },
  {
   "cell_type": "code",
   "execution_count": 8,
   "id": "64431249",
   "metadata": {},
   "outputs": [],
   "source": [
    "sc = StandardScaler()\n",
    "sc.fit(iris_data)\n",
    "iris_data_scaled = sc.transform(iris_data)"
   ]
  },
  {
   "cell_type": "code",
   "execution_count": 10,
   "id": "b3d95536",
   "metadata": {},
   "outputs": [
    {
     "data": {
      "text/plain": [
       "(150, 4)"
      ]
     },
     "execution_count": 10,
     "metadata": {},
     "output_type": "execute_result"
    }
   ],
   "source": [
    "iris_data_scaled.shape # 원본은 4개의 피쳐"
   ]
  },
  {
   "cell_type": "markdown",
   "id": "2443de2a",
   "metadata": {},
   "source": [
    "### 3. 모델 생성"
   ]
  },
  {
   "cell_type": "code",
   "execution_count": 11,
   "id": "d0a4eab2",
   "metadata": {},
   "outputs": [],
   "source": [
    "from sklearn.ensemble import RandomForestClassifier"
   ]
  },
  {
   "cell_type": "code",
   "execution_count": 12,
   "id": "7d980a71",
   "metadata": {},
   "outputs": [],
   "source": [
    "rfc = RandomForestClassifier(random_state=1)"
   ]
  },
  {
   "cell_type": "markdown",
   "id": "cd680603",
   "metadata": {},
   "source": [
    "### 가. 차원 축소 전 교차검증 정확도"
   ]
  },
  {
   "cell_type": "code",
   "execution_count": 13,
   "id": "a05d416e",
   "metadata": {},
   "outputs": [],
   "source": [
    "from sklearn.model_selection import cross_val_score"
   ]
  },
  {
   "cell_type": "code",
   "execution_count": 14,
   "id": "a1b3645b",
   "metadata": {},
   "outputs": [
    {
     "data": {
      "text/plain": [
       "array([0.96666667, 0.96666667, 0.93333333, 0.96666667, 1.        ])"
      ]
     },
     "execution_count": 14,
     "metadata": {},
     "output_type": "execute_result"
    }
   ],
   "source": [
    "val_scores = cross_val_score(rfc,\n",
    "                             iris_data_scaled,\n",
    "                             iris_target, \n",
    "                             cv=5, \n",
    "                             scoring=\"accuracy\")\n",
    "val_scores"
   ]
  },
  {
   "cell_type": "code",
   "execution_count": 15,
   "id": "b7b313b4",
   "metadata": {},
   "outputs": [
    {
     "data": {
      "text/plain": [
       "0.9666666666666668"
      ]
     },
     "execution_count": 15,
     "metadata": {},
     "output_type": "execute_result"
    }
   ],
   "source": [
    "np.mean(val_scores)"
   ]
  },
  {
   "cell_type": "markdown",
   "id": "62eec45b",
   "metadata": {},
   "source": [
    "### 나. 차원축소후 교차검증 정확도"
   ]
  },
  {
   "cell_type": "code",
   "execution_count": 16,
   "id": "5c5d8e6c",
   "metadata": {},
   "outputs": [],
   "source": [
    "from sklearn.decomposition import PCA"
   ]
  },
  {
   "cell_type": "code",
   "execution_count": 17,
   "id": "1dff2556",
   "metadata": {},
   "outputs": [],
   "source": [
    "pca = PCA(n_components=2)\n",
    "pca.fit(iris_data_scaled)\n",
    "iris_pca = pca.transform(iris_data_scaled)"
   ]
  },
  {
   "cell_type": "code",
   "execution_count": 19,
   "id": "fa409baa",
   "metadata": {},
   "outputs": [
    {
     "data": {
      "text/plain": [
       "(150, 2)"
      ]
     },
     "execution_count": 19,
     "metadata": {},
     "output_type": "execute_result"
    }
   ],
   "source": [
    "iris_pca.shape  # 4개의 피쳐를 2개로 차원축소함"
   ]
  },
  {
   "cell_type": "code",
   "execution_count": 20,
   "id": "944e60e2",
   "metadata": {},
   "outputs": [
    {
     "data": {
      "text/plain": [
       "array([0.83333333, 0.93333333, 0.83333333, 0.9       , 1.        ])"
      ]
     },
     "execution_count": 20,
     "metadata": {},
     "output_type": "execute_result"
    }
   ],
   "source": [
    "val_scores = cross_val_score(rfc,\n",
    "                             iris_pca,\n",
    "                             iris_target, \n",
    "                             cv=5, \n",
    "                             scoring=\"accuracy\")\n",
    "val_scores"
   ]
  },
  {
   "cell_type": "code",
   "execution_count": 21,
   "id": "9a3d662e",
   "metadata": {},
   "outputs": [
    {
     "data": {
      "text/plain": [
       "0.9"
      ]
     },
     "execution_count": 21,
     "metadata": {},
     "output_type": "execute_result"
    }
   ],
   "source": [
    "np.mean(val_scores)"
   ]
  },
  {
   "cell_type": "code",
   "execution_count": 22,
   "id": "dbf69dd9",
   "metadata": {},
   "outputs": [
    {
     "data": {
      "text/plain": [
       "'\\n결론은 원본보다 pca 검증 score가  96%에서 90%정도 낮아졌지만 \\n4개의 속성이 2개로 (50% 정도 감소)감소한 것을 고려하면 PCA가 원본 데이터의 대표성(원본데이터의 고유한 특성)을 상당부분 유지된것으로 \\n확인할 수 있다.\\n'"
      ]
     },
     "execution_count": 22,
     "metadata": {},
     "output_type": "execute_result"
    }
   ],
   "source": [
    "'''\n",
    "결론은 원본보다 pca 검증 score가  96%에서 90%정도 낮아졌지만 \n",
    "4개의 속성이 2개로 (50% 정도 감소)감소한 것을 고려하면 PCA가 원본 데이터의 대표성(원본데이터의 고유한 특성)을 상당부분 유지된것으로 \n",
    "확인할 수 있다.\n",
    "'''"
   ]
  },
  {
   "cell_type": "markdown",
   "id": "fb1ad488",
   "metadata": {},
   "source": [
    "### 변동성 비율 ==> PCA가 원본 데이터의 대표성을 얼마나 잘 나타내는지를 수치화"
   ]
  },
  {
   "cell_type": "code",
   "execution_count": 24,
   "id": "50d0903d",
   "metadata": {},
   "outputs": [
    {
     "data": {
      "text/plain": [
       "array([0.72962445, 0.22850762])"
      ]
     },
     "execution_count": 24,
     "metadata": {},
     "output_type": "execute_result"
    }
   ],
   "source": [
    "pca.explained_variance_ratio_"
   ]
  },
  {
   "cell_type": "code",
   "execution_count": 25,
   "id": "cb613e0d",
   "metadata": {},
   "outputs": [
    {
     "data": {
      "text/plain": [
       "'\\n  PCA(2개의 피쳐)가 원본데이터의 분산정도를 95% 정도 대변할 수 있다.\\n'"
      ]
     },
     "execution_count": 25,
     "metadata": {},
     "output_type": "execute_result"
    }
   ],
   "source": [
    "'''\n",
    "  PCA(2개의 피쳐)가 원본데이터의 분산정도를 95% 정도 대변할 수 있다.\n",
    "'''"
   ]
  },
  {
   "cell_type": "code",
   "execution_count": 26,
   "id": "a129df86",
   "metadata": {},
   "outputs": [
    {
     "data": {
      "text/plain": [
       "(150, 4)"
      ]
     },
     "execution_count": 26,
     "metadata": {},
     "output_type": "execute_result"
    }
   ],
   "source": [
    "### 원본 데이터로 변경\n",
    "pca.inverse_transform(iris_pca).shape"
   ]
  }
 ],
 "metadata": {
  "kernelspec": {
   "display_name": "Python 3 (ipykernel)",
   "language": "python",
   "name": "python3"
  },
  "language_info": {
   "codemirror_mode": {
    "name": "ipython",
    "version": 3
   },
   "file_extension": ".py",
   "mimetype": "text/x-python",
   "name": "python",
   "nbconvert_exporter": "python",
   "pygments_lexer": "ipython3",
   "version": "3.8.13"
  }
 },
 "nbformat": 4,
 "nbformat_minor": 5
}
