{
 "cells": [
  {
   "cell_type": "code",
   "execution_count": 1,
   "id": "11891f6c",
   "metadata": {},
   "outputs": [
    {
     "data": {
      "text/plain": [
       "'\\n\\n    wine 분류\\n    \\n    1.0 4898 - white wine\\n    0.0 1599 - red wine\\n    \\n'"
      ]
     },
     "execution_count": 1,
     "metadata": {},
     "output_type": "execute_result"
    }
   ],
   "source": [
    "'''\n",
    "\n",
    "    wine 분류\n",
    "    \n",
    "    1.0 4898 - white wine\n",
    "    0.0 1599 - red wine\n",
    "    \n",
    "'''"
   ]
  },
  {
   "cell_type": "code",
   "execution_count": 2,
   "id": "16e4c7be",
   "metadata": {},
   "outputs": [],
   "source": [
    "import numpy as np\n",
    "import pandas as pd"
   ]
  },
  {
   "cell_type": "markdown",
   "id": "00a5db89",
   "metadata": {},
   "source": [
    "### 1. 데이터 준비"
   ]
  },
  {
   "cell_type": "code",
   "execution_count": 3,
   "id": "99301f6a",
   "metadata": {},
   "outputs": [
    {
     "data": {
      "text/html": [
       "<div>\n",
       "<style scoped>\n",
       "    .dataframe tbody tr th:only-of-type {\n",
       "        vertical-align: middle;\n",
       "    }\n",
       "\n",
       "    .dataframe tbody tr th {\n",
       "        vertical-align: top;\n",
       "    }\n",
       "\n",
       "    .dataframe thead th {\n",
       "        text-align: right;\n",
       "    }\n",
       "</style>\n",
       "<table border=\"1\" class=\"dataframe\">\n",
       "  <thead>\n",
       "    <tr style=\"text-align: right;\">\n",
       "      <th></th>\n",
       "      <th>alcohol</th>\n",
       "      <th>sugar</th>\n",
       "      <th>pH</th>\n",
       "      <th>class</th>\n",
       "    </tr>\n",
       "  </thead>\n",
       "  <tbody>\n",
       "    <tr>\n",
       "      <th>0</th>\n",
       "      <td>9.4</td>\n",
       "      <td>1.9</td>\n",
       "      <td>3.51</td>\n",
       "      <td>0.0</td>\n",
       "    </tr>\n",
       "    <tr>\n",
       "      <th>1</th>\n",
       "      <td>9.8</td>\n",
       "      <td>2.6</td>\n",
       "      <td>3.20</td>\n",
       "      <td>0.0</td>\n",
       "    </tr>\n",
       "    <tr>\n",
       "      <th>2</th>\n",
       "      <td>9.8</td>\n",
       "      <td>2.3</td>\n",
       "      <td>3.26</td>\n",
       "      <td>0.0</td>\n",
       "    </tr>\n",
       "    <tr>\n",
       "      <th>3</th>\n",
       "      <td>9.8</td>\n",
       "      <td>1.9</td>\n",
       "      <td>3.16</td>\n",
       "      <td>0.0</td>\n",
       "    </tr>\n",
       "    <tr>\n",
       "      <th>4</th>\n",
       "      <td>9.4</td>\n",
       "      <td>1.9</td>\n",
       "      <td>3.51</td>\n",
       "      <td>0.0</td>\n",
       "    </tr>\n",
       "  </tbody>\n",
       "</table>\n",
       "</div>"
      ],
      "text/plain": [
       "   alcohol  sugar    pH  class\n",
       "0      9.4    1.9  3.51    0.0\n",
       "1      9.8    2.6  3.20    0.0\n",
       "2      9.8    2.3  3.26    0.0\n",
       "3      9.8    1.9  3.16    0.0\n",
       "4      9.4    1.9  3.51    0.0"
      ]
     },
     "execution_count": 3,
     "metadata": {},
     "output_type": "execute_result"
    }
   ],
   "source": [
    "wine = pd.read_csv(r\"C:\\Users\\YB\\Desktop\\tf24_study\\01_지도학습\\kNN_wine분류_사이킷런API활용_수강생제공용\\wine.csv\")\n",
    "wine.head()"
   ]
  },
  {
   "cell_type": "code",
   "execution_count": 4,
   "id": "ce75138d",
   "metadata": {},
   "outputs": [
    {
     "data": {
      "text/plain": [
       "(6497, 4)"
      ]
     },
     "execution_count": 4,
     "metadata": {},
     "output_type": "execute_result"
    }
   ],
   "source": [
    "wine.shape"
   ]
  },
  {
   "cell_type": "code",
   "execution_count": 5,
   "id": "ad12839a",
   "metadata": {},
   "outputs": [
    {
     "data": {
      "text/plain": [
       "1.0    4898\n",
       "0.0    1599\n",
       "Name: class, dtype: int64"
      ]
     },
     "execution_count": 5,
     "metadata": {},
     "output_type": "execute_result"
    }
   ],
   "source": [
    "wine['class'].value_counts()"
   ]
  },
  {
   "cell_type": "code",
   "execution_count": 12,
   "id": "65085b4c",
   "metadata": {},
   "outputs": [
    {
     "data": {
      "text/html": [
       "<div>\n",
       "<style scoped>\n",
       "    .dataframe tbody tr th:only-of-type {\n",
       "        vertical-align: middle;\n",
       "    }\n",
       "\n",
       "    .dataframe tbody tr th {\n",
       "        vertical-align: top;\n",
       "    }\n",
       "\n",
       "    .dataframe thead th {\n",
       "        text-align: right;\n",
       "    }\n",
       "</style>\n",
       "<table border=\"1\" class=\"dataframe\">\n",
       "  <thead>\n",
       "    <tr style=\"text-align: right;\">\n",
       "      <th></th>\n",
       "      <th>alcohol</th>\n",
       "      <th>sugar</th>\n",
       "      <th>pH</th>\n",
       "      <th>class</th>\n",
       "      <th>label</th>\n",
       "    </tr>\n",
       "  </thead>\n",
       "  <tbody>\n",
       "    <tr>\n",
       "      <th>0</th>\n",
       "      <td>9.4</td>\n",
       "      <td>1.9</td>\n",
       "      <td>3.51</td>\n",
       "      <td>0.0</td>\n",
       "      <td>R</td>\n",
       "    </tr>\n",
       "    <tr>\n",
       "      <th>1</th>\n",
       "      <td>9.8</td>\n",
       "      <td>2.6</td>\n",
       "      <td>3.20</td>\n",
       "      <td>0.0</td>\n",
       "      <td>R</td>\n",
       "    </tr>\n",
       "    <tr>\n",
       "      <th>2</th>\n",
       "      <td>9.8</td>\n",
       "      <td>2.3</td>\n",
       "      <td>3.26</td>\n",
       "      <td>0.0</td>\n",
       "      <td>R</td>\n",
       "    </tr>\n",
       "    <tr>\n",
       "      <th>3</th>\n",
       "      <td>9.8</td>\n",
       "      <td>1.9</td>\n",
       "      <td>3.16</td>\n",
       "      <td>0.0</td>\n",
       "      <td>R</td>\n",
       "    </tr>\n",
       "    <tr>\n",
       "      <th>4</th>\n",
       "      <td>9.4</td>\n",
       "      <td>1.9</td>\n",
       "      <td>3.51</td>\n",
       "      <td>0.0</td>\n",
       "      <td>R</td>\n",
       "    </tr>\n",
       "    <tr>\n",
       "      <th>...</th>\n",
       "      <td>...</td>\n",
       "      <td>...</td>\n",
       "      <td>...</td>\n",
       "      <td>...</td>\n",
       "      <td>...</td>\n",
       "    </tr>\n",
       "    <tr>\n",
       "      <th>6492</th>\n",
       "      <td>11.2</td>\n",
       "      <td>1.6</td>\n",
       "      <td>3.27</td>\n",
       "      <td>1.0</td>\n",
       "      <td>W</td>\n",
       "    </tr>\n",
       "    <tr>\n",
       "      <th>6493</th>\n",
       "      <td>9.6</td>\n",
       "      <td>8.0</td>\n",
       "      <td>3.15</td>\n",
       "      <td>1.0</td>\n",
       "      <td>W</td>\n",
       "    </tr>\n",
       "    <tr>\n",
       "      <th>6494</th>\n",
       "      <td>9.4</td>\n",
       "      <td>1.2</td>\n",
       "      <td>2.99</td>\n",
       "      <td>1.0</td>\n",
       "      <td>W</td>\n",
       "    </tr>\n",
       "    <tr>\n",
       "      <th>6495</th>\n",
       "      <td>12.8</td>\n",
       "      <td>1.1</td>\n",
       "      <td>3.34</td>\n",
       "      <td>1.0</td>\n",
       "      <td>W</td>\n",
       "    </tr>\n",
       "    <tr>\n",
       "      <th>6496</th>\n",
       "      <td>11.8</td>\n",
       "      <td>0.8</td>\n",
       "      <td>3.26</td>\n",
       "      <td>1.0</td>\n",
       "      <td>W</td>\n",
       "    </tr>\n",
       "  </tbody>\n",
       "</table>\n",
       "<p>6497 rows × 5 columns</p>\n",
       "</div>"
      ],
      "text/plain": [
       "      alcohol  sugar    pH  class label\n",
       "0         9.4    1.9  3.51    0.0     R\n",
       "1         9.8    2.6  3.20    0.0     R\n",
       "2         9.8    2.3  3.26    0.0     R\n",
       "3         9.8    1.9  3.16    0.0     R\n",
       "4         9.4    1.9  3.51    0.0     R\n",
       "...       ...    ...   ...    ...   ...\n",
       "6492     11.2    1.6  3.27    1.0     W\n",
       "6493      9.6    8.0  3.15    1.0     W\n",
       "6494      9.4    1.2  2.99    1.0     W\n",
       "6495     12.8    1.1  3.34    1.0     W\n",
       "6496     11.8    0.8  3.26    1.0     W\n",
       "\n",
       "[6497 rows x 5 columns]"
      ]
     },
     "execution_count": 12,
     "metadata": {},
     "output_type": "execute_result"
    }
   ],
   "source": [
    "### label을 문자열로 인위적으로 변경\n",
    "wine['label'] = ['W' if x== 1 else 'R' for x in wine['class']]\n",
    "wine\n"
   ]
  },
  {
   "cell_type": "markdown",
   "id": "bbf85015",
   "metadata": {},
   "source": [
    "### 2. 입력데이터와 label 생성"
   ]
  },
  {
   "cell_type": "code",
   "execution_count": 13,
   "id": "128872c1",
   "metadata": {},
   "outputs": [
    {
     "data": {
      "text/plain": [
       "((6497, 3), (6497,))"
      ]
     },
     "execution_count": 13,
     "metadata": {},
     "output_type": "execute_result"
    }
   ],
   "source": [
    "wine_data = wine.iloc[:,:3]\n",
    "wine_target = wine.iloc[:,3]\n",
    "wine_data.shape, wine_target.shape"
   ]
  },
  {
   "cell_type": "markdown",
   "id": "5d62953b",
   "metadata": {},
   "source": [
    "### 3. 훈련 데이터 및 테스트 데이터 분리"
   ]
  },
  {
   "cell_type": "code",
   "execution_count": 14,
   "id": "143f8d14",
   "metadata": {},
   "outputs": [],
   "source": [
    "from sklearn.model_selection import train_test_split"
   ]
  },
  {
   "cell_type": "code",
   "execution_count": 15,
   "id": "b3b9a21d",
   "metadata": {},
   "outputs": [],
   "source": [
    "X_train,X_test,y_train,y_test = train_test_split(wine_data,wine_target,test_size=0.2,random_state=1)"
   ]
  },
  {
   "cell_type": "code",
   "execution_count": 16,
   "id": "03f4cd07",
   "metadata": {},
   "outputs": [
    {
     "data": {
      "text/plain": [
       "((5197, 3), (5197,))"
      ]
     },
     "execution_count": 16,
     "metadata": {},
     "output_type": "execute_result"
    }
   ],
   "source": [
    "X_train.shape,y_train.shape"
   ]
  },
  {
   "cell_type": "code",
   "execution_count": 17,
   "id": "9f0ff056",
   "metadata": {},
   "outputs": [
    {
     "data": {
      "text/plain": [
       "((1300, 3), (1300,))"
      ]
     },
     "execution_count": 17,
     "metadata": {},
     "output_type": "execute_result"
    }
   ],
   "source": [
    "X_test.shape,y_test.shape"
   ]
  },
  {
   "cell_type": "markdown",
   "id": "b755b5fa",
   "metadata": {},
   "source": [
    "### 결정트리는 표준화 작업이 필요없다. 매우 큰 장점이다. "
   ]
  },
  {
   "cell_type": "markdown",
   "id": "865d351d",
   "metadata": {},
   "source": [
    "### 결정트리는 대신 과적합에 매우 민감하다 매우 큰 단점이다. (가지치기 -> 하이퍼파라미터로 과적합 방지)"
   ]
  },
  {
   "cell_type": "markdown",
   "id": "8c7760d0",
   "metadata": {},
   "source": [
    "### 4. 모델 생성"
   ]
  },
  {
   "cell_type": "code",
   "execution_count": 18,
   "id": "47550f37",
   "metadata": {},
   "outputs": [
    {
     "name": "stdout",
     "output_type": "stream",
     "text": [
      "Requirement already satisfied: lightgbm in c:\\users\\yb\\anaconda3\\envs\\tf24\\lib\\site-packages (3.3.3)\n",
      "Requirement already satisfied: numpy in c:\\users\\yb\\anaconda3\\envs\\tf24\\lib\\site-packages (from lightgbm) (1.23.1)\n",
      "Requirement already satisfied: wheel in c:\\users\\yb\\anaconda3\\envs\\tf24\\lib\\site-packages (from lightgbm) (0.37.1)\n",
      "Requirement already satisfied: scikit-learn!=0.22.0 in c:\\users\\yb\\anaconda3\\envs\\tf24\\lib\\site-packages (from lightgbm) (1.1.2)\n",
      "Requirement already satisfied: scipy in c:\\users\\yb\\appdata\\roaming\\python\\python38\\site-packages (from lightgbm) (1.9.1)\n",
      "Requirement already satisfied: joblib>=1.0.0 in c:\\users\\yb\\anaconda3\\envs\\tf24\\lib\\site-packages (from scikit-learn!=0.22.0->lightgbm) (1.2.0)\n",
      "Requirement already satisfied: threadpoolctl>=2.0.0 in c:\\users\\yb\\anaconda3\\envs\\tf24\\lib\\site-packages (from scikit-learn!=0.22.0->lightgbm) (3.1.0)\n"
     ]
    }
   ],
   "source": [
    "!pip install lightgbm"
   ]
  },
  {
   "cell_type": "code",
   "execution_count": 19,
   "id": "086da325",
   "metadata": {},
   "outputs": [],
   "source": [
    "#from sklearn.tree import DecisionTreeClassifier\n",
    "from lightgbm import LGBMClassifier"
   ]
  },
  {
   "cell_type": "code",
   "execution_count": 20,
   "id": "43b64241",
   "metadata": {},
   "outputs": [
    {
     "name": "stdout",
     "output_type": "stream",
     "text": [
      "[LightGBM] [Warning] Unknown parameter: eval_metric\n",
      "[1]\tvalid_0's binary_logloss: 0.503014\n",
      "[2]\tvalid_0's binary_logloss: 0.474906\n",
      "[3]\tvalid_0's binary_logloss: 0.452701\n",
      "[4]\tvalid_0's binary_logloss: 0.433455\n",
      "[5]\tvalid_0's binary_logloss: 0.418814\n",
      "[6]\tvalid_0's binary_logloss: 0.406115\n",
      "[7]\tvalid_0's binary_logloss: 0.393724\n",
      "[8]\tvalid_0's binary_logloss: 0.383283\n",
      "[9]\tvalid_0's binary_logloss: 0.375483\n",
      "[10]\tvalid_0's binary_logloss: 0.367485\n",
      "[11]\tvalid_0's binary_logloss: 0.360845\n",
      "[12]\tvalid_0's binary_logloss: 0.355\n",
      "[13]\tvalid_0's binary_logloss: 0.349806\n",
      "[14]\tvalid_0's binary_logloss: 0.344995\n",
      "[15]\tvalid_0's binary_logloss: 0.341086\n",
      "[16]\tvalid_0's binary_logloss: 0.337622\n",
      "[17]\tvalid_0's binary_logloss: 0.334266\n",
      "[18]\tvalid_0's binary_logloss: 0.331392\n",
      "[19]\tvalid_0's binary_logloss: 0.328383\n",
      "[20]\tvalid_0's binary_logloss: 0.325849\n",
      "[21]\tvalid_0's binary_logloss: 0.323837\n",
      "[22]\tvalid_0's binary_logloss: 0.322006\n",
      "[23]\tvalid_0's binary_logloss: 0.320366\n",
      "[24]\tvalid_0's binary_logloss: 0.318523\n",
      "[25]\tvalid_0's binary_logloss: 0.316773\n",
      "[26]\tvalid_0's binary_logloss: 0.31569\n",
      "[27]\tvalid_0's binary_logloss: 0.313572\n",
      "[28]\tvalid_0's binary_logloss: 0.312231\n",
      "[29]\tvalid_0's binary_logloss: 0.311256\n",
      "[30]\tvalid_0's binary_logloss: 0.309758\n",
      "[31]\tvalid_0's binary_logloss: 0.308734\n",
      "[32]\tvalid_0's binary_logloss: 0.307275\n",
      "[33]\tvalid_0's binary_logloss: 0.306588\n",
      "[34]\tvalid_0's binary_logloss: 0.305699\n",
      "[35]\tvalid_0's binary_logloss: 0.304714\n",
      "[36]\tvalid_0's binary_logloss: 0.304239\n",
      "[37]\tvalid_0's binary_logloss: 0.303226\n",
      "[38]\tvalid_0's binary_logloss: 0.302308\n",
      "[39]\tvalid_0's binary_logloss: 0.30143\n",
      "[40]\tvalid_0's binary_logloss: 0.300803\n",
      "[41]\tvalid_0's binary_logloss: 0.300189\n",
      "[42]\tvalid_0's binary_logloss: 0.299423\n",
      "[43]\tvalid_0's binary_logloss: 0.298341\n",
      "[44]\tvalid_0's binary_logloss: 0.297986\n",
      "[45]\tvalid_0's binary_logloss: 0.297227\n",
      "[46]\tvalid_0's binary_logloss: 0.297168\n",
      "[47]\tvalid_0's binary_logloss: 0.296922\n",
      "[48]\tvalid_0's binary_logloss: 0.29668\n",
      "[49]\tvalid_0's binary_logloss: 0.29615\n",
      "[50]\tvalid_0's binary_logloss: 0.295836\n",
      "[51]\tvalid_0's binary_logloss: 0.295139\n",
      "[52]\tvalid_0's binary_logloss: 0.29484\n",
      "[53]\tvalid_0's binary_logloss: 0.294938\n",
      "[54]\tvalid_0's binary_logloss: 0.294729\n",
      "[55]\tvalid_0's binary_logloss: 0.294384\n",
      "[56]\tvalid_0's binary_logloss: 0.293842\n",
      "[57]\tvalid_0's binary_logloss: 0.293626\n",
      "[58]\tvalid_0's binary_logloss: 0.293704\n",
      "[59]\tvalid_0's binary_logloss: 0.293386\n",
      "[60]\tvalid_0's binary_logloss: 0.292963\n",
      "[61]\tvalid_0's binary_logloss: 0.293269\n",
      "[62]\tvalid_0's binary_logloss: 0.293047\n",
      "[63]\tvalid_0's binary_logloss: 0.292682\n",
      "[64]\tvalid_0's binary_logloss: 0.292673\n",
      "[65]\tvalid_0's binary_logloss: 0.292462\n",
      "[66]\tvalid_0's binary_logloss: 0.292181\n",
      "[67]\tvalid_0's binary_logloss: 0.291951\n",
      "[68]\tvalid_0's binary_logloss: 0.291837\n",
      "[69]\tvalid_0's binary_logloss: 0.291954\n",
      "[70]\tvalid_0's binary_logloss: 0.291679\n",
      "[71]\tvalid_0's binary_logloss: 0.29133\n",
      "[72]\tvalid_0's binary_logloss: 0.290958\n",
      "[73]\tvalid_0's binary_logloss: 0.290789\n",
      "[74]\tvalid_0's binary_logloss: 0.29072\n",
      "[75]\tvalid_0's binary_logloss: 0.290499\n",
      "[76]\tvalid_0's binary_logloss: 0.290616\n",
      "[77]\tvalid_0's binary_logloss: 0.290676\n",
      "[78]\tvalid_0's binary_logloss: 0.29078\n",
      "[79]\tvalid_0's binary_logloss: 0.290497\n",
      "[80]\tvalid_0's binary_logloss: 0.290497\n",
      "[81]\tvalid_0's binary_logloss: 0.290404\n",
      "[82]\tvalid_0's binary_logloss: 0.290412\n",
      "[83]\tvalid_0's binary_logloss: 0.290411\n",
      "[84]\tvalid_0's binary_logloss: 0.290455\n",
      "[85]\tvalid_0's binary_logloss: 0.290189\n",
      "[86]\tvalid_0's binary_logloss: 0.289879\n",
      "[87]\tvalid_0's binary_logloss: 0.289851\n",
      "[88]\tvalid_0's binary_logloss: 0.290029\n",
      "[89]\tvalid_0's binary_logloss: 0.289934\n",
      "[90]\tvalid_0's binary_logloss: 0.290085\n",
      "[91]\tvalid_0's binary_logloss: 0.290099\n",
      "[92]\tvalid_0's binary_logloss: 0.289883\n",
      "[93]\tvalid_0's binary_logloss: 0.289807\n",
      "[94]\tvalid_0's binary_logloss: 0.289697\n",
      "[95]\tvalid_0's binary_logloss: 0.289423\n",
      "[96]\tvalid_0's binary_logloss: 0.289299\n",
      "[97]\tvalid_0's binary_logloss: 0.289205\n",
      "[98]\tvalid_0's binary_logloss: 0.288773\n",
      "[99]\tvalid_0's binary_logloss: 0.288648\n",
      "[100]\tvalid_0's binary_logloss: 0.28887\n",
      "[101]\tvalid_0's binary_logloss: 0.288995\n",
      "[102]\tvalid_0's binary_logloss: 0.288797\n",
      "[103]\tvalid_0's binary_logloss: 0.288727\n",
      "[104]\tvalid_0's binary_logloss: 0.288895\n",
      "[105]\tvalid_0's binary_logloss: 0.288755\n",
      "[106]\tvalid_0's binary_logloss: 0.288676\n",
      "[107]\tvalid_0's binary_logloss: 0.288689\n",
      "[108]\tvalid_0's binary_logloss: 0.288741\n",
      "[109]\tvalid_0's binary_logloss: 0.288773\n"
     ]
    },
    {
     "name": "stderr",
     "output_type": "stream",
     "text": [
      "C:\\Users\\YB\\anaconda3\\envs\\tf24\\lib\\site-packages\\lightgbm\\sklearn.py:726: UserWarning: 'early_stopping_rounds' argument is deprecated and will be removed in a future release of LightGBM. Pass 'early_stopping()' callback via 'callbacks' argument instead.\n",
      "  _log_warning(\"'early_stopping_rounds' argument is deprecated and will be removed in a future release of LightGBM. \"\n",
      "C:\\Users\\YB\\anaconda3\\envs\\tf24\\lib\\site-packages\\lightgbm\\sklearn.py:736: UserWarning: 'verbose' argument is deprecated and will be removed in a future release of LightGBM. Pass 'log_evaluation()' callback via 'callbacks' argument instead.\n",
      "  _log_warning(\"'verbose' argument is deprecated and will be removed in a future release of LightGBM. \"\n"
     ]
    },
    {
     "data": {
      "text/html": [
       "<style>#sk-container-id-1 {color: black;background-color: white;}#sk-container-id-1 pre{padding: 0;}#sk-container-id-1 div.sk-toggleable {background-color: white;}#sk-container-id-1 label.sk-toggleable__label {cursor: pointer;display: block;width: 100%;margin-bottom: 0;padding: 0.3em;box-sizing: border-box;text-align: center;}#sk-container-id-1 label.sk-toggleable__label-arrow:before {content: \"▸\";float: left;margin-right: 0.25em;color: #696969;}#sk-container-id-1 label.sk-toggleable__label-arrow:hover:before {color: black;}#sk-container-id-1 div.sk-estimator:hover label.sk-toggleable__label-arrow:before {color: black;}#sk-container-id-1 div.sk-toggleable__content {max-height: 0;max-width: 0;overflow: hidden;text-align: left;background-color: #f0f8ff;}#sk-container-id-1 div.sk-toggleable__content pre {margin: 0.2em;color: black;border-radius: 0.25em;background-color: #f0f8ff;}#sk-container-id-1 input.sk-toggleable__control:checked~div.sk-toggleable__content {max-height: 200px;max-width: 100%;overflow: auto;}#sk-container-id-1 input.sk-toggleable__control:checked~label.sk-toggleable__label-arrow:before {content: \"▾\";}#sk-container-id-1 div.sk-estimator input.sk-toggleable__control:checked~label.sk-toggleable__label {background-color: #d4ebff;}#sk-container-id-1 div.sk-label input.sk-toggleable__control:checked~label.sk-toggleable__label {background-color: #d4ebff;}#sk-container-id-1 input.sk-hidden--visually {border: 0;clip: rect(1px 1px 1px 1px);clip: rect(1px, 1px, 1px, 1px);height: 1px;margin: -1px;overflow: hidden;padding: 0;position: absolute;width: 1px;}#sk-container-id-1 div.sk-estimator {font-family: monospace;background-color: #f0f8ff;border: 1px dotted black;border-radius: 0.25em;box-sizing: border-box;margin-bottom: 0.5em;}#sk-container-id-1 div.sk-estimator:hover {background-color: #d4ebff;}#sk-container-id-1 div.sk-parallel-item::after {content: \"\";width: 100%;border-bottom: 1px solid gray;flex-grow: 1;}#sk-container-id-1 div.sk-label:hover label.sk-toggleable__label {background-color: #d4ebff;}#sk-container-id-1 div.sk-serial::before {content: \"\";position: absolute;border-left: 1px solid gray;box-sizing: border-box;top: 0;bottom: 0;left: 50%;z-index: 0;}#sk-container-id-1 div.sk-serial {display: flex;flex-direction: column;align-items: center;background-color: white;padding-right: 0.2em;padding-left: 0.2em;position: relative;}#sk-container-id-1 div.sk-item {position: relative;z-index: 1;}#sk-container-id-1 div.sk-parallel {display: flex;align-items: stretch;justify-content: center;background-color: white;position: relative;}#sk-container-id-1 div.sk-item::before, #sk-container-id-1 div.sk-parallel-item::before {content: \"\";position: absolute;border-left: 1px solid gray;box-sizing: border-box;top: 0;bottom: 0;left: 50%;z-index: -1;}#sk-container-id-1 div.sk-parallel-item {display: flex;flex-direction: column;z-index: 1;position: relative;background-color: white;}#sk-container-id-1 div.sk-parallel-item:first-child::after {align-self: flex-end;width: 50%;}#sk-container-id-1 div.sk-parallel-item:last-child::after {align-self: flex-start;width: 50%;}#sk-container-id-1 div.sk-parallel-item:only-child::after {width: 0;}#sk-container-id-1 div.sk-dashed-wrapped {border: 1px dashed gray;margin: 0 0.4em 0.5em 0.4em;box-sizing: border-box;padding-bottom: 0.4em;background-color: white;}#sk-container-id-1 div.sk-label label {font-family: monospace;font-weight: bold;display: inline-block;line-height: 1.2em;}#sk-container-id-1 div.sk-label-container {text-align: center;}#sk-container-id-1 div.sk-container {/* jupyter's `normalize.less` sets `[hidden] { display: none; }` but bootstrap.min.css set `[hidden] { display: none !important; }` so we also need the `!important` here to be able to override the default hidden behavior on the sphinx rendered scikit-learn.org. See: https://github.com/scikit-learn/scikit-learn/issues/21755 */display: inline-block !important;position: relative;}#sk-container-id-1 div.sk-text-repr-fallback {display: none;}</style><div id=\"sk-container-id-1\" class=\"sk-top-container\"><div class=\"sk-text-repr-fallback\"><pre>LGBMClassifier(eval_metric=&#x27;logloss&#x27;, max_depth=3, n_estimators=200,\n",
       "               random_state=1)</pre><b>In a Jupyter environment, please rerun this cell to show the HTML representation or trust the notebook. <br />On GitHub, the HTML representation is unable to render, please try loading this page with nbviewer.org.</b></div><div class=\"sk-container\" hidden><div class=\"sk-item\"><div class=\"sk-estimator sk-toggleable\"><input class=\"sk-toggleable__control sk-hidden--visually\" id=\"sk-estimator-id-1\" type=\"checkbox\" checked><label for=\"sk-estimator-id-1\" class=\"sk-toggleable__label sk-toggleable__label-arrow\">LGBMClassifier</label><div class=\"sk-toggleable__content\"><pre>LGBMClassifier(eval_metric=&#x27;logloss&#x27;, max_depth=3, n_estimators=200,\n",
       "               random_state=1)</pre></div></div></div></div></div>"
      ],
      "text/plain": [
       "LGBMClassifier(eval_metric='logloss', max_depth=3, n_estimators=200,\n",
       "               random_state=1)"
      ]
     },
     "execution_count": 20,
     "metadata": {},
     "output_type": "execute_result"
    }
   ],
   "source": [
    "#조기종료\n",
    "'''\n",
    "    eval_set(검증데이터)에 지정된 데이터가 \n",
    "    eval_metric에 설정한 특정 평가지표인 loss가 \n",
    "    특정 횟수만큼 실행되었는데도 불구하고 감소하지 않으면 중단되는 것.\n",
    "    => 검증데이터가 10번 반복하는데도 손실이 감소안하면 멈춰라\n",
    "    \n",
    "\n",
    "'''\n",
    "\n",
    "clf= LGBMClassifier(learning_rate=0.1,\n",
    "                  n_estimators=200,\n",
    "                  random_state=1,\n",
    "                  max_depth=3,\n",
    "                  n_jobs=-1,\n",
    "                  eval_metric=\"logloss\" #손실함수 \n",
    ")\n",
    "\n",
    "clf.fit(X_train,y_train,\n",
    "        eval_set=[(X_test,y_test)],\n",
    "        early_stopping_rounds=10,\n",
    "        verbose=1) #순차처리이기 때문에 n_jobs가 지원안됨"
   ]
  },
  {
   "cell_type": "markdown",
   "id": "4c3b08c1",
   "metadata": {},
   "source": [
    "### 5. 평가"
   ]
  },
  {
   "cell_type": "code",
   "execution_count": 21,
   "id": "bd7ef1db",
   "metadata": {},
   "outputs": [
    {
     "data": {
      "text/plain": [
       "0.8799307292668848"
      ]
     },
     "execution_count": 21,
     "metadata": {},
     "output_type": "execute_result"
    }
   ],
   "source": [
    "clf.score(X_train,y_train)"
   ]
  },
  {
   "cell_type": "code",
   "execution_count": 22,
   "id": "9b6495c3",
   "metadata": {},
   "outputs": [
    {
     "data": {
      "text/plain": [
       "0.8784615384615385"
      ]
     },
     "execution_count": 22,
     "metadata": {},
     "output_type": "execute_result"
    }
   ],
   "source": [
    "clf.score(X_test,y_test)"
   ]
  }
 ],
 "metadata": {
  "kernelspec": {
   "display_name": "Python 3 (ipykernel)",
   "language": "python",
   "name": "python3"
  },
  "language_info": {
   "codemirror_mode": {
    "name": "ipython",
    "version": 3
   },
   "file_extension": ".py",
   "mimetype": "text/x-python",
   "name": "python",
   "nbconvert_exporter": "python",
   "pygments_lexer": "ipython3",
   "version": "3.8.13"
  }
 },
 "nbformat": 4,
 "nbformat_minor": 5
}
