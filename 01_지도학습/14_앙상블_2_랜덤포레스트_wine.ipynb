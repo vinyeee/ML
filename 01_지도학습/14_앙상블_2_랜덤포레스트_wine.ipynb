{
 "cells": [
  {
   "cell_type": "code",
   "execution_count": 1,
   "id": "11891f6c",
   "metadata": {},
   "outputs": [
    {
     "data": {
      "text/plain": [
       "'\\n\\n    wine 분류\\n    \\n    1.0 4898 - white wine\\n    0.0 1599 - red wine\\n'"
      ]
     },
     "execution_count": 1,
     "metadata": {},
     "output_type": "execute_result"
    }
   ],
   "source": [
    "'''\n",
    "\n",
    "    wine 분류\n",
    "    \n",
    "    1.0 4898 - white wine\n",
    "    0.0 1599 - red wine\n",
    "'''"
   ]
  },
  {
   "cell_type": "code",
   "execution_count": 2,
   "id": "16e4c7be",
   "metadata": {},
   "outputs": [],
   "source": [
    "import numpy as np\n",
    "import pandas as pd"
   ]
  },
  {
   "cell_type": "markdown",
   "id": "00a5db89",
   "metadata": {},
   "source": [
    "### 1. 데이터 준비"
   ]
  },
  {
   "cell_type": "code",
   "execution_count": 3,
   "id": "99301f6a",
   "metadata": {},
   "outputs": [
    {
     "data": {
      "text/html": [
       "<div>\n",
       "<style scoped>\n",
       "    .dataframe tbody tr th:only-of-type {\n",
       "        vertical-align: middle;\n",
       "    }\n",
       "\n",
       "    .dataframe tbody tr th {\n",
       "        vertical-align: top;\n",
       "    }\n",
       "\n",
       "    .dataframe thead th {\n",
       "        text-align: right;\n",
       "    }\n",
       "</style>\n",
       "<table border=\"1\" class=\"dataframe\">\n",
       "  <thead>\n",
       "    <tr style=\"text-align: right;\">\n",
       "      <th></th>\n",
       "      <th>alcohol</th>\n",
       "      <th>sugar</th>\n",
       "      <th>pH</th>\n",
       "      <th>class</th>\n",
       "    </tr>\n",
       "  </thead>\n",
       "  <tbody>\n",
       "    <tr>\n",
       "      <th>0</th>\n",
       "      <td>9.4</td>\n",
       "      <td>1.9</td>\n",
       "      <td>3.51</td>\n",
       "      <td>0.0</td>\n",
       "    </tr>\n",
       "    <tr>\n",
       "      <th>1</th>\n",
       "      <td>9.8</td>\n",
       "      <td>2.6</td>\n",
       "      <td>3.20</td>\n",
       "      <td>0.0</td>\n",
       "    </tr>\n",
       "    <tr>\n",
       "      <th>2</th>\n",
       "      <td>9.8</td>\n",
       "      <td>2.3</td>\n",
       "      <td>3.26</td>\n",
       "      <td>0.0</td>\n",
       "    </tr>\n",
       "    <tr>\n",
       "      <th>3</th>\n",
       "      <td>9.8</td>\n",
       "      <td>1.9</td>\n",
       "      <td>3.16</td>\n",
       "      <td>0.0</td>\n",
       "    </tr>\n",
       "    <tr>\n",
       "      <th>4</th>\n",
       "      <td>9.4</td>\n",
       "      <td>1.9</td>\n",
       "      <td>3.51</td>\n",
       "      <td>0.0</td>\n",
       "    </tr>\n",
       "  </tbody>\n",
       "</table>\n",
       "</div>"
      ],
      "text/plain": [
       "   alcohol  sugar    pH  class\n",
       "0      9.4    1.9  3.51    0.0\n",
       "1      9.8    2.6  3.20    0.0\n",
       "2      9.8    2.3  3.26    0.0\n",
       "3      9.8    1.9  3.16    0.0\n",
       "4      9.4    1.9  3.51    0.0"
      ]
     },
     "execution_count": 3,
     "metadata": {},
     "output_type": "execute_result"
    }
   ],
   "source": [
    "wine = pd.read_csv(r\"C:\\Users\\YB\\Desktop\\tf24_study\\01_지도학습\\kNN_wine분류_사이킷런API활용_수강생제공용\\wine.csv\")\n",
    "wine.head()"
   ]
  },
  {
   "cell_type": "code",
   "execution_count": 4,
   "id": "ce75138d",
   "metadata": {},
   "outputs": [
    {
     "data": {
      "text/plain": [
       "(6497, 4)"
      ]
     },
     "execution_count": 4,
     "metadata": {},
     "output_type": "execute_result"
    }
   ],
   "source": [
    "wine.shape"
   ]
  },
  {
   "cell_type": "code",
   "execution_count": 5,
   "id": "ad12839a",
   "metadata": {},
   "outputs": [
    {
     "data": {
      "text/plain": [
       "1.0    4898\n",
       "0.0    1599\n",
       "Name: class, dtype: int64"
      ]
     },
     "execution_count": 5,
     "metadata": {},
     "output_type": "execute_result"
    }
   ],
   "source": [
    "wine['class'].value_counts()"
   ]
  },
  {
   "cell_type": "markdown",
   "id": "bbf85015",
   "metadata": {},
   "source": [
    "### 2. 입력데이터와 label 생성"
   ]
  },
  {
   "cell_type": "code",
   "execution_count": 6,
   "id": "128872c1",
   "metadata": {},
   "outputs": [
    {
     "data": {
      "text/plain": [
       "((6497, 3), (6497,))"
      ]
     },
     "execution_count": 6,
     "metadata": {},
     "output_type": "execute_result"
    }
   ],
   "source": [
    "wine_data = wine.iloc[:,:3]\n",
    "wine_target = wine.iloc[:,3]\n",
    "wine_data.shape, wine_target.shape"
   ]
  },
  {
   "cell_type": "markdown",
   "id": "5d62953b",
   "metadata": {},
   "source": [
    "### 3. 훈련 데이터 및 테스트 데이터 분리"
   ]
  },
  {
   "cell_type": "code",
   "execution_count": 7,
   "id": "143f8d14",
   "metadata": {},
   "outputs": [],
   "source": [
    "from sklearn.model_selection import train_test_split"
   ]
  },
  {
   "cell_type": "code",
   "execution_count": 8,
   "id": "b3b9a21d",
   "metadata": {},
   "outputs": [],
   "source": [
    "X_train,X_test,y_train,y_test = train_test_split(wine_data,wine_target,test_size=0.2,random_state=1)"
   ]
  },
  {
   "cell_type": "code",
   "execution_count": 9,
   "id": "03f4cd07",
   "metadata": {},
   "outputs": [
    {
     "data": {
      "text/plain": [
       "((5197, 3), (5197,))"
      ]
     },
     "execution_count": 9,
     "metadata": {},
     "output_type": "execute_result"
    }
   ],
   "source": [
    "X_train.shape,y_train.shape"
   ]
  },
  {
   "cell_type": "code",
   "execution_count": 10,
   "id": "9f0ff056",
   "metadata": {},
   "outputs": [
    {
     "data": {
      "text/plain": [
       "((1300, 3), (1300,))"
      ]
     },
     "execution_count": 10,
     "metadata": {},
     "output_type": "execute_result"
    }
   ],
   "source": [
    "X_test.shape,y_test.shape"
   ]
  },
  {
   "cell_type": "markdown",
   "id": "b755b5fa",
   "metadata": {},
   "source": [
    "### 결정트리는 표준화 작업이 필요없다. 매우 큰 장점이다. "
   ]
  },
  {
   "cell_type": "markdown",
   "id": "865d351d",
   "metadata": {},
   "source": [
    "### 결정트리는 대신 과적합에 매우 민감하다 매우 큰 단점이다. (가지치기 -> 하이퍼파라미터로 과적합 방지)"
   ]
  },
  {
   "cell_type": "markdown",
   "id": "8c7760d0",
   "metadata": {},
   "source": [
    "### 4. 모델 생성"
   ]
  },
  {
   "cell_type": "code",
   "execution_count": 11,
   "id": "086da325",
   "metadata": {},
   "outputs": [],
   "source": [
    "#from sklearn.tree import DecisionTreeClassifier\n",
    "from sklearn.ensemble import RandomForestClassifier"
   ]
  },
  {
   "cell_type": "code",
   "execution_count": 12,
   "id": "43b64241",
   "metadata": {},
   "outputs": [
    {
     "name": "stderr",
     "output_type": "stream",
     "text": [
      "[Parallel(n_jobs=-1)]: Using backend ThreadingBackend with 4 concurrent workers.\n",
      "[Parallel(n_jobs=-1)]: Done  42 tasks      | elapsed:    0.0s\n",
      "[Parallel(n_jobs=-1)]: Done 100 out of 100 | elapsed:    0.1s finished\n"
     ]
    },
    {
     "data": {
      "text/html": [
       "<style>#sk-container-id-1 {color: black;background-color: white;}#sk-container-id-1 pre{padding: 0;}#sk-container-id-1 div.sk-toggleable {background-color: white;}#sk-container-id-1 label.sk-toggleable__label {cursor: pointer;display: block;width: 100%;margin-bottom: 0;padding: 0.3em;box-sizing: border-box;text-align: center;}#sk-container-id-1 label.sk-toggleable__label-arrow:before {content: \"▸\";float: left;margin-right: 0.25em;color: #696969;}#sk-container-id-1 label.sk-toggleable__label-arrow:hover:before {color: black;}#sk-container-id-1 div.sk-estimator:hover label.sk-toggleable__label-arrow:before {color: black;}#sk-container-id-1 div.sk-toggleable__content {max-height: 0;max-width: 0;overflow: hidden;text-align: left;background-color: #f0f8ff;}#sk-container-id-1 div.sk-toggleable__content pre {margin: 0.2em;color: black;border-radius: 0.25em;background-color: #f0f8ff;}#sk-container-id-1 input.sk-toggleable__control:checked~div.sk-toggleable__content {max-height: 200px;max-width: 100%;overflow: auto;}#sk-container-id-1 input.sk-toggleable__control:checked~label.sk-toggleable__label-arrow:before {content: \"▾\";}#sk-container-id-1 div.sk-estimator input.sk-toggleable__control:checked~label.sk-toggleable__label {background-color: #d4ebff;}#sk-container-id-1 div.sk-label input.sk-toggleable__control:checked~label.sk-toggleable__label {background-color: #d4ebff;}#sk-container-id-1 input.sk-hidden--visually {border: 0;clip: rect(1px 1px 1px 1px);clip: rect(1px, 1px, 1px, 1px);height: 1px;margin: -1px;overflow: hidden;padding: 0;position: absolute;width: 1px;}#sk-container-id-1 div.sk-estimator {font-family: monospace;background-color: #f0f8ff;border: 1px dotted black;border-radius: 0.25em;box-sizing: border-box;margin-bottom: 0.5em;}#sk-container-id-1 div.sk-estimator:hover {background-color: #d4ebff;}#sk-container-id-1 div.sk-parallel-item::after {content: \"\";width: 100%;border-bottom: 1px solid gray;flex-grow: 1;}#sk-container-id-1 div.sk-label:hover label.sk-toggleable__label {background-color: #d4ebff;}#sk-container-id-1 div.sk-serial::before {content: \"\";position: absolute;border-left: 1px solid gray;box-sizing: border-box;top: 0;bottom: 0;left: 50%;z-index: 0;}#sk-container-id-1 div.sk-serial {display: flex;flex-direction: column;align-items: center;background-color: white;padding-right: 0.2em;padding-left: 0.2em;position: relative;}#sk-container-id-1 div.sk-item {position: relative;z-index: 1;}#sk-container-id-1 div.sk-parallel {display: flex;align-items: stretch;justify-content: center;background-color: white;position: relative;}#sk-container-id-1 div.sk-item::before, #sk-container-id-1 div.sk-parallel-item::before {content: \"\";position: absolute;border-left: 1px solid gray;box-sizing: border-box;top: 0;bottom: 0;left: 50%;z-index: -1;}#sk-container-id-1 div.sk-parallel-item {display: flex;flex-direction: column;z-index: 1;position: relative;background-color: white;}#sk-container-id-1 div.sk-parallel-item:first-child::after {align-self: flex-end;width: 50%;}#sk-container-id-1 div.sk-parallel-item:last-child::after {align-self: flex-start;width: 50%;}#sk-container-id-1 div.sk-parallel-item:only-child::after {width: 0;}#sk-container-id-1 div.sk-dashed-wrapped {border: 1px dashed gray;margin: 0 0.4em 0.5em 0.4em;box-sizing: border-box;padding-bottom: 0.4em;background-color: white;}#sk-container-id-1 div.sk-label label {font-family: monospace;font-weight: bold;display: inline-block;line-height: 1.2em;}#sk-container-id-1 div.sk-label-container {text-align: center;}#sk-container-id-1 div.sk-container {/* jupyter's `normalize.less` sets `[hidden] { display: none; }` but bootstrap.min.css set `[hidden] { display: none !important; }` so we also need the `!important` here to be able to override the default hidden behavior on the sphinx rendered scikit-learn.org. See: https://github.com/scikit-learn/scikit-learn/issues/21755 */display: inline-block !important;position: relative;}#sk-container-id-1 div.sk-text-repr-fallback {display: none;}</style><div id=\"sk-container-id-1\" class=\"sk-top-container\"><div class=\"sk-text-repr-fallback\"><pre>RandomForestClassifier(n_jobs=-1, random_state=1, verbose=1)</pre><b>In a Jupyter environment, please rerun this cell to show the HTML representation or trust the notebook. <br />On GitHub, the HTML representation is unable to render, please try loading this page with nbviewer.org.</b></div><div class=\"sk-container\" hidden><div class=\"sk-item\"><div class=\"sk-estimator sk-toggleable\"><input class=\"sk-toggleable__control sk-hidden--visually\" id=\"sk-estimator-id-1\" type=\"checkbox\" checked><label for=\"sk-estimator-id-1\" class=\"sk-toggleable__label sk-toggleable__label-arrow\">RandomForestClassifier</label><div class=\"sk-toggleable__content\"><pre>RandomForestClassifier(n_jobs=-1, random_state=1, verbose=1)</pre></div></div></div></div></div>"
      ],
      "text/plain": [
       "RandomForestClassifier(n_jobs=-1, random_state=1, verbose=1)"
      ]
     },
     "execution_count": 12,
     "metadata": {},
     "output_type": "execute_result"
    }
   ],
   "source": [
    "clf= RandomForestClassifier(n_estimators=100,n_jobs=-1,random_state=1,verbose=1)\n",
    "clf.fit(X_train,y_train)#모든 프로세스를 다 돌림 => -1"
   ]
  },
  {
   "cell_type": "markdown",
   "id": "0db5c346",
   "metadata": {},
   "source": [
    "### 랜덤포레스트 내의 tree 정보보기"
   ]
  },
  {
   "cell_type": "code",
   "execution_count": 13,
   "id": "dd5a7b89",
   "metadata": {
    "collapsed": true
   },
   "outputs": [
    {
     "data": {
      "text/plain": [
       "[DecisionTreeClassifier(max_features='sqrt', random_state=1791095845),\n",
       " DecisionTreeClassifier(max_features='sqrt', random_state=2135392491),\n",
       " DecisionTreeClassifier(max_features='sqrt', random_state=946286476),\n",
       " DecisionTreeClassifier(max_features='sqrt', random_state=1857819720),\n",
       " DecisionTreeClassifier(max_features='sqrt', random_state=491263),\n",
       " DecisionTreeClassifier(max_features='sqrt', random_state=550290313),\n",
       " DecisionTreeClassifier(max_features='sqrt', random_state=1298508491),\n",
       " DecisionTreeClassifier(max_features='sqrt', random_state=2143362693),\n",
       " DecisionTreeClassifier(max_features='sqrt', random_state=630311759),\n",
       " DecisionTreeClassifier(max_features='sqrt', random_state=1013994432),\n",
       " DecisionTreeClassifier(max_features='sqrt', random_state=396591248),\n",
       " DecisionTreeClassifier(max_features='sqrt', random_state=1703301249),\n",
       " DecisionTreeClassifier(max_features='sqrt', random_state=799981516),\n",
       " DecisionTreeClassifier(max_features='sqrt', random_state=1666063943),\n",
       " DecisionTreeClassifier(max_features='sqrt', random_state=1484172013),\n",
       " DecisionTreeClassifier(max_features='sqrt', random_state=729053692),\n",
       " DecisionTreeClassifier(max_features='sqrt', random_state=1704103302),\n",
       " DecisionTreeClassifier(max_features='sqrt', random_state=1870626073),\n",
       " DecisionTreeClassifier(max_features='sqrt', random_state=166716594),\n",
       " DecisionTreeClassifier(max_features='sqrt', random_state=1487394068),\n",
       " DecisionTreeClassifier(max_features='sqrt', random_state=1800426750),\n",
       " DecisionTreeClassifier(max_features='sqrt', random_state=1345499493),\n",
       " DecisionTreeClassifier(max_features='sqrt', random_state=795511698),\n",
       " DecisionTreeClassifier(max_features='sqrt', random_state=105433556),\n",
       " DecisionTreeClassifier(max_features='sqrt', random_state=878115723),\n",
       " DecisionTreeClassifier(max_features='sqrt', random_state=1904615676),\n",
       " DecisionTreeClassifier(max_features='sqrt', random_state=1624002026),\n",
       " DecisionTreeClassifier(max_features='sqrt', random_state=986026652),\n",
       " DecisionTreeClassifier(max_features='sqrt', random_state=117628829),\n",
       " DecisionTreeClassifier(max_features='sqrt', random_state=147806606),\n",
       " DecisionTreeClassifier(max_features='sqrt', random_state=732152370),\n",
       " DecisionTreeClassifier(max_features='sqrt', random_state=1777953348),\n",
       " DecisionTreeClassifier(max_features='sqrt', random_state=1792310487),\n",
       " DecisionTreeClassifier(max_features='sqrt', random_state=1963679703),\n",
       " DecisionTreeClassifier(max_features='sqrt', random_state=252070889),\n",
       " DecisionTreeClassifier(max_features='sqrt', random_state=1849836273),\n",
       " DecisionTreeClassifier(max_features='sqrt', random_state=602957303),\n",
       " DecisionTreeClassifier(max_features='sqrt', random_state=1886039518),\n",
       " DecisionTreeClassifier(max_features='sqrt', random_state=850839392),\n",
       " DecisionTreeClassifier(max_features='sqrt', random_state=1195672662),\n",
       " DecisionTreeClassifier(max_features='sqrt', random_state=1291688077),\n",
       " DecisionTreeClassifier(max_features='sqrt', random_state=927586281),\n",
       " DecisionTreeClassifier(max_features='sqrt', random_state=2011168137),\n",
       " DecisionTreeClassifier(max_features='sqrt', random_state=1300333575),\n",
       " DecisionTreeClassifier(max_features='sqrt', random_state=1346146623),\n",
       " DecisionTreeClassifier(max_features='sqrt', random_state=398576445),\n",
       " DecisionTreeClassifier(max_features='sqrt', random_state=826019350),\n",
       " DecisionTreeClassifier(max_features='sqrt', random_state=77964601),\n",
       " DecisionTreeClassifier(max_features='sqrt', random_state=1616579073),\n",
       " DecisionTreeClassifier(max_features='sqrt', random_state=1567750016),\n",
       " DecisionTreeClassifier(max_features='sqrt', random_state=1694822716),\n",
       " DecisionTreeClassifier(max_features='sqrt', random_state=1413675217),\n",
       " DecisionTreeClassifier(max_features='sqrt', random_state=365262088),\n",
       " DecisionTreeClassifier(max_features='sqrt', random_state=1415635672),\n",
       " DecisionTreeClassifier(max_features='sqrt', random_state=167739021),\n",
       " DecisionTreeClassifier(max_features='sqrt', random_state=1172740723),\n",
       " DecisionTreeClassifier(max_features='sqrt', random_state=729416111),\n",
       " DecisionTreeClassifier(max_features='sqrt', random_state=254447594),\n",
       " DecisionTreeClassifier(max_features='sqrt', random_state=1624109689),\n",
       " DecisionTreeClassifier(max_features='sqrt', random_state=732412360),\n",
       " DecisionTreeClassifier(max_features='sqrt', random_state=422396446),\n",
       " DecisionTreeClassifier(max_features='sqrt', random_state=399713351),\n",
       " DecisionTreeClassifier(max_features='sqrt', random_state=1808643459),\n",
       " DecisionTreeClassifier(max_features='sqrt', random_state=737248710),\n",
       " DecisionTreeClassifier(max_features='sqrt', random_state=1966620565),\n",
       " DecisionTreeClassifier(max_features='sqrt', random_state=1768615473),\n",
       " DecisionTreeClassifier(max_features='sqrt', random_state=142443833),\n",
       " DecisionTreeClassifier(max_features='sqrt', random_state=848474627),\n",
       " DecisionTreeClassifier(max_features='sqrt', random_state=824105924),\n",
       " DecisionTreeClassifier(max_features='sqrt', random_state=1243949848),\n",
       " DecisionTreeClassifier(max_features='sqrt', random_state=1355129329),\n",
       " DecisionTreeClassifier(max_features='sqrt', random_state=610401323),\n",
       " DecisionTreeClassifier(max_features='sqrt', random_state=801015372),\n",
       " DecisionTreeClassifier(max_features='sqrt', random_state=1216826394),\n",
       " DecisionTreeClassifier(max_features='sqrt', random_state=1437206324),\n",
       " DecisionTreeClassifier(max_features='sqrt', random_state=1771840848),\n",
       " DecisionTreeClassifier(max_features='sqrt', random_state=78547565),\n",
       " DecisionTreeClassifier(max_features='sqrt', random_state=146764659),\n",
       " DecisionTreeClassifier(max_features='sqrt', random_state=1074361641),\n",
       " DecisionTreeClassifier(max_features='sqrt', random_state=532704722),\n",
       " DecisionTreeClassifier(max_features='sqrt', random_state=2099642383),\n",
       " DecisionTreeClassifier(max_features='sqrt', random_state=689925184),\n",
       " DecisionTreeClassifier(max_features='sqrt', random_state=1065863364),\n",
       " DecisionTreeClassifier(max_features='sqrt', random_state=1282027545),\n",
       " DecisionTreeClassifier(max_features='sqrt', random_state=1204497775),\n",
       " DecisionTreeClassifier(max_features='sqrt', random_state=1916133090),\n",
       " DecisionTreeClassifier(max_features='sqrt', random_state=1242445271),\n",
       " DecisionTreeClassifier(max_features='sqrt', random_state=954017671),\n",
       " DecisionTreeClassifier(max_features='sqrt', random_state=443352346),\n",
       " DecisionTreeClassifier(max_features='sqrt', random_state=315096729),\n",
       " DecisionTreeClassifier(max_features='sqrt', random_state=1923688040),\n",
       " DecisionTreeClassifier(max_features='sqrt', random_state=2015364118),\n",
       " DecisionTreeClassifier(max_features='sqrt', random_state=1754904329),\n",
       " DecisionTreeClassifier(max_features='sqrt', random_state=413056707),\n",
       " DecisionTreeClassifier(max_features='sqrt', random_state=1261063143),\n",
       " DecisionTreeClassifier(max_features='sqrt', random_state=1732461694),\n",
       " DecisionTreeClassifier(max_features='sqrt', random_state=1235985687),\n",
       " DecisionTreeClassifier(max_features='sqrt', random_state=513207677),\n",
       " DecisionTreeClassifier(max_features='sqrt', random_state=558468452),\n",
       " DecisionTreeClassifier(max_features='sqrt', random_state=106512539)]"
      ]
     },
     "execution_count": 13,
     "metadata": {},
     "output_type": "execute_result"
    }
   ],
   "source": [
    "clf.estimators_ #결정 트리 개수 100개"
   ]
  },
  {
   "cell_type": "markdown",
   "id": "4c3b08c1",
   "metadata": {},
   "source": [
    "### 5. 개별 모델과 voting 모델 비교 "
   ]
  },
  {
   "cell_type": "code",
   "execution_count": 14,
   "id": "bd7ef1db",
   "metadata": {},
   "outputs": [
    {
     "name": "stderr",
     "output_type": "stream",
     "text": [
      "[Parallel(n_jobs=4)]: Using backend ThreadingBackend with 4 concurrent workers.\n",
      "[Parallel(n_jobs=4)]: Done  42 tasks      | elapsed:    0.0s\n",
      "[Parallel(n_jobs=4)]: Done 100 out of 100 | elapsed:    0.0s finished\n"
     ]
    },
    {
     "data": {
      "text/plain": [
       "0.9971137194535309"
      ]
     },
     "execution_count": 14,
     "metadata": {},
     "output_type": "execute_result"
    }
   ],
   "source": [
    "clf.score(X_train,y_train)"
   ]
  },
  {
   "cell_type": "code",
   "execution_count": 15,
   "id": "9b6495c3",
   "metadata": {},
   "outputs": [
    {
     "name": "stderr",
     "output_type": "stream",
     "text": [
      "[Parallel(n_jobs=4)]: Using backend ThreadingBackend with 4 concurrent workers.\n",
      "[Parallel(n_jobs=4)]: Done  42 tasks      | elapsed:    0.0s\n",
      "[Parallel(n_jobs=4)]: Done 100 out of 100 | elapsed:    0.0s finished\n"
     ]
    },
    {
     "data": {
      "text/plain": [
       "0.8938461538461538"
      ]
     },
     "execution_count": 15,
     "metadata": {},
     "output_type": "execute_result"
    }
   ],
   "source": [
    "clf.score(X_test,y_test)"
   ]
  },
  {
   "cell_type": "markdown",
   "id": "823ee264",
   "metadata": {},
   "source": [
    "### oob score (out-of bag)==> 부트 스트랩되고 남은 샘플들의 score\n",
    "\n",
    "* 교차검증과 비슷한 기능"
   ]
  },
  {
   "cell_type": "code",
   "execution_count": 18,
   "id": "8f068b7e",
   "metadata": {},
   "outputs": [
    {
     "name": "stderr",
     "output_type": "stream",
     "text": [
      "[Parallel(n_jobs=-1)]: Using backend ThreadingBackend with 4 concurrent workers.\n",
      "[Parallel(n_jobs=-1)]: Done  42 tasks      | elapsed:    0.0s\n",
      "[Parallel(n_jobs=-1)]: Done 100 out of 100 | elapsed:    0.1s finished\n"
     ]
    },
    {
     "data": {
      "text/plain": [
       "0.9014816240138541"
      ]
     },
     "execution_count": 18,
     "metadata": {},
     "output_type": "execute_result"
    }
   ],
   "source": [
    "clf= RandomForestClassifier(n_estimators=100,n_jobs=-1,random_state=1,verbose=1,oob_score=True)\n",
    "clf.fit(X_train,y_train)\n",
    "clf.oob_score_"
   ]
  },
  {
   "cell_type": "markdown",
   "id": "53217454",
   "metadata": {},
   "source": [
    "### 교차검증"
   ]
  },
  {
   "cell_type": "code",
   "execution_count": 21,
   "id": "6d1be423",
   "metadata": {},
   "outputs": [],
   "source": [
    "from sklearn.model_selection import cross_validate"
   ]
  },
  {
   "cell_type": "code",
   "execution_count": 24,
   "id": "7f07f76a",
   "metadata": {},
   "outputs": [
    {
     "name": "stderr",
     "output_type": "stream",
     "text": [
      "[Parallel(n_jobs=-1)]: Using backend LokyBackend with 4 concurrent workers.\n",
      "[Parallel(n_jobs=-1)]: Done 100 out of 100 | elapsed:    0.1s finished\n",
      "[Parallel(n_jobs=4)]: Using backend ThreadingBackend with 4 concurrent workers.\n",
      "[Parallel(n_jobs=4)]: Done  42 tasks      | elapsed:    0.0s\n",
      "[Parallel(n_jobs=4)]: Done 100 out of 100 | elapsed:    0.0s finished\n",
      "[Parallel(n_jobs=-1)]: Using backend LokyBackend with 4 concurrent workers.\n",
      "[Parallel(n_jobs=-1)]: Done 100 out of 100 | elapsed:    0.0s finished\n",
      "[Parallel(n_jobs=4)]: Using backend ThreadingBackend with 4 concurrent workers.\n",
      "[Parallel(n_jobs=4)]: Done  42 tasks      | elapsed:    0.0s\n",
      "[Parallel(n_jobs=4)]: Done 100 out of 100 | elapsed:    0.0s finished\n",
      "[Parallel(n_jobs=-1)]: Using backend LokyBackend with 4 concurrent workers.\n",
      "[Parallel(n_jobs=-1)]: Done 100 out of 100 | elapsed:    0.0s finished\n",
      "[Parallel(n_jobs=4)]: Using backend ThreadingBackend with 4 concurrent workers.\n",
      "[Parallel(n_jobs=4)]: Done  42 tasks      | elapsed:    0.0s\n",
      "[Parallel(n_jobs=4)]: Done 100 out of 100 | elapsed:    0.0s finished\n",
      "[Parallel(n_jobs=-1)]: Using backend LokyBackend with 4 concurrent workers.\n",
      "[Parallel(n_jobs=-1)]: Done 100 out of 100 | elapsed:    0.1s finished\n",
      "[Parallel(n_jobs=4)]: Using backend ThreadingBackend with 4 concurrent workers.\n",
      "[Parallel(n_jobs=4)]: Done  42 tasks      | elapsed:    0.0s\n",
      "[Parallel(n_jobs=4)]: Done 100 out of 100 | elapsed:    0.0s finished\n",
      "[Parallel(n_jobs=-1)]: Using backend LokyBackend with 4 concurrent workers.\n",
      "[Parallel(n_jobs=-1)]: Done 100 out of 100 | elapsed:    0.0s finished\n",
      "[Parallel(n_jobs=4)]: Using backend ThreadingBackend with 4 concurrent workers.\n",
      "[Parallel(n_jobs=4)]: Done  42 tasks      | elapsed:    0.0s\n",
      "[Parallel(n_jobs=4)]: Done 100 out of 100 | elapsed:    0.0s finished\n"
     ]
    },
    {
     "data": {
      "text/plain": [
       "0.8910916561782779"
      ]
     },
     "execution_count": 24,
     "metadata": {},
     "output_type": "execute_result"
    }
   ],
   "source": [
    "scores = cross_validate(clf,X_train,y_train)\n",
    "np.mean(scores['test_score'])"
   ]
  },
  {
   "cell_type": "code",
   "execution_count": 25,
   "id": "cc45bcdd",
   "metadata": {},
   "outputs": [
    {
     "data": {
      "text/plain": [
       "array([0.23068031, 0.50313983, 0.26617986])"
      ]
     },
     "execution_count": 25,
     "metadata": {},
     "output_type": "execute_result"
    }
   ],
   "source": [
    "### 피쳐 중요도 - 개별적인 결정트리는 너무 sugar에 중요도가 치중되어 있다.\n",
    "clf.feature_importances_"
   ]
  },
  {
   "cell_type": "markdown",
   "id": "ac74e184",
   "metadata": {},
   "source": [
    "### 결론은 bagging 기법의 대표격인 RandomForestClassifier는 무작위성(랜덤행, 랜덤피쳐) 특징으로 인해서 과적합 방지 효과가 있다.\n",
    "\n",
    "### RandomForestClassifier는 교차검증과 비슷한 기능의 oob score 기능을 제공한다.\n",
    "### 피쳐중요도를 확인 했을 때도 앙상블 방법이 좀 더 현실적이다. (설명력이 높아진다.) => 앙상블이 좋다는거"
   ]
  }
 ],
 "metadata": {
  "kernelspec": {
   "display_name": "Python 3 (ipykernel)",
   "language": "python",
   "name": "python3"
  },
  "language_info": {
   "codemirror_mode": {
    "name": "ipython",
    "version": 3
   },
   "file_extension": ".py",
   "mimetype": "text/x-python",
   "name": "python",
   "nbconvert_exporter": "python",
   "pygments_lexer": "ipython3",
   "version": "3.8.13"
  }
 },
 "nbformat": 4,
 "nbformat_minor": 5
}
