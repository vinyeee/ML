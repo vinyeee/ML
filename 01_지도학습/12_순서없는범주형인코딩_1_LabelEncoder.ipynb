{
 "cells": [
  {
   "cell_type": "code",
   "execution_count": 1,
   "id": "663be44c",
   "metadata": {},
   "outputs": [
    {
     "data": {
      "text/plain": [
       "\"\\n\\n     인코딩 방법\\n     \\n     1. 레이블 인코딩\\n     - LabelEncoder API 이용\\n         fit(), transform()\\n         \\n         예> ['고양이','강아지','새']-->[0,1,2]\\n         \\n             단점: 몇몇 ML 알고리즘은 변경된 숫자 [0,1,2]값을 분류라 인식하지 않고\\n             내부적으로 0이 1보다 작기 때문에 가중치 값을 더 부여 할 수 있다. 따라서 예측성능이 떨어진다.\\n             \\n             \\n     \\n     2. 원-핫 인코딩\\n     - OneHotEnoder API 이용\\n        fit(), transform()\\n        \\n        예> ['고양이','강아지','새'] --> 고양이는 1로 나머지 모두 0 \\n                                     --> 강아지는 1로 나머지 모두 0 \\n                                     --> 새는 1로 나머지 모두 0\\n                                     \\n                            \\n\\n\""
      ]
     },
     "execution_count": 1,
     "metadata": {},
     "output_type": "execute_result"
    }
   ],
   "source": [
    "'''\n",
    "\n",
    "     인코딩 방법\n",
    "     \n",
    "     1. 레이블 인코딩\n",
    "     - LabelEncoder API 이용\n",
    "         fit(), transform()\n",
    "         \n",
    "         예> ['고양이','강아지','새']-->[0,1,2]\n",
    "         \n",
    "             단점: 몇몇 ML 알고리즘은 변경된 숫자 [0,1,2]값을 분류라 인식하지 않고\n",
    "             내부적으로 0이 1보다 작기 때문에 가중치 값을 더 부여 할 수 있다. 따라서 예측성능이 떨어진다.\n",
    "             \n",
    "             \n",
    "     \n",
    "     2. 원-핫 인코딩\n",
    "     - OneHotEnoder API 이용\n",
    "        fit(), transform()\n",
    "        \n",
    "        예> ['고양이','강아지','새'] --> 고양이는 1로 나머지 모두 0 \n",
    "                                     --> 강아지는 1로 나머지 모두 0 \n",
    "                                     --> 새는 1로 나머지 모두 0\n",
    "                                     \n",
    "                            \n",
    "\n",
    "'''"
   ]
  },
  {
   "cell_type": "code",
   "execution_count": 2,
   "id": "01bf9fa4",
   "metadata": {},
   "outputs": [],
   "source": [
    "import numpy as np\n",
    "import pandas as pd"
   ]
  },
  {
   "cell_type": "markdown",
   "id": "cdfd74d0",
   "metadata": {},
   "source": [
    "### 1. 레이블 인코더"
   ]
  },
  {
   "cell_type": "code",
   "execution_count": 3,
   "id": "71aba1f6",
   "metadata": {},
   "outputs": [],
   "source": [
    "from sklearn.preprocessing import LabelEncoder"
   ]
  },
  {
   "cell_type": "code",
   "execution_count": 4,
   "id": "595acb2a",
   "metadata": {},
   "outputs": [],
   "source": [
    "data = ['cat','dog','cat','dog','bird','bird','cat','cat','dog','bird','dog','bird']"
   ]
  },
  {
   "cell_type": "code",
   "execution_count": 6,
   "id": "62ef4651",
   "metadata": {},
   "outputs": [
    {
     "data": {
      "text/plain": [
       "array([1, 2, 1, 2, 0, 0, 1, 1, 2, 0, 2, 0])"
      ]
     },
     "execution_count": 6,
     "metadata": {},
     "output_type": "execute_result"
    }
   ],
   "source": [
    "### 가. fit()과 transform() 따로 구현\n",
    "encoder = LabelEncoder()\n",
    "encoder.fit(data)\n",
    "results = encoder.transform(data)\n",
    "results"
   ]
  },
  {
   "cell_type": "code",
   "execution_count": 8,
   "id": "dd497dfb",
   "metadata": {},
   "outputs": [
    {
     "data": {
      "text/plain": [
       "array([1, 2, 1, 2, 0, 0, 1, 1, 2, 0, 2, 0], dtype=int64)"
      ]
     },
     "execution_count": 8,
     "metadata": {},
     "output_type": "execute_result"
    }
   ],
   "source": [
    "### 나. fit()과 transform() 한꺼번에 구현 => fit_transform()\n",
    "encoder = LabelEncoder()\n",
    "results = encoder.fit_transform(data)\n",
    "results"
   ]
  },
  {
   "cell_type": "markdown",
   "id": "9ff15c41",
   "metadata": {},
   "source": [
    "### 변환값"
   ]
  },
  {
   "cell_type": "code",
   "execution_count": 9,
   "id": "54758531",
   "metadata": {},
   "outputs": [
    {
     "data": {
      "text/plain": [
       "array(['cat', 'dog', 'cat', 'dog', 'bird', 'bird', 'cat', 'cat', 'dog',\n",
       "       'bird', 'dog', 'bird'], dtype='<U4')"
      ]
     },
     "execution_count": 9,
     "metadata": {},
     "output_type": "execute_result"
    }
   ],
   "source": [
    "xxx= encoder.inverse_transform(results)\n",
    "xxx"
   ]
  }
 ],
 "metadata": {
  "kernelspec": {
   "display_name": "Python 3 (ipykernel)",
   "language": "python",
   "name": "python3"
  },
  "language_info": {
   "codemirror_mode": {
    "name": "ipython",
    "version": 3
   },
   "file_extension": ".py",
   "mimetype": "text/x-python",
   "name": "python",
   "nbconvert_exporter": "python",
   "pygments_lexer": "ipython3",
   "version": "3.8.13"
  }
 },
 "nbformat": 4,
 "nbformat_minor": 5
}
