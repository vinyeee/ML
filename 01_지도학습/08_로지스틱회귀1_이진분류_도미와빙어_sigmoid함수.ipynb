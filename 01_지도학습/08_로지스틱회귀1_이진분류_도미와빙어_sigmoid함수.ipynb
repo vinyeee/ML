{
 "cells": [
  {
   "cell_type": "code",
   "execution_count": null,
   "id": "11882ee7",
   "metadata": {},
   "outputs": [],
   "source": [
    "'''\n",
    "    로지스틱 회귀(logistic regression) - 이진분류(binary classification)\n",
    "    - 선형회귀의 선형방정식을 이용해서 분류 알고리즘으로 사용\n",
    "    - 선형방정식에서 나온 값을 sigmoid 함수를 통해서 0~1 사이로 압축해서 확률로 간주하고 처리한다.\n",
    "    \n",
    "\n",
    "'''"
   ]
  },
  {
   "cell_type": "code",
   "execution_count": 1,
   "id": "89b0b2a9",
   "metadata": {},
   "outputs": [],
   "source": [
    "import numpy as np\n",
    "import pandas as pd"
   ]
  },
  {
   "cell_type": "code",
   "execution_count": 4,
   "id": "de35e29d",
   "metadata": {},
   "outputs": [
    {
     "data": {
      "text/html": [
       "<div>\n",
       "<style scoped>\n",
       "    .dataframe tbody tr th:only-of-type {\n",
       "        vertical-align: middle;\n",
       "    }\n",
       "\n",
       "    .dataframe tbody tr th {\n",
       "        vertical-align: top;\n",
       "    }\n",
       "\n",
       "    .dataframe thead th {\n",
       "        text-align: right;\n",
       "    }\n",
       "</style>\n",
       "<table border=\"1\" class=\"dataframe\">\n",
       "  <thead>\n",
       "    <tr style=\"text-align: right;\">\n",
       "      <th></th>\n",
       "      <th>Species</th>\n",
       "      <th>Weight</th>\n",
       "      <th>Length</th>\n",
       "      <th>Diagonal</th>\n",
       "      <th>Height</th>\n",
       "      <th>Width</th>\n",
       "    </tr>\n",
       "  </thead>\n",
       "  <tbody>\n",
       "    <tr>\n",
       "      <th>0</th>\n",
       "      <td>Bream</td>\n",
       "      <td>242.0</td>\n",
       "      <td>25.4</td>\n",
       "      <td>30.0</td>\n",
       "      <td>11.5200</td>\n",
       "      <td>4.0200</td>\n",
       "    </tr>\n",
       "    <tr>\n",
       "      <th>1</th>\n",
       "      <td>Bream</td>\n",
       "      <td>290.0</td>\n",
       "      <td>26.3</td>\n",
       "      <td>31.2</td>\n",
       "      <td>12.4800</td>\n",
       "      <td>4.3056</td>\n",
       "    </tr>\n",
       "    <tr>\n",
       "      <th>2</th>\n",
       "      <td>Bream</td>\n",
       "      <td>340.0</td>\n",
       "      <td>26.5</td>\n",
       "      <td>31.1</td>\n",
       "      <td>12.3778</td>\n",
       "      <td>4.6961</td>\n",
       "    </tr>\n",
       "    <tr>\n",
       "      <th>3</th>\n",
       "      <td>Bream</td>\n",
       "      <td>363.0</td>\n",
       "      <td>29.0</td>\n",
       "      <td>33.5</td>\n",
       "      <td>12.7300</td>\n",
       "      <td>4.4555</td>\n",
       "    </tr>\n",
       "    <tr>\n",
       "      <th>4</th>\n",
       "      <td>Bream</td>\n",
       "      <td>430.0</td>\n",
       "      <td>29.0</td>\n",
       "      <td>34.0</td>\n",
       "      <td>12.4440</td>\n",
       "      <td>5.1340</td>\n",
       "    </tr>\n",
       "    <tr>\n",
       "      <th>...</th>\n",
       "      <td>...</td>\n",
       "      <td>...</td>\n",
       "      <td>...</td>\n",
       "      <td>...</td>\n",
       "      <td>...</td>\n",
       "      <td>...</td>\n",
       "    </tr>\n",
       "    <tr>\n",
       "      <th>154</th>\n",
       "      <td>Smelt</td>\n",
       "      <td>12.2</td>\n",
       "      <td>12.2</td>\n",
       "      <td>13.4</td>\n",
       "      <td>2.0904</td>\n",
       "      <td>1.3936</td>\n",
       "    </tr>\n",
       "    <tr>\n",
       "      <th>155</th>\n",
       "      <td>Smelt</td>\n",
       "      <td>13.4</td>\n",
       "      <td>12.4</td>\n",
       "      <td>13.5</td>\n",
       "      <td>2.4300</td>\n",
       "      <td>1.2690</td>\n",
       "    </tr>\n",
       "    <tr>\n",
       "      <th>156</th>\n",
       "      <td>Smelt</td>\n",
       "      <td>12.2</td>\n",
       "      <td>13.0</td>\n",
       "      <td>13.8</td>\n",
       "      <td>2.2770</td>\n",
       "      <td>1.2558</td>\n",
       "    </tr>\n",
       "    <tr>\n",
       "      <th>157</th>\n",
       "      <td>Smelt</td>\n",
       "      <td>19.7</td>\n",
       "      <td>14.3</td>\n",
       "      <td>15.2</td>\n",
       "      <td>2.8728</td>\n",
       "      <td>2.0672</td>\n",
       "    </tr>\n",
       "    <tr>\n",
       "      <th>158</th>\n",
       "      <td>Smelt</td>\n",
       "      <td>19.9</td>\n",
       "      <td>15.0</td>\n",
       "      <td>16.2</td>\n",
       "      <td>2.9322</td>\n",
       "      <td>1.8792</td>\n",
       "    </tr>\n",
       "  </tbody>\n",
       "</table>\n",
       "<p>159 rows × 6 columns</p>\n",
       "</div>"
      ],
      "text/plain": [
       "    Species  Weight  Length  Diagonal   Height   Width\n",
       "0     Bream   242.0    25.4      30.0  11.5200  4.0200\n",
       "1     Bream   290.0    26.3      31.2  12.4800  4.3056\n",
       "2     Bream   340.0    26.5      31.1  12.3778  4.6961\n",
       "3     Bream   363.0    29.0      33.5  12.7300  4.4555\n",
       "4     Bream   430.0    29.0      34.0  12.4440  5.1340\n",
       "..      ...     ...     ...       ...      ...     ...\n",
       "154   Smelt    12.2    12.2      13.4   2.0904  1.3936\n",
       "155   Smelt    13.4    12.4      13.5   2.4300  1.2690\n",
       "156   Smelt    12.2    13.0      13.8   2.2770  1.2558\n",
       "157   Smelt    19.7    14.3      15.2   2.8728  2.0672\n",
       "158   Smelt    19.9    15.0      16.2   2.9322  1.8792\n",
       "\n",
       "[159 rows x 6 columns]"
      ]
     },
     "execution_count": 4,
     "metadata": {},
     "output_type": "execute_result"
    }
   ],
   "source": [
    "df = pd.read_csv(r\"C:\\Users\\YB\\Desktop\\tf24_study\\csv\\fish.csv\")\n",
    "df"
   ]
  },
  {
   "cell_type": "code",
   "execution_count": 5,
   "id": "b8fc265b",
   "metadata": {},
   "outputs": [
    {
     "data": {
      "text/plain": [
       "Perch        56\n",
       "Bream        35\n",
       "Roach        20\n",
       "Pike         17\n",
       "Smelt        14\n",
       "Parkki       11\n",
       "Whitefish     6\n",
       "Name: Species, dtype: int64"
      ]
     },
     "execution_count": 5,
     "metadata": {},
     "output_type": "execute_result"
    }
   ],
   "source": [
    "df['Species'].value_counts()"
   ]
  },
  {
   "cell_type": "markdown",
   "id": "b881450e",
   "metadata": {},
   "source": [
    "### 2. 입력데이터와 label 작성"
   ]
  },
  {
   "cell_type": "code",
   "execution_count": 8,
   "id": "c4441f35",
   "metadata": {},
   "outputs": [],
   "source": [
    "fish_data = df.iloc[:,1:]\n",
    "fish_target = df.iloc[:,0]"
   ]
  },
  {
   "cell_type": "code",
   "execution_count": 9,
   "id": "14d0051f",
   "metadata": {},
   "outputs": [
    {
     "data": {
      "text/plain": [
       "((159, 5), (159,))"
      ]
     },
     "execution_count": 9,
     "metadata": {},
     "output_type": "execute_result"
    }
   ],
   "source": [
    "fish_data.shape, fish_target.shape"
   ]
  },
  {
   "cell_type": "markdown",
   "id": "f411d0d0",
   "metadata": {},
   "source": [
    "### 3. 훈련데이터와 테스트 데이터 분리"
   ]
  },
  {
   "cell_type": "code",
   "execution_count": 10,
   "id": "4c71618b",
   "metadata": {},
   "outputs": [],
   "source": [
    "from sklearn.model_selection import train_test_split"
   ]
  },
  {
   "cell_type": "code",
   "execution_count": 11,
   "id": "c67f85ba",
   "metadata": {},
   "outputs": [],
   "source": [
    "X_train, X_test, y_train, y_test=train_test_split(fish_data, fish_target, test_size=0.2, random_state=1,stratify=fish_target)"
   ]
  },
  {
   "cell_type": "code",
   "execution_count": 13,
   "id": "913451e1",
   "metadata": {},
   "outputs": [
    {
     "data": {
      "text/plain": [
       "((127, 5), (127,))"
      ]
     },
     "execution_count": 13,
     "metadata": {},
     "output_type": "execute_result"
    }
   ],
   "source": [
    "### 총 159개 중에 127개가 훈련 데이터\n",
    "X_train.shape,y_train.shape"
   ]
  },
  {
   "cell_type": "code",
   "execution_count": 15,
   "id": "7823a7e1",
   "metadata": {},
   "outputs": [
    {
     "data": {
      "text/plain": [
       "((32, 5), (32,))"
      ]
     },
     "execution_count": 15,
     "metadata": {},
     "output_type": "execute_result"
    }
   ],
   "source": [
    "### 총 159개 중에 32개가 테스트 데이터\n",
    "X_test.shape, y_test.shape"
   ]
  },
  {
   "cell_type": "markdown",
   "id": "977159fc",
   "metadata": {},
   "source": [
    "### 4. 표준화"
   ]
  },
  {
   "cell_type": "code",
   "execution_count": 16,
   "id": "d0325357",
   "metadata": {},
   "outputs": [],
   "source": [
    "from sklearn.preprocessing import StandardScaler"
   ]
  },
  {
   "cell_type": "code",
   "execution_count": 17,
   "id": "91adae91",
   "metadata": {},
   "outputs": [],
   "source": [
    "sc = StandardScaler()\n",
    "sc.fit(X_train)\n",
    "X_train_scaled = sc.transform(X_train)\n",
    "X_test_scaled = sc.transform(X_test)"
   ]
  },
  {
   "cell_type": "markdown",
   "id": "040e7f46",
   "metadata": {},
   "source": [
    "### 이진분류이기 때문에 7종류에서 Bream 와 Smelt만 추출\n",
    "* fish_target에서 Bream 또는 Smelt에 해당하는 index 값을 추출 \n",
    "* 추출된 index 이용해서 실제 데이터 추출한다. "
   ]
  },
  {
   "cell_type": "code",
   "execution_count": 23,
   "id": "803b331d",
   "metadata": {},
   "outputs": [],
   "source": [
    "bream_smelt_indexs = (y_train == 'Bream') | (y_train == 'Smelt')"
   ]
  },
  {
   "cell_type": "code",
   "execution_count": 40,
   "id": "cbf5d36f",
   "metadata": {},
   "outputs": [
    {
     "data": {
      "text/plain": [
       "((39, 5), (39,))"
      ]
     },
     "execution_count": 40,
     "metadata": {},
     "output_type": "execute_result"
    }
   ],
   "source": [
    "# 훈련 데이터\n",
    "X_train_bream_smelt = X_train_scaled[bream_smelt_indexs]\n",
    "# 훈련 데이터 label\n",
    "y_train_bream_smelt = y_train[bream_smelt_indexs]\n",
    "X_train_bream_smelt.shape, y_train_bream_smelt.shape"
   ]
  },
  {
   "cell_type": "code",
   "execution_count": 31,
   "id": "35757ed9",
   "metadata": {},
   "outputs": [],
   "source": [
    "bream_smelt_indexs2 = (y_test == 'Bream') | (y_test == 'Smelt')"
   ]
  },
  {
   "cell_type": "code",
   "execution_count": 32,
   "id": "3b420c41",
   "metadata": {},
   "outputs": [],
   "source": [
    "# 테스트 데이터\n",
    "X_test_bream_smelt = X_test_scaled[bream_smelt_indexs2]\n",
    "# 테스트 데이터 label\n",
    "y_test_bream_smelt = y_test[bream_smelt_indexs2]"
   ]
  },
  {
   "cell_type": "code",
   "execution_count": 36,
   "id": "9fa8bd2b",
   "metadata": {},
   "outputs": [
    {
     "data": {
      "text/plain": [
       "((10, 5), (10,))"
      ]
     },
     "execution_count": 36,
     "metadata": {},
     "output_type": "execute_result"
    }
   ],
   "source": [
    "X_test_bream_smelt.shape,y_test_bream_smelt.shape"
   ]
  },
  {
   "cell_type": "markdown",
   "id": "0dfcb3c5",
   "metadata": {},
   "source": [
    "### 5. 모델 생성"
   ]
  },
  {
   "cell_type": "code",
   "execution_count": 37,
   "id": "6aca5bec",
   "metadata": {},
   "outputs": [],
   "source": [
    "from sklearn.linear_model import LogisticRegression"
   ]
  },
  {
   "cell_type": "code",
   "execution_count": 43,
   "id": "49402325",
   "metadata": {},
   "outputs": [
    {
     "data": {
      "text/html": [
       "<style>#sk-container-id-1 {color: black;background-color: white;}#sk-container-id-1 pre{padding: 0;}#sk-container-id-1 div.sk-toggleable {background-color: white;}#sk-container-id-1 label.sk-toggleable__label {cursor: pointer;display: block;width: 100%;margin-bottom: 0;padding: 0.3em;box-sizing: border-box;text-align: center;}#sk-container-id-1 label.sk-toggleable__label-arrow:before {content: \"▸\";float: left;margin-right: 0.25em;color: #696969;}#sk-container-id-1 label.sk-toggleable__label-arrow:hover:before {color: black;}#sk-container-id-1 div.sk-estimator:hover label.sk-toggleable__label-arrow:before {color: black;}#sk-container-id-1 div.sk-toggleable__content {max-height: 0;max-width: 0;overflow: hidden;text-align: left;background-color: #f0f8ff;}#sk-container-id-1 div.sk-toggleable__content pre {margin: 0.2em;color: black;border-radius: 0.25em;background-color: #f0f8ff;}#sk-container-id-1 input.sk-toggleable__control:checked~div.sk-toggleable__content {max-height: 200px;max-width: 100%;overflow: auto;}#sk-container-id-1 input.sk-toggleable__control:checked~label.sk-toggleable__label-arrow:before {content: \"▾\";}#sk-container-id-1 div.sk-estimator input.sk-toggleable__control:checked~label.sk-toggleable__label {background-color: #d4ebff;}#sk-container-id-1 div.sk-label input.sk-toggleable__control:checked~label.sk-toggleable__label {background-color: #d4ebff;}#sk-container-id-1 input.sk-hidden--visually {border: 0;clip: rect(1px 1px 1px 1px);clip: rect(1px, 1px, 1px, 1px);height: 1px;margin: -1px;overflow: hidden;padding: 0;position: absolute;width: 1px;}#sk-container-id-1 div.sk-estimator {font-family: monospace;background-color: #f0f8ff;border: 1px dotted black;border-radius: 0.25em;box-sizing: border-box;margin-bottom: 0.5em;}#sk-container-id-1 div.sk-estimator:hover {background-color: #d4ebff;}#sk-container-id-1 div.sk-parallel-item::after {content: \"\";width: 100%;border-bottom: 1px solid gray;flex-grow: 1;}#sk-container-id-1 div.sk-label:hover label.sk-toggleable__label {background-color: #d4ebff;}#sk-container-id-1 div.sk-serial::before {content: \"\";position: absolute;border-left: 1px solid gray;box-sizing: border-box;top: 0;bottom: 0;left: 50%;z-index: 0;}#sk-container-id-1 div.sk-serial {display: flex;flex-direction: column;align-items: center;background-color: white;padding-right: 0.2em;padding-left: 0.2em;position: relative;}#sk-container-id-1 div.sk-item {position: relative;z-index: 1;}#sk-container-id-1 div.sk-parallel {display: flex;align-items: stretch;justify-content: center;background-color: white;position: relative;}#sk-container-id-1 div.sk-item::before, #sk-container-id-1 div.sk-parallel-item::before {content: \"\";position: absolute;border-left: 1px solid gray;box-sizing: border-box;top: 0;bottom: 0;left: 50%;z-index: -1;}#sk-container-id-1 div.sk-parallel-item {display: flex;flex-direction: column;z-index: 1;position: relative;background-color: white;}#sk-container-id-1 div.sk-parallel-item:first-child::after {align-self: flex-end;width: 50%;}#sk-container-id-1 div.sk-parallel-item:last-child::after {align-self: flex-start;width: 50%;}#sk-container-id-1 div.sk-parallel-item:only-child::after {width: 0;}#sk-container-id-1 div.sk-dashed-wrapped {border: 1px dashed gray;margin: 0 0.4em 0.5em 0.4em;box-sizing: border-box;padding-bottom: 0.4em;background-color: white;}#sk-container-id-1 div.sk-label label {font-family: monospace;font-weight: bold;display: inline-block;line-height: 1.2em;}#sk-container-id-1 div.sk-label-container {text-align: center;}#sk-container-id-1 div.sk-container {/* jupyter's `normalize.less` sets `[hidden] { display: none; }` but bootstrap.min.css set `[hidden] { display: none !important; }` so we also need the `!important` here to be able to override the default hidden behavior on the sphinx rendered scikit-learn.org. See: https://github.com/scikit-learn/scikit-learn/issues/21755 */display: inline-block !important;position: relative;}#sk-container-id-1 div.sk-text-repr-fallback {display: none;}</style><div id=\"sk-container-id-1\" class=\"sk-top-container\"><div class=\"sk-text-repr-fallback\"><pre>LogisticRegression(random_state=42)</pre><b>In a Jupyter environment, please rerun this cell to show the HTML representation or trust the notebook. <br />On GitHub, the HTML representation is unable to render, please try loading this page with nbviewer.org.</b></div><div class=\"sk-container\" hidden><div class=\"sk-item\"><div class=\"sk-estimator sk-toggleable\"><input class=\"sk-toggleable__control sk-hidden--visually\" id=\"sk-estimator-id-1\" type=\"checkbox\" checked><label for=\"sk-estimator-id-1\" class=\"sk-toggleable__label sk-toggleable__label-arrow\">LogisticRegression</label><div class=\"sk-toggleable__content\"><pre>LogisticRegression(random_state=42)</pre></div></div></div></div></div>"
      ],
      "text/plain": [
       "LogisticRegression(random_state=42)"
      ]
     },
     "execution_count": 43,
     "metadata": {},
     "output_type": "execute_result"
    }
   ],
   "source": [
    "lr = LogisticRegression(C=1.0,random_state=42) # C 기능은 Ridge의 alpha 와 동일한 기능이다. C는 작을수록 규제 강도가 강해진다.\n",
    "lr.fit(X_train_bream_smelt,y_train_bream_smelt)"
   ]
  },
  {
   "cell_type": "markdown",
   "id": "e994e491",
   "metadata": {},
   "source": [
    "### 6. 예측"
   ]
  },
  {
   "cell_type": "code",
   "execution_count": 45,
   "id": "ad055dd4",
   "metadata": {},
   "outputs": [
    {
     "data": {
      "text/plain": [
       "array(['Bream', 'Bream', 'Bream', 'Bream', 'Smelt', 'Smelt', 'Bream',\n",
       "       'Bream', 'Smelt', 'Bream'], dtype=object)"
      ]
     },
     "execution_count": 45,
     "metadata": {},
     "output_type": "execute_result"
    }
   ],
   "source": [
    "pred = lr.predict(X_test_bream_smelt)\n",
    "pred # 새 데이터를 넣어줬더니 예측함"
   ]
  },
  {
   "cell_type": "markdown",
   "id": "ad73d4d7",
   "metadata": {},
   "source": [
    "### 예측된 과정"
   ]
  },
  {
   "cell_type": "markdown",
   "id": "27763349",
   "metadata": {},
   "source": [
    "### 가. label 종류 - 클래스 확인 \n",
    "* [Bream, Smelt] ==> [음성, 양성] ==> [1-양성, 양성]"
   ]
  },
  {
   "cell_type": "code",
   "execution_count": 46,
   "id": "7bcff397",
   "metadata": {},
   "outputs": [
    {
     "data": {
      "text/plain": [
       "array(['Bream', 'Smelt'], dtype=object)"
      ]
     },
     "execution_count": 46,
     "metadata": {},
     "output_type": "execute_result"
    }
   ],
   "source": [
    "lr.classes_"
   ]
  },
  {
   "cell_type": "markdown",
   "id": "4b47abdd",
   "metadata": {},
   "source": [
    "### 나. 회귀계수 확인 "
   ]
  },
  {
   "cell_type": "code",
   "execution_count": 50,
   "id": "f11a624d",
   "metadata": {},
   "outputs": [
    {
     "data": {
      "text/plain": [
       "Index(['Weight', 'Length', 'Diagonal', 'Height', 'Width'], dtype='object')"
      ]
     },
     "execution_count": 50,
     "metadata": {},
     "output_type": "execute_result"
    }
   ],
   "source": [
    "fish_data.columns"
   ]
  },
  {
   "cell_type": "code",
   "execution_count": 51,
   "id": "e6108f64",
   "metadata": {},
   "outputs": [
    {
     "data": {
      "text/plain": [
       "(array([[-0.43861356, -0.61493657, -0.69159991, -0.97184449, -0.78356712]]),\n",
       " array([-2.19442896]))"
      ]
     },
     "execution_count": 51,
     "metadata": {},
     "output_type": "execute_result"
    }
   ],
   "source": [
    "lr.coef_, lr.intercept_ #feature가 5개여서 계수가 5개가 나옴b"
   ]
  },
  {
   "cell_type": "markdown",
   "id": "d89e2511",
   "metadata": {},
   "source": [
    "### 선형 방정식\n",
    "* y = w1*x1 + w2*x2 + w3*x3 + w4*x4 + w5*x5 + w0\n",
    "* y = -0.43 * Weight + -0.61 * Length + -0.69 * Diagonal + -0.97 * Height + -0.78 * Width + -2.19"
   ]
  },
  {
   "cell_type": "markdown",
   "id": "305b8403",
   "metadata": {},
   "source": [
    "### 실제 5개의 feature 값을 위의 선형 회귀식에 직접 대입 하지 않고 y값을 구해주는 함수를 사용한다.\n",
    "* lr.decision_function(데이터)"
   ]
  },
  {
   "cell_type": "code",
   "execution_count": 54,
   "id": "06e0549c",
   "metadata": {},
   "outputs": [
    {
     "data": {
      "text/plain": [
       "array([[ 0.5060019 ,  0.29981453,  0.47712474,  1.44669788,  0.6339306 ],\n",
       "       [ 0.09690193,  0.11488765,  0.29807709,  1.11934743,  0.20430551],\n",
       "       [ 0.09690193,  0.08714861,  0.26397277,  1.02740789,  0.25309206],\n",
       "       [ 0.23326859,  0.17961206,  0.39186395,  1.16998841,  0.27176634],\n",
       "       [-1.1036701 , -1.54945432, -1.56913417, -1.57613717, -1.95222339],\n",
       "       [-1.0971245 , -1.53096163, -1.55208201, -1.60217719, -1.80913174],\n",
       "       [-0.47038335, -0.31044419, -0.13675293,  0.55174354, -0.27644042],\n",
       "       [ 0.23326859,  0.25358281,  0.40891611,  1.06322433, -0.07335765],\n",
       "       [-1.0766695 , -1.3367884 , -1.39861259, -1.42346042, -1.4160382 ],\n",
       "       [ 0.23326859,  0.20735109,  0.39186395,  1.2030638 ,  0.18726523]])"
      ]
     },
     "execution_count": 54,
     "metadata": {},
     "output_type": "execute_result"
    }
   ],
   "source": [
    "X_test_bream_smelt"
   ]
  },
  {
   "cell_type": "code",
   "execution_count": 55,
   "id": "738163f5",
   "metadata": {},
   "outputs": [
    {
     "data": {
      "text/plain": [
       "array([-4.83340713, -3.76164887, -3.66988118, -4.02820078,  3.38914316,\n",
       "        3.27629201, -2.02222993, -3.71129548,  2.56007645, -4.01119037])"
      ]
     },
     "execution_count": 55,
     "metadata": {},
     "output_type": "execute_result"
    }
   ],
   "source": [
    "decisions = lr.decision_function(X_test_bream_smelt)\n",
    "decisions"
   ]
  },
  {
   "cell_type": "code",
   "execution_count": 56,
   "id": "0f84bc58",
   "metadata": {},
   "outputs": [
    {
     "data": {
      "text/plain": [
       "-0.4247806945000001"
      ]
     },
     "execution_count": 56,
     "metadata": {},
     "output_type": "execute_result"
    }
   ],
   "source": [
    "### decision_function 대신에 직접 계산 \n",
    "y = -0.43 *  0.5060019 + -0.61 *  0.29981453 + -0.69 * 0.47712474 + -0.97 * 1.44669788 + -0.78 *  + -2.19\n",
    "y\n"
   ]
  },
  {
   "cell_type": "markdown",
   "id": "75d0892c",
   "metadata": {},
   "source": [
    "### y값을 sigmoid 함수에 적용한다.\n",
    "* 양성확률 값을 반환\n",
    "* [음성, 양성]  음성확률이란 not~일 확률"
   ]
  },
  {
   "cell_type": "code",
   "execution_count": 58,
   "id": "6843e806",
   "metadata": {},
   "outputs": [],
   "source": [
    "from scipy.special import expit"
   ]
  },
  {
   "cell_type": "code",
   "execution_count": 59,
   "id": "7ee5ac14",
   "metadata": {},
   "outputs": [
    {
     "data": {
      "text/plain": [
       "array([0.00789651, 0.02271731, 0.02484642, 0.01749482, 0.9673635 ,\n",
       "       0.96360647, 0.11688861, 0.0238625 , 0.92824755, 0.01778962])"
      ]
     },
     "execution_count": 59,
     "metadata": {},
     "output_type": "execute_result"
    }
   ],
   "source": [
    "expit(decisions) "
   ]
  },
  {
   "cell_type": "code",
   "execution_count": 60,
   "id": "1182e5be",
   "metadata": {},
   "outputs": [
    {
     "data": {
      "text/plain": [
       "[0.99210349, 0.00789651]"
      ]
     },
     "execution_count": 60,
     "metadata": {},
     "output_type": "execute_result"
    }
   ],
   "source": [
    "### 수동\n",
    "[1-0.00789651,0.00789651]"
   ]
  },
  {
   "cell_type": "markdown",
   "id": "02642751",
   "metadata": {},
   "source": [
    "### 전체 예측 확률 값으로 보기\n",
    "* lr.classes_ [Bream, Smelt]"
   ]
  },
  {
   "cell_type": "code",
   "execution_count": 63,
   "id": "cb415c38",
   "metadata": {},
   "outputs": [
    {
     "data": {
      "text/plain": [
       "array([[0.99210349, 0.00789651],\n",
       "       [0.97728269, 0.02271731],\n",
       "       [0.97515358, 0.02484642],\n",
       "       [0.98250518, 0.01749482],\n",
       "       [0.0326365 , 0.9673635 ],\n",
       "       [0.03639353, 0.96360647],\n",
       "       [0.88311139, 0.11688861],\n",
       "       [0.9761375 , 0.0238625 ],\n",
       "       [0.07175245, 0.92824755],\n",
       "       [0.98221038, 0.01778962]])"
      ]
     },
     "execution_count": 63,
     "metadata": {},
     "output_type": "execute_result"
    }
   ],
   "source": [
    "#array(['Bream', 'Bream', 'Bream', 'Bream', 'Smelt', 'Smelt', 'Bream','Bream', 'Smelt', 'Bream'], dtype=object)\n",
    "lr.predict_proba(X_test_bream_smelt)"
   ]
  },
  {
   "cell_type": "code",
   "execution_count": null,
   "id": "bd51bcbe",
   "metadata": {},
   "outputs": [],
   "source": []
  }
 ],
 "metadata": {
  "kernelspec": {
   "display_name": "Python 3 (ipykernel)",
   "language": "python",
   "name": "python3"
  },
  "language_info": {
   "codemirror_mode": {
    "name": "ipython",
    "version": 3
   },
   "file_extension": ".py",
   "mimetype": "text/x-python",
   "name": "python",
   "nbconvert_exporter": "python",
   "pygments_lexer": "ipython3",
   "version": "3.8.13"
  }
 },
 "nbformat": 4,
 "nbformat_minor": 5
}
