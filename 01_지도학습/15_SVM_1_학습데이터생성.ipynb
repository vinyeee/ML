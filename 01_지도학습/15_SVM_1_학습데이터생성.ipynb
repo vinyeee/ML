{
 "cells": [
  {
   "cell_type": "code",
   "execution_count": 1,
   "id": "d217419b",
   "metadata": {},
   "outputs": [
    {
     "data": {
      "text/plain": [
       "'\\n\\n\\n'"
      ]
     },
     "execution_count": 1,
     "metadata": {},
     "output_type": "execute_result"
    }
   ],
   "source": [
    "'''\n",
    "    sklearn.datasets import make_blobs 이용해서 데이터 생성\n",
    "\n",
    "\n",
    "'''"
   ]
  },
  {
   "cell_type": "code",
   "execution_count": 3,
   "id": "421bdf55",
   "metadata": {},
   "outputs": [],
   "source": [
    "import numpy as np\n",
    "from sklearn.datasets import make_blobs"
   ]
  },
  {
   "cell_type": "code",
   "execution_count": 12,
   "id": "1019b317",
   "metadata": {},
   "outputs": [
    {
     "data": {
      "text/plain": [
       "(array([[ 9.24222414,  1.36290933],\n",
       "        [ 9.17124955,  3.52485535],\n",
       "        [ 8.84264231,  1.29144424],\n",
       "        [ 9.13144602,  0.15235637],\n",
       "        [ 8.66686663,  0.93996493],\n",
       "        [ 8.76869749,  1.19960487],\n",
       "        [10.45227689,  1.14179259],\n",
       "        [ 9.4874227 ,  3.93018752],\n",
       "        [ 9.55834394,  4.10909742],\n",
       "        [10.03578098,  4.41764995],\n",
       "        [ 9.70226758,  0.96771277],\n",
       "        [ 9.53292197,  5.29136138],\n",
       "        [ 8.90512626,  4.03222184],\n",
       "        [ 8.91604215,  5.30752241],\n",
       "        [ 9.42054325,  0.3401709 ],\n",
       "        [ 9.55313298,  1.11077156],\n",
       "        [ 9.01498386,  1.21587064],\n",
       "        [ 8.84910095,  0.97186135],\n",
       "        [ 9.73389792,  0.02420705],\n",
       "        [ 9.1891148 ,  1.54564628],\n",
       "        [ 9.27524446,  1.34568829],\n",
       "        [ 9.85130417,  4.30586485],\n",
       "        [ 9.0167434 ,  1.24393257],\n",
       "        [ 9.70857663,  4.44654264],\n",
       "        [10.69197928,  4.47249157],\n",
       "        [ 9.4779887 ,  4.39064298],\n",
       "        [ 9.2024951 ,  1.34290093],\n",
       "        [10.14364725,  4.26904052],\n",
       "        [ 9.00096813,  4.51145554],\n",
       "        [ 9.6022578 ,  3.81543147],\n",
       "        [ 8.78780476,  1.36356316],\n",
       "        [ 9.9310365 ,  4.5579437 ],\n",
       "        [10.38453221,  1.40206546],\n",
       "        [ 8.76218865,  1.12014356],\n",
       "        [ 9.88910809,  4.20871461],\n",
       "        [10.08959651,  3.97249761],\n",
       "        [ 8.9815029 ,  4.43675221],\n",
       "        [ 9.5067218 ,  0.37090667],\n",
       "        [ 9.64993162,  0.90065152],\n",
       "        [10.15847055,  0.26416219],\n",
       "        [ 9.47246094,  4.3142839 ],\n",
       "        [ 9.20577794,  4.21058757],\n",
       "        [ 9.03715314,  1.71813465],\n",
       "        [ 9.06431724,  4.38602523],\n",
       "        [ 9.3645999 , -0.23439183],\n",
       "        [ 9.92101223,  4.12326894],\n",
       "        [ 8.26379956,  3.99247803],\n",
       "        [ 8.72592004,  4.57441248],\n",
       "        [ 9.82281075,  4.62169649],\n",
       "        [10.18677564,  0.38823891]]),\n",
       " array([0, 1, 0, 0, 0, 0, 0, 1, 1, 1, 0, 1, 1, 1, 0, 0, 0, 0, 0, 0, 0, 1,\n",
       "        0, 1, 1, 1, 0, 1, 1, 1, 0, 1, 0, 0, 1, 1, 1, 0, 0, 0, 1, 1, 0, 1,\n",
       "        0, 1, 1, 1, 1, 0]))"
      ]
     },
     "execution_count": 12,
     "metadata": {},
     "output_type": "execute_result"
    }
   ],
   "source": [
    "X,y = make_blobs(n_samples=50,n_features=2, centers=2, cluster_std=0.5,random_state=4)\n",
    "X,y #centers 는 종류 class"
   ]
  },
  {
   "cell_type": "markdown",
   "id": "75dd2a1d",
   "metadata": {},
   "source": [
    "### 시각화"
   ]
  },
  {
   "cell_type": "code",
   "execution_count": 7,
   "id": "00298ce3",
   "metadata": {},
   "outputs": [],
   "source": [
    "import matplotlib.pyplot as plt\n",
    "%matplotlib inline"
   ]
  },
  {
   "cell_type": "code",
   "execution_count": 13,
   "id": "70340e22",
   "metadata": {},
   "outputs": [
    {
     "data": {
      "image/png": "[encoded data removed]",
      "text/plain": [
       "<Figure size 640x480 with 1 Axes>"
      ]
     },
     "metadata": {},
     "output_type": "display_data"
    }
   ],
   "source": [
    "plt.scatter(X[y == 0, 0], X[y == 0, 1], marker='o', label=\"0 label\")\n",
    "plt.scatter(X[y == 1, 0], X[y == 1, 1], marker='x', label=\"1 label\")\n",
    "plt.xlabel(\"x1\")\n",
    "plt.ylabel(\"x2\")\n",
    "plt.legend()\n",
    "plt.title(\"train data\")\n",
    "plt.show()"
   ]
  },
  {
   "cell_type": "code",
   "execution_count": null,
   "id": "1fed2a02",
   "metadata": {},
   "outputs": [],
   "source": []
  }
 ],
 "metadata": {
  "kernelspec": {
   "display_name": "Python 3 (ipykernel)",
   "language": "python",
   "name": "python3"
  },
  "language_info": {
   "codemirror_mode": {
    "name": "ipython",
    "version": 3
   },
   "file_extension": ".py",
   "mimetype": "text/x-python",
   "name": "python",
   "nbconvert_exporter": "python",
   "pygments_lexer": "ipython3",
   "version": "3.8.13"
  }
 },
 "nbformat": 4,
 "nbformat_minor": 5
}
