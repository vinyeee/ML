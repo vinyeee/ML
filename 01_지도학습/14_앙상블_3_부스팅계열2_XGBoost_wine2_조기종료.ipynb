{
 "cells": [
  {
   "cell_type": "code",
   "execution_count": 1,
   "id": "11891f6c",
   "metadata": {},
   "outputs": [
    {
     "data": {
      "text/plain": [
       "'\\n\\n    wine 분류\\n    \\n    1.0 4898 - white wine\\n    0.0 1599 - red wine\\n    \\n'"
      ]
     },
     "execution_count": 1,
     "metadata": {},
     "output_type": "execute_result"
    }
   ],
   "source": [
    "'''\n",
    "\n",
    "    wine 분류\n",
    "    \n",
    "    1.0 4898 - white wine\n",
    "    0.0 1599 - red wine\n",
    "    \n",
    "'''"
   ]
  },
  {
   "cell_type": "code",
   "execution_count": 2,
   "id": "16e4c7be",
   "metadata": {},
   "outputs": [],
   "source": [
    "import numpy as np\n",
    "import pandas as pd"
   ]
  },
  {
   "cell_type": "markdown",
   "id": "00a5db89",
   "metadata": {},
   "source": [
    "### 1. 데이터 준비"
   ]
  },
  {
   "cell_type": "code",
   "execution_count": 3,
   "id": "99301f6a",
   "metadata": {},
   "outputs": [
    {
     "data": {
      "text/html": [
       "<div>\n",
       "<style scoped>\n",
       "    .dataframe tbody tr th:only-of-type {\n",
       "        vertical-align: middle;\n",
       "    }\n",
       "\n",
       "    .dataframe tbody tr th {\n",
       "        vertical-align: top;\n",
       "    }\n",
       "\n",
       "    .dataframe thead th {\n",
       "        text-align: right;\n",
       "    }\n",
       "</style>\n",
       "<table border=\"1\" class=\"dataframe\">\n",
       "  <thead>\n",
       "    <tr style=\"text-align: right;\">\n",
       "      <th></th>\n",
       "      <th>alcohol</th>\n",
       "      <th>sugar</th>\n",
       "      <th>pH</th>\n",
       "      <th>class</th>\n",
       "    </tr>\n",
       "  </thead>\n",
       "  <tbody>\n",
       "    <tr>\n",
       "      <th>0</th>\n",
       "      <td>9.4</td>\n",
       "      <td>1.9</td>\n",
       "      <td>3.51</td>\n",
       "      <td>0.0</td>\n",
       "    </tr>\n",
       "    <tr>\n",
       "      <th>1</th>\n",
       "      <td>9.8</td>\n",
       "      <td>2.6</td>\n",
       "      <td>3.20</td>\n",
       "      <td>0.0</td>\n",
       "    </tr>\n",
       "    <tr>\n",
       "      <th>2</th>\n",
       "      <td>9.8</td>\n",
       "      <td>2.3</td>\n",
       "      <td>3.26</td>\n",
       "      <td>0.0</td>\n",
       "    </tr>\n",
       "    <tr>\n",
       "      <th>3</th>\n",
       "      <td>9.8</td>\n",
       "      <td>1.9</td>\n",
       "      <td>3.16</td>\n",
       "      <td>0.0</td>\n",
       "    </tr>\n",
       "    <tr>\n",
       "      <th>4</th>\n",
       "      <td>9.4</td>\n",
       "      <td>1.9</td>\n",
       "      <td>3.51</td>\n",
       "      <td>0.0</td>\n",
       "    </tr>\n",
       "  </tbody>\n",
       "</table>\n",
       "</div>"
      ],
      "text/plain": [
       "   alcohol  sugar    pH  class\n",
       "0      9.4    1.9  3.51    0.0\n",
       "1      9.8    2.6  3.20    0.0\n",
       "2      9.8    2.3  3.26    0.0\n",
       "3      9.8    1.9  3.16    0.0\n",
       "4      9.4    1.9  3.51    0.0"
      ]
     },
     "execution_count": 3,
     "metadata": {},
     "output_type": "execute_result"
    }
   ],
   "source": [
    "wine = pd.read_csv(r\"C:\\Users\\YB\\Desktop\\tf24_study\\01_지도학습\\kNN_wine분류_사이킷런API활용_수강생제공용\\wine.csv\")\n",
    "wine.head()"
   ]
  },
  {
   "cell_type": "code",
   "execution_count": 4,
   "id": "ce75138d",
   "metadata": {},
   "outputs": [
    {
     "data": {
      "text/plain": [
       "(6497, 4)"
      ]
     },
     "execution_count": 4,
     "metadata": {},
     "output_type": "execute_result"
    }
   ],
   "source": [
    "wine.shape"
   ]
  },
  {
   "cell_type": "code",
   "execution_count": 5,
   "id": "ad12839a",
   "metadata": {},
   "outputs": [
    {
     "data": {
      "text/plain": [
       "1.0    4898\n",
       "0.0    1599\n",
       "Name: class, dtype: int64"
      ]
     },
     "execution_count": 5,
     "metadata": {},
     "output_type": "execute_result"
    }
   ],
   "source": [
    "wine['class'].value_counts()"
   ]
  },
  {
   "cell_type": "markdown",
   "id": "bbf85015",
   "metadata": {},
   "source": [
    "### 2. 입력데이터와 label 생성"
   ]
  },
  {
   "cell_type": "code",
   "execution_count": 6,
   "id": "128872c1",
   "metadata": {},
   "outputs": [
    {
     "data": {
      "text/plain": [
       "((6497, 3), (6497,))"
      ]
     },
     "execution_count": 6,
     "metadata": {},
     "output_type": "execute_result"
    }
   ],
   "source": [
    "wine_data = wine.iloc[:,:3]\n",
    "wine_target = wine.iloc[:,3]\n",
    "wine_data.shape, wine_target.shape"
   ]
  },
  {
   "cell_type": "markdown",
   "id": "5d62953b",
   "metadata": {},
   "source": [
    "### 3. 훈련 데이터 및 테스트 데이터 분리"
   ]
  },
  {
   "cell_type": "code",
   "execution_count": 7,
   "id": "143f8d14",
   "metadata": {},
   "outputs": [],
   "source": [
    "from sklearn.model_selection import train_test_split"
   ]
  },
  {
   "cell_type": "code",
   "execution_count": 8,
   "id": "b3b9a21d",
   "metadata": {},
   "outputs": [],
   "source": [
    "X_train,X_test,y_train,y_test = train_test_split(wine_data,wine_target,test_size=0.2,random_state=1)"
   ]
  },
  {
   "cell_type": "code",
   "execution_count": 9,
   "id": "03f4cd07",
   "metadata": {},
   "outputs": [
    {
     "data": {
      "text/plain": [
       "((5197, 3), (5197,))"
      ]
     },
     "execution_count": 9,
     "metadata": {},
     "output_type": "execute_result"
    }
   ],
   "source": [
    "X_train.shape,y_train.shape"
   ]
  },
  {
   "cell_type": "code",
   "execution_count": 10,
   "id": "9f0ff056",
   "metadata": {},
   "outputs": [
    {
     "data": {
      "text/plain": [
       "((1300, 3), (1300,))"
      ]
     },
     "execution_count": 10,
     "metadata": {},
     "output_type": "execute_result"
    }
   ],
   "source": [
    "X_test.shape,y_test.shape"
   ]
  },
  {
   "cell_type": "markdown",
   "id": "b755b5fa",
   "metadata": {},
   "source": [
    "### 결정트리는 표준화 작업이 필요없다. 매우 큰 장점이다. "
   ]
  },
  {
   "cell_type": "markdown",
   "id": "865d351d",
   "metadata": {},
   "source": [
    "### 결정트리는 대신 과적합에 매우 민감하다 매우 큰 단점이다. (가지치기 -> 하이퍼파라미터로 과적합 방지)"
   ]
  },
  {
   "cell_type": "markdown",
   "id": "8c7760d0",
   "metadata": {},
   "source": [
    "### 4. 모델 생성"
   ]
  },
  {
   "cell_type": "code",
   "execution_count": 11,
   "id": "47550f37",
   "metadata": {},
   "outputs": [
    {
     "name": "stdout",
     "output_type": "stream",
     "text": [
      "Collecting xgboost\n",
      "  Downloading xgboost-1.6.2-py3-none-win_amd64.whl (125.4 MB)\n",
      "     -------------------------------------- 125.4/125.4 MB 8.1 MB/s eta 0:00:00\n",
      "Requirement already satisfied: numpy in c:\\users\\yb\\anaconda3\\envs\\tf24\\lib\\site-packages (from xgboost) (1.23.1)\n",
      "Requirement already satisfied: scipy in c:\\users\\yb\\appdata\\roaming\\python\\python38\\site-packages (from xgboost) (1.9.1)\n",
      "Installing collected packages: xgboost\n",
      "Successfully installed xgboost-1.6.2\n"
     ]
    }
   ],
   "source": [
    "!pip install xgboost"
   ]
  },
  {
   "cell_type": "code",
   "execution_count": 11,
   "id": "086da325",
   "metadata": {},
   "outputs": [],
   "source": [
    "#from sklearn.tree import DecisionTreeClassifier\n",
    "from xgboost import XGBClassifier "
   ]
  },
  {
   "cell_type": "code",
   "execution_count": 14,
   "id": "43b64241",
   "metadata": {},
   "outputs": [
    {
     "name": "stdout",
     "output_type": "stream",
     "text": [
      "[0]\tvalidation_0-logloss:0.63965\n",
      "[1]\tvalidation_0-logloss:0.59541\n",
      "[2]\tvalidation_0-logloss:0.55877\n",
      "[3]\tvalidation_0-logloss:0.52762\n",
      "[4]\tvalidation_0-logloss:0.50159\n",
      "[5]\tvalidation_0-logloss:0.47836\n",
      "[6]\tvalidation_0-logloss:0.45931\n",
      "[7]\tvalidation_0-logloss:0.44160\n",
      "[8]\tvalidation_0-logloss:0.42659\n",
      "[9]\tvalidation_0-logloss:0.41297\n",
      "[10]\tvalidation_0-logloss:0.40196\n",
      "[11]\tvalidation_0-logloss:0.39167\n",
      "[12]\tvalidation_0-logloss:0.38255\n",
      "[13]\tvalidation_0-logloss:0.37413\n",
      "[14]\tvalidation_0-logloss:0.36703\n",
      "[15]\tvalidation_0-logloss:0.36025\n",
      "[16]\tvalidation_0-logloss:0.35467\n",
      "[17]\tvalidation_0-logloss:0.34916\n",
      "[18]\tvalidation_0-logloss:0.34447\n",
      "[19]\tvalidation_0-logloss:0.34087\n",
      "[20]\tvalidation_0-logloss:0.33682\n",
      "[21]\tvalidation_0-logloss:0.33304\n",
      "[22]\tvalidation_0-logloss:0.32923\n",
      "[23]\tvalidation_0-logloss:0.32676\n",
      "[24]\tvalidation_0-logloss:0.32447\n",
      "[25]\tvalidation_0-logloss:0.32210\n",
      "[26]\tvalidation_0-logloss:0.31989\n",
      "[27]\tvalidation_0-logloss:0.31754\n",
      "[28]\tvalidation_0-logloss:0.31556\n",
      "[29]\tvalidation_0-logloss:0.31414\n",
      "[30]\tvalidation_0-logloss:0.31274\n",
      "[31]\tvalidation_0-logloss:0.31176\n",
      "[32]\tvalidation_0-logloss:0.31054\n",
      "[33]\tvalidation_0-logloss:0.30927\n",
      "[34]\tvalidation_0-logloss:0.30844\n",
      "[35]\tvalidation_0-logloss:0.30764\n",
      "[36]\tvalidation_0-logloss:0.30703\n",
      "[37]\tvalidation_0-logloss:0.30612\n",
      "[38]\tvalidation_0-logloss:0.30550\n",
      "[39]\tvalidation_0-logloss:0.30438\n",
      "[40]\tvalidation_0-logloss:0.30400\n",
      "[41]\tvalidation_0-logloss:0.30352\n",
      "[42]\tvalidation_0-logloss:0.30213\n",
      "[43]\tvalidation_0-logloss:0.30109\n",
      "[44]\tvalidation_0-logloss:0.30087\n",
      "[45]\tvalidation_0-logloss:0.30041\n"
     ]
    },
    {
     "name": "stderr",
     "output_type": "stream",
     "text": [
      "C:\\Users\\YB\\anaconda3\\envs\\tf24\\lib\\site-packages\\xgboost\\sklearn.py:793: UserWarning: `early_stopping_rounds` in `fit` method is deprecated for better compatibility with scikit-learn, use `early_stopping_rounds` in constructor or`set_params` instead.\n",
      "  warnings.warn(\n"
     ]
    },
    {
     "name": "stdout",
     "output_type": "stream",
     "text": [
      "[46]\tvalidation_0-logloss:0.29925\n",
      "[47]\tvalidation_0-logloss:0.29905\n",
      "[48]\tvalidation_0-logloss:0.29857\n",
      "[49]\tvalidation_0-logloss:0.29795\n",
      "[50]\tvalidation_0-logloss:0.29705\n",
      "[51]\tvalidation_0-logloss:0.29694\n",
      "[52]\tvalidation_0-logloss:0.29661\n",
      "[53]\tvalidation_0-logloss:0.29612\n",
      "[54]\tvalidation_0-logloss:0.29593\n",
      "[55]\tvalidation_0-logloss:0.29548\n",
      "[56]\tvalidation_0-logloss:0.29517\n",
      "[57]\tvalidation_0-logloss:0.29517\n",
      "[58]\tvalidation_0-logloss:0.29460\n",
      "[59]\tvalidation_0-logloss:0.29439\n",
      "[60]\tvalidation_0-logloss:0.29432\n",
      "[61]\tvalidation_0-logloss:0.29401\n",
      "[62]\tvalidation_0-logloss:0.29413\n",
      "[63]\tvalidation_0-logloss:0.29412\n",
      "[64]\tvalidation_0-logloss:0.29392\n",
      "[65]\tvalidation_0-logloss:0.29339\n",
      "[66]\tvalidation_0-logloss:0.29309\n",
      "[67]\tvalidation_0-logloss:0.29288\n",
      "[68]\tvalidation_0-logloss:0.29276\n",
      "[69]\tvalidation_0-logloss:0.29259\n",
      "[70]\tvalidation_0-logloss:0.29234\n",
      "[71]\tvalidation_0-logloss:0.29224\n",
      "[72]\tvalidation_0-logloss:0.29235\n",
      "[73]\tvalidation_0-logloss:0.29215\n",
      "[74]\tvalidation_0-logloss:0.29193\n",
      "[75]\tvalidation_0-logloss:0.29195\n",
      "[76]\tvalidation_0-logloss:0.29138\n",
      "[77]\tvalidation_0-logloss:0.29112\n",
      "[78]\tvalidation_0-logloss:0.29131\n",
      "[79]\tvalidation_0-logloss:0.29125\n",
      "[80]\tvalidation_0-logloss:0.29110\n",
      "[81]\tvalidation_0-logloss:0.29104\n",
      "[82]\tvalidation_0-logloss:0.29073\n",
      "[83]\tvalidation_0-logloss:0.29053\n",
      "[84]\tvalidation_0-logloss:0.29049\n",
      "[85]\tvalidation_0-logloss:0.29049\n",
      "[86]\tvalidation_0-logloss:0.29015\n",
      "[87]\tvalidation_0-logloss:0.29010\n",
      "[88]\tvalidation_0-logloss:0.29016\n",
      "[89]\tvalidation_0-logloss:0.29005\n",
      "[90]\tvalidation_0-logloss:0.29001\n",
      "[91]\tvalidation_0-logloss:0.28975\n",
      "[92]\tvalidation_0-logloss:0.28981\n",
      "[93]\tvalidation_0-logloss:0.28953\n",
      "[94]\tvalidation_0-logloss:0.28962\n",
      "[95]\tvalidation_0-logloss:0.28963\n",
      "[96]\tvalidation_0-logloss:0.28941\n",
      "[97]\tvalidation_0-logloss:0.28904\n",
      "[98]\tvalidation_0-logloss:0.28904\n",
      "[99]\tvalidation_0-logloss:0.28923\n",
      "[100]\tvalidation_0-logloss:0.28905\n",
      "[101]\tvalidation_0-logloss:0.28909\n",
      "[102]\tvalidation_0-logloss:0.28892\n",
      "[103]\tvalidation_0-logloss:0.28889\n",
      "[104]\tvalidation_0-logloss:0.28853\n",
      "[105]\tvalidation_0-logloss:0.28797\n",
      "[106]\tvalidation_0-logloss:0.28794\n",
      "[107]\tvalidation_0-logloss:0.28778\n",
      "[108]\tvalidation_0-logloss:0.28775\n",
      "[109]\tvalidation_0-logloss:0.28781\n",
      "[110]\tvalidation_0-logloss:0.28772\n",
      "[111]\tvalidation_0-logloss:0.28756\n",
      "[112]\tvalidation_0-logloss:0.28729\n",
      "[113]\tvalidation_0-logloss:0.28726\n",
      "[114]\tvalidation_0-logloss:0.28719\n",
      "[115]\tvalidation_0-logloss:0.28734\n",
      "[116]\tvalidation_0-logloss:0.28723\n",
      "[117]\tvalidation_0-logloss:0.28711\n",
      "[118]\tvalidation_0-logloss:0.28703\n",
      "[119]\tvalidation_0-logloss:0.28726\n",
      "[120]\tvalidation_0-logloss:0.28723\n",
      "[121]\tvalidation_0-logloss:0.28714\n",
      "[122]\tvalidation_0-logloss:0.28703\n",
      "[123]\tvalidation_0-logloss:0.28748\n",
      "[124]\tvalidation_0-logloss:0.28746\n",
      "[125]\tvalidation_0-logloss:0.28729\n",
      "[126]\tvalidation_0-logloss:0.28743\n",
      "[127]\tvalidation_0-logloss:0.28741\n",
      "[128]\tvalidation_0-logloss:0.28761\n",
      "[129]\tvalidation_0-logloss:0.28753\n",
      "[130]\tvalidation_0-logloss:0.28753\n",
      "[131]\tvalidation_0-logloss:0.28748\n",
      "[132]\tvalidation_0-logloss:0.28744\n"
     ]
    },
    {
     "data": {
      "text/html": [
       "<style>#sk-container-id-2 {color: black;background-color: white;}#sk-container-id-2 pre{padding: 0;}#sk-container-id-2 div.sk-toggleable {background-color: white;}#sk-container-id-2 label.sk-toggleable__label {cursor: pointer;display: block;width: 100%;margin-bottom: 0;padding: 0.3em;box-sizing: border-box;text-align: center;}#sk-container-id-2 label.sk-toggleable__label-arrow:before {content: \"▸\";float: left;margin-right: 0.25em;color: #696969;}#sk-container-id-2 label.sk-toggleable__label-arrow:hover:before {color: black;}#sk-container-id-2 div.sk-estimator:hover label.sk-toggleable__label-arrow:before {color: black;}#sk-container-id-2 div.sk-toggleable__content {max-height: 0;max-width: 0;overflow: hidden;text-align: left;background-color: #f0f8ff;}#sk-container-id-2 div.sk-toggleable__content pre {margin: 0.2em;color: black;border-radius: 0.25em;background-color: #f0f8ff;}#sk-container-id-2 input.sk-toggleable__control:checked~div.sk-toggleable__content {max-height: 200px;max-width: 100%;overflow: auto;}#sk-container-id-2 input.sk-toggleable__control:checked~label.sk-toggleable__label-arrow:before {content: \"▾\";}#sk-container-id-2 div.sk-estimator input.sk-toggleable__control:checked~label.sk-toggleable__label {background-color: #d4ebff;}#sk-container-id-2 div.sk-label input.sk-toggleable__control:checked~label.sk-toggleable__label {background-color: #d4ebff;}#sk-container-id-2 input.sk-hidden--visually {border: 0;clip: rect(1px 1px 1px 1px);clip: rect(1px, 1px, 1px, 1px);height: 1px;margin: -1px;overflow: hidden;padding: 0;position: absolute;width: 1px;}#sk-container-id-2 div.sk-estimator {font-family: monospace;background-color: #f0f8ff;border: 1px dotted black;border-radius: 0.25em;box-sizing: border-box;margin-bottom: 0.5em;}#sk-container-id-2 div.sk-estimator:hover {background-color: #d4ebff;}#sk-container-id-2 div.sk-parallel-item::after {content: \"\";width: 100%;border-bottom: 1px solid gray;flex-grow: 1;}#sk-container-id-2 div.sk-label:hover label.sk-toggleable__label {background-color: #d4ebff;}#sk-container-id-2 div.sk-serial::before {content: \"\";position: absolute;border-left: 1px solid gray;box-sizing: border-box;top: 0;bottom: 0;left: 50%;z-index: 0;}#sk-container-id-2 div.sk-serial {display: flex;flex-direction: column;align-items: center;background-color: white;padding-right: 0.2em;padding-left: 0.2em;position: relative;}#sk-container-id-2 div.sk-item {position: relative;z-index: 1;}#sk-container-id-2 div.sk-parallel {display: flex;align-items: stretch;justify-content: center;background-color: white;position: relative;}#sk-container-id-2 div.sk-item::before, #sk-container-id-2 div.sk-parallel-item::before {content: \"\";position: absolute;border-left: 1px solid gray;box-sizing: border-box;top: 0;bottom: 0;left: 50%;z-index: -1;}#sk-container-id-2 div.sk-parallel-item {display: flex;flex-direction: column;z-index: 1;position: relative;background-color: white;}#sk-container-id-2 div.sk-parallel-item:first-child::after {align-self: flex-end;width: 50%;}#sk-container-id-2 div.sk-parallel-item:last-child::after {align-self: flex-start;width: 50%;}#sk-container-id-2 div.sk-parallel-item:only-child::after {width: 0;}#sk-container-id-2 div.sk-dashed-wrapped {border: 1px dashed gray;margin: 0 0.4em 0.5em 0.4em;box-sizing: border-box;padding-bottom: 0.4em;background-color: white;}#sk-container-id-2 div.sk-label label {font-family: monospace;font-weight: bold;display: inline-block;line-height: 1.2em;}#sk-container-id-2 div.sk-label-container {text-align: center;}#sk-container-id-2 div.sk-container {/* jupyter's `normalize.less` sets `[hidden] { display: none; }` but bootstrap.min.css set `[hidden] { display: none !important; }` so we also need the `!important` here to be able to override the default hidden behavior on the sphinx rendered scikit-learn.org. See: https://github.com/scikit-learn/scikit-learn/issues/21755 */display: inline-block !important;position: relative;}#sk-container-id-2 div.sk-text-repr-fallback {display: none;}</style><div id=\"sk-container-id-2\" class=\"sk-top-container\"><div class=\"sk-text-repr-fallback\"><pre>XGBClassifier(base_score=0.5, booster=&#x27;gbtree&#x27;, callbacks=None,\n",
       "              colsample_bylevel=1, colsample_bynode=1, colsample_bytree=1,\n",
       "              early_stopping_rounds=None, enable_categorical=False,\n",
       "              eval_metric=&#x27;logloss&#x27;, gamma=0, gpu_id=-1,\n",
       "              grow_policy=&#x27;depthwise&#x27;, importance_type=None,\n",
       "              interaction_constraints=&#x27;&#x27;, learning_rate=0.1, max_bin=256,\n",
       "              max_cat_to_onehot=4, max_delta_step=0, max_depth=3, max_leaves=0,\n",
       "              min_child_weight=1, missing=nan, monotone_constraints=&#x27;()&#x27;,\n",
       "              n_estimators=200, n_jobs=-1, num_parallel_tree=1,\n",
       "              predictor=&#x27;auto&#x27;, random_state=1, reg_alpha=0, reg_lambda=1, ...)</pre><b>In a Jupyter environment, please rerun this cell to show the HTML representation or trust the notebook. <br />On GitHub, the HTML representation is unable to render, please try loading this page with nbviewer.org.</b></div><div class=\"sk-container\" hidden><div class=\"sk-item\"><div class=\"sk-estimator sk-toggleable\"><input class=\"sk-toggleable__control sk-hidden--visually\" id=\"sk-estimator-id-2\" type=\"checkbox\" checked><label for=\"sk-estimator-id-2\" class=\"sk-toggleable__label sk-toggleable__label-arrow\">XGBClassifier</label><div class=\"sk-toggleable__content\"><pre>XGBClassifier(base_score=0.5, booster=&#x27;gbtree&#x27;, callbacks=None,\n",
       "              colsample_bylevel=1, colsample_bynode=1, colsample_bytree=1,\n",
       "              early_stopping_rounds=None, enable_categorical=False,\n",
       "              eval_metric=&#x27;logloss&#x27;, gamma=0, gpu_id=-1,\n",
       "              grow_policy=&#x27;depthwise&#x27;, importance_type=None,\n",
       "              interaction_constraints=&#x27;&#x27;, learning_rate=0.1, max_bin=256,\n",
       "              max_cat_to_onehot=4, max_delta_step=0, max_depth=3, max_leaves=0,\n",
       "              min_child_weight=1, missing=nan, monotone_constraints=&#x27;()&#x27;,\n",
       "              n_estimators=200, n_jobs=-1, num_parallel_tree=1,\n",
       "              predictor=&#x27;auto&#x27;, random_state=1, reg_alpha=0, reg_lambda=1, ...)</pre></div></div></div></div></div>"
      ],
      "text/plain": [
       "XGBClassifier(base_score=0.5, booster='gbtree', callbacks=None,\n",
       "              colsample_bylevel=1, colsample_bynode=1, colsample_bytree=1,\n",
       "              early_stopping_rounds=None, enable_categorical=False,\n",
       "              eval_metric='logloss', gamma=0, gpu_id=-1,\n",
       "              grow_policy='depthwise', importance_type=None,\n",
       "              interaction_constraints='', learning_rate=0.1, max_bin=256,\n",
       "              max_cat_to_onehot=4, max_delta_step=0, max_depth=3, max_leaves=0,\n",
       "              min_child_weight=1, missing=nan, monotone_constraints='()',\n",
       "              n_estimators=200, n_jobs=-1, num_parallel_tree=1,\n",
       "              predictor='auto', random_state=1, reg_alpha=0, reg_lambda=1, ...)"
      ]
     },
     "execution_count": 14,
     "metadata": {},
     "output_type": "execute_result"
    }
   ],
   "source": [
    "#조기종료\n",
    "'''\n",
    "    eval_set(검증데이터)에 지정된 데이터가 \n",
    "    eval_metric에 설정한 특정 평가지표인 loss가 \n",
    "    특정 횟수만큼 실행되었는데도 불구하고 감소하지 않으면 중단되는 것.\n",
    "    => 검증데이터가 10번 반복하는데도 손실이 감소안하면 멈춰라\n",
    "    \n",
    "\n",
    "'''\n",
    "\n",
    "clf= XGBClassifier(learning_rate=0.1,\n",
    "                  n_estimators=200,\n",
    "                  random_state=1,\n",
    "                  max_depth=3,\n",
    "                  n_jobs=-1,\n",
    "                  eval_metric=\"logloss\" #손실함수 \n",
    ")\n",
    "\n",
    "clf.fit(X_train,y_train,\n",
    "        eval_set=[(X_test,y_test)],\n",
    "        early_stopping_rounds=10,\n",
    "        verbose=1) #순차처리이기 때문에 n_jobs가 지원안됨"
   ]
  },
  {
   "cell_type": "markdown",
   "id": "4c3b08c1",
   "metadata": {},
   "source": [
    "### 5. 평가"
   ]
  },
  {
   "cell_type": "code",
   "execution_count": 15,
   "id": "bd7ef1db",
   "metadata": {},
   "outputs": [
    {
     "data": {
      "text/plain": [
       "0.8787762170482971"
      ]
     },
     "execution_count": 15,
     "metadata": {},
     "output_type": "execute_result"
    }
   ],
   "source": [
    "clf.score(X_train,y_train)"
   ]
  },
  {
   "cell_type": "code",
   "execution_count": 16,
   "id": "9b6495c3",
   "metadata": {},
   "outputs": [
    {
     "data": {
      "text/plain": [
       "0.8730769230769231"
      ]
     },
     "execution_count": 16,
     "metadata": {},
     "output_type": "execute_result"
    }
   ],
   "source": [
    "clf.score(X_test,y_test)"
   ]
  }
 ],
 "metadata": {
  "kernelspec": {
   "display_name": "Python 3 (ipykernel)",
   "language": "python",
   "name": "python3"
  },
  "language_info": {
   "codemirror_mode": {
    "name": "ipython",
    "version": 3
   },
   "file_extension": ".py",
   "mimetype": "text/x-python",
   "name": "python",
   "nbconvert_exporter": "python",
   "pygments_lexer": "ipython3",
   "version": "3.8.13"
  }
 },
 "nbformat": 4,
 "nbformat_minor": 5
}
