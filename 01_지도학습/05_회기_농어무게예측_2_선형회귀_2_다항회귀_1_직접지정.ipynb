{
 "cells": [
  {
   "cell_type": "markdown",
   "id": "153173f2",
   "metadata": {},
   "source": [
    "### 농어 길이에 따른 무게값 예측"
   ]
  },
  {
   "cell_type": "code",
   "execution_count": 1,
   "id": "e8a4755e",
   "metadata": {},
   "outputs": [],
   "source": [
    "import pandas as pd\n",
    "import numpy as np"
   ]
  },
  {
   "cell_type": "markdown",
   "id": "c4c6e68b",
   "metadata": {},
   "source": [
    "### 1. 데이터 수집"
   ]
  },
  {
   "cell_type": "code",
   "execution_count": 2,
   "id": "551b4db7",
   "metadata": {},
   "outputs": [],
   "source": [
    "# 회귀(regression)에서 사용\n",
    "# 농어 데이터\n",
    "perch_length = np.array(\n",
    "    [8.4, 13.7, 15.0, 16.2, 17.4, 18.0, 18.7, 19.0, 19.6, 20.0,\n",
    "     21.0, 21.0, 21.0, 21.3, 22.0, 22.0, 22.0, 22.0, 22.0, 22.5,\n",
    "     22.5, 22.7, 23.0, 23.5, 24.0, 24.0, 24.6, 25.0, 25.6, 26.5,\n",
    "     27.3, 27.5, 27.5, 27.5, 28.0, 28.7, 30.0, 32.8, 34.5, 35.0,\n",
    "     36.5, 36.0, 37.0, 37.0, 39.0, 39.0, 39.0, 40.0, 40.0, 40.0,\n",
    "     40.0, 42.0, 43.0, 43.0, 43.5, 44.0]\n",
    "     )\n",
    "perch_weight = np.array(\n",
    "    [5.9, 32.0, 40.0, 51.5, 70.0, 100.0, 78.0, 80.0, 85.0, 85.0,\n",
    "     110.0, 115.0, 125.0, 130.0, 120.0, 120.0, 130.0, 135.0, 110.0,\n",
    "     130.0, 150.0, 145.0, 150.0, 170.0, 225.0, 145.0, 188.0, 180.0,\n",
    "     197.0, 218.0, 300.0, 260.0, 265.0, 250.0, 250.0, 300.0, 320.0,\n",
    "     514.0, 556.0, 840.0, 685.0, 700.0, 700.0, 690.0, 900.0, 650.0,\n",
    "     820.0, 850.0, 900.0, 1015.0, 820.0, 1100.0, 1000.0, 1100.0,\n",
    "     1000.0, 1000.0]\n",
    "     )"
   ]
  },
  {
   "cell_type": "code",
   "execution_count": 3,
   "id": "89da681f",
   "metadata": {},
   "outputs": [
    {
     "data": {
      "text/plain": [
       "56"
      ]
     },
     "execution_count": 3,
     "metadata": {},
     "output_type": "execute_result"
    }
   ],
   "source": [
    "len(perch_length)"
   ]
  },
  {
   "cell_type": "markdown",
   "id": "d426f452",
   "metadata": {},
   "source": [
    "### 2. 시각화"
   ]
  },
  {
   "cell_type": "code",
   "execution_count": 4,
   "id": "31251a8a",
   "metadata": {},
   "outputs": [],
   "source": [
    "import matplotlib.pyplot as plt\n",
    "%matplotlib inline"
   ]
  },
  {
   "cell_type": "code",
   "execution_count": 5,
   "id": "0a51246f",
   "metadata": {},
   "outputs": [
    {
     "data": {
      "image/png": "[encoded data removed]",
      "text/plain": [
       "<Figure size 640x480 with 1 Axes>"
      ]
     },
     "metadata": {},
     "output_type": "display_data"
    }
   ],
   "source": [
    "plt.scatter(perch_length,perch_weight)\n",
    "\n",
    "plt.xlabel('length')\n",
    "plt.ylabel('width')\n",
    "plt.show()#일부러 곡선 형태로 데이터 준비함"
   ]
  },
  {
   "cell_type": "markdown",
   "id": "d751906f",
   "metadata": {},
   "source": [
    "### 3. 데이터 분리"
   ]
  },
  {
   "cell_type": "code",
   "execution_count": 6,
   "id": "ea1689f0",
   "metadata": {},
   "outputs": [],
   "source": [
    "from sklearn.model_selection import train_test_split"
   ]
  },
  {
   "cell_type": "code",
   "execution_count": 7,
   "id": "ff45100f",
   "metadata": {},
   "outputs": [],
   "source": [
    "X_train, X_test, y_train, y_test=train_test_split(perch_length, perch_weight,\n",
    "                                                  test_size=0.2,\n",
    "                                                  random_state=1)"
   ]
  },
  {
   "cell_type": "code",
   "execution_count": 8,
   "id": "60806374",
   "metadata": {},
   "outputs": [
    {
     "data": {
      "text/plain": [
       "((44,), (44,))"
      ]
     },
     "execution_count": 8,
     "metadata": {},
     "output_type": "execute_result"
    }
   ],
   "source": [
    "#총 56개중에 44개가 훈련 데이터\n",
    "X_train.shape,  y_train.shape"
   ]
  },
  {
   "cell_type": "code",
   "execution_count": 9,
   "id": "d55e25fa",
   "metadata": {},
   "outputs": [
    {
     "data": {
      "text/plain": [
       "((12,), (12,))"
      ]
     },
     "execution_count": 9,
     "metadata": {},
     "output_type": "execute_result"
    }
   ],
   "source": [
    "#총 56개중에 12개가 테스트 데이터\n",
    "X_test.shape,  y_test.shape"
   ]
  },
  {
   "cell_type": "markdown",
   "id": "f86840b1",
   "metadata": {},
   "source": [
    "### 입력 데이터의 차원 변경\n",
    "*훈련 및 테스트 데이터 (입력데이터)는 반드시 2차원이여야 한다."
   ]
  },
  {
   "cell_type": "code",
   "execution_count": 10,
   "id": "16cde005",
   "metadata": {},
   "outputs": [
    {
     "data": {
      "text/plain": [
       "(44, 1)"
      ]
     },
     "execution_count": 10,
     "metadata": {},
     "output_type": "execute_result"
    }
   ],
   "source": [
    "X_train=X_train[...,np.newaxis]\n",
    "X_train.shape "
   ]
  },
  {
   "cell_type": "code",
   "execution_count": 11,
   "id": "b0b35e32",
   "metadata": {},
   "outputs": [
    {
     "data": {
      "text/plain": [
       "(12, 1)"
      ]
     },
     "execution_count": 11,
     "metadata": {},
     "output_type": "execute_result"
    }
   ],
   "source": [
    "X_test=X_test[...,np.newaxis]\n",
    "X_test.shape"
   ]
  },
  {
   "cell_type": "markdown",
   "id": "0700dbac",
   "metadata": {},
   "source": [
    "### 농어 길이 값 하나이기 때문에 표준화는 불필요하다."
   ]
  },
  {
   "cell_type": "code",
   "execution_count": 12,
   "id": "e2736808",
   "metadata": {},
   "outputs": [],
   "source": [
    "## 다항 회귀 \n",
    "train_poly = np.column_stack((X_train,X_train**2))\n",
    "test_poly = np.column_stack((X_test,X_test**2))"
   ]
  },
  {
   "cell_type": "code",
   "execution_count": 13,
   "id": "b16e835f",
   "metadata": {},
   "outputs": [
    {
     "data": {
      "text/plain": [
       "((44, 2), (12, 2))"
      ]
     },
     "execution_count": 13,
     "metadata": {},
     "output_type": "execute_result"
    }
   ],
   "source": [
    "train_poly.shape, test_poly.shape"
   ]
  },
  {
   "cell_type": "markdown",
   "id": "59c588bd",
   "metadata": {},
   "source": [
    "### 4. 모델 생성"
   ]
  },
  {
   "cell_type": "code",
   "execution_count": 14,
   "id": "f525cde4",
   "metadata": {},
   "outputs": [],
   "source": [
    "#from sklearn.neighbors import KNeighborsRegressor\n",
    "from sklearn.linear_model import LinearRegression"
   ]
  },
  {
   "cell_type": "code",
   "execution_count": 15,
   "id": "75b41e9d",
   "metadata": {},
   "outputs": [
    {
     "data": {
      "text/html": [
       "<style>#sk-container-id-1 {color: black;background-color: white;}#sk-container-id-1 pre{padding: 0;}#sk-container-id-1 div.sk-toggleable {background-color: white;}#sk-container-id-1 label.sk-toggleable__label {cursor: pointer;display: block;width: 100%;margin-bottom: 0;padding: 0.3em;box-sizing: border-box;text-align: center;}#sk-container-id-1 label.sk-toggleable__label-arrow:before {content: \"▸\";float: left;margin-right: 0.25em;color: #696969;}#sk-container-id-1 label.sk-toggleable__label-arrow:hover:before {color: black;}#sk-container-id-1 div.sk-estimator:hover label.sk-toggleable__label-arrow:before {color: black;}#sk-container-id-1 div.sk-toggleable__content {max-height: 0;max-width: 0;overflow: hidden;text-align: left;background-color: #f0f8ff;}#sk-container-id-1 div.sk-toggleable__content pre {margin: 0.2em;color: black;border-radius: 0.25em;background-color: #f0f8ff;}#sk-container-id-1 input.sk-toggleable__control:checked~div.sk-toggleable__content {max-height: 200px;max-width: 100%;overflow: auto;}#sk-container-id-1 input.sk-toggleable__control:checked~label.sk-toggleable__label-arrow:before {content: \"▾\";}#sk-container-id-1 div.sk-estimator input.sk-toggleable__control:checked~label.sk-toggleable__label {background-color: #d4ebff;}#sk-container-id-1 div.sk-label input.sk-toggleable__control:checked~label.sk-toggleable__label {background-color: #d4ebff;}#sk-container-id-1 input.sk-hidden--visually {border: 0;clip: rect(1px 1px 1px 1px);clip: rect(1px, 1px, 1px, 1px);height: 1px;margin: -1px;overflow: hidden;padding: 0;position: absolute;width: 1px;}#sk-container-id-1 div.sk-estimator {font-family: monospace;background-color: #f0f8ff;border: 1px dotted black;border-radius: 0.25em;box-sizing: border-box;margin-bottom: 0.5em;}#sk-container-id-1 div.sk-estimator:hover {background-color: #d4ebff;}#sk-container-id-1 div.sk-parallel-item::after {content: \"\";width: 100%;border-bottom: 1px solid gray;flex-grow: 1;}#sk-container-id-1 div.sk-label:hover label.sk-toggleable__label {background-color: #d4ebff;}#sk-container-id-1 div.sk-serial::before {content: \"\";position: absolute;border-left: 1px solid gray;box-sizing: border-box;top: 0;bottom: 0;left: 50%;z-index: 0;}#sk-container-id-1 div.sk-serial {display: flex;flex-direction: column;align-items: center;background-color: white;padding-right: 0.2em;padding-left: 0.2em;position: relative;}#sk-container-id-1 div.sk-item {position: relative;z-index: 1;}#sk-container-id-1 div.sk-parallel {display: flex;align-items: stretch;justify-content: center;background-color: white;position: relative;}#sk-container-id-1 div.sk-item::before, #sk-container-id-1 div.sk-parallel-item::before {content: \"\";position: absolute;border-left: 1px solid gray;box-sizing: border-box;top: 0;bottom: 0;left: 50%;z-index: -1;}#sk-container-id-1 div.sk-parallel-item {display: flex;flex-direction: column;z-index: 1;position: relative;background-color: white;}#sk-container-id-1 div.sk-parallel-item:first-child::after {align-self: flex-end;width: 50%;}#sk-container-id-1 div.sk-parallel-item:last-child::after {align-self: flex-start;width: 50%;}#sk-container-id-1 div.sk-parallel-item:only-child::after {width: 0;}#sk-container-id-1 div.sk-dashed-wrapped {border: 1px dashed gray;margin: 0 0.4em 0.5em 0.4em;box-sizing: border-box;padding-bottom: 0.4em;background-color: white;}#sk-container-id-1 div.sk-label label {font-family: monospace;font-weight: bold;display: inline-block;line-height: 1.2em;}#sk-container-id-1 div.sk-label-container {text-align: center;}#sk-container-id-1 div.sk-container {/* jupyter's `normalize.less` sets `[hidden] { display: none; }` but bootstrap.min.css set `[hidden] { display: none !important; }` so we also need the `!important` here to be able to override the default hidden behavior on the sphinx rendered scikit-learn.org. See: https://github.com/scikit-learn/scikit-learn/issues/21755 */display: inline-block !important;position: relative;}#sk-container-id-1 div.sk-text-repr-fallback {display: none;}</style><div id=\"sk-container-id-1\" class=\"sk-top-container\"><div class=\"sk-text-repr-fallback\"><pre>LinearRegression()</pre><b>In a Jupyter environment, please rerun this cell to show the HTML representation or trust the notebook. <br />On GitHub, the HTML representation is unable to render, please try loading this page with nbviewer.org.</b></div><div class=\"sk-container\" hidden><div class=\"sk-item\"><div class=\"sk-estimator sk-toggleable\"><input class=\"sk-toggleable__control sk-hidden--visually\" id=\"sk-estimator-id-1\" type=\"checkbox\" checked><label for=\"sk-estimator-id-1\" class=\"sk-toggleable__label sk-toggleable__label-arrow\">LinearRegression</label><div class=\"sk-toggleable__content\"><pre>LinearRegression()</pre></div></div></div></div></div>"
      ],
      "text/plain": [
       "LinearRegression()"
      ]
     },
     "execution_count": 15,
     "metadata": {},
     "output_type": "execute_result"
    }
   ],
   "source": [
    "#knr=KNeighborsRegressor()\n",
    "#knr.fit(X_train,y_train) # [2차원 입력 데이터, 1차원 레이블]\n",
    "\n",
    "lr = LinearRegression()\n",
    "lr.fit(train_poly,y_train)# [2차원 입력 데이터, 1차원 레이블]"
   ]
  },
  {
   "cell_type": "markdown",
   "id": "d55f9e93",
   "metadata": {},
   "source": [
    "### 5. 예측"
   ]
  },
  {
   "cell_type": "code",
   "execution_count": 16,
   "id": "e0cbbfa6",
   "metadata": {},
   "outputs": [
    {
     "data": {
      "text/plain": [
       "array([783.260329  ,  30.77833813, 783.260329  , 142.45739347,\n",
       "       279.26947421, 279.26947421, 366.38332773, 578.02666107,\n",
       "       839.55749615, 676.65249489, 839.55749615, 146.97203667])"
      ]
     },
     "execution_count": 16,
     "metadata": {},
     "output_type": "execute_result"
    }
   ],
   "source": [
    "#pred = knr.predict(X_test)\n",
    "pred = lr.predict(test_poly)\n",
    "pred"
   ]
  },
  {
   "cell_type": "markdown",
   "id": "8ac071a0",
   "metadata": {},
   "source": [
    "### 6. 평가\n",
    "\n",
    "* 분류에서는 종류를 예측하는 것이기 때문에 score 값이 정확도 (accurancy) 값이다. (맞힌 개수 / 전체 개수)\n",
    "* 회귀에서는 score 값이 정확도 값이 아니고 결정계수 (Coefficeint of Determination, R^2)"
   ]
  },
  {
   "cell_type": "code",
   "execution_count": 17,
   "id": "3d7b6bfc",
   "metadata": {},
   "outputs": [
    {
     "data": {
      "text/plain": [
       "'\\n\\nThe coefficient of determination :math:`R^2` is defined as\\n:math:`(1 - \\x0crac{u}{v})`, where :math:`u` is the residual\\nsum of squares ``((y_true - y_pred)** 2).sum()`` and :math:`v`\\nis the total sum of squares ``((y_true - y_true.mean()) ** 2).sum()``.\\nThe best possible score is 1.0 and it can be negative (because the\\nmodel can be arbitrarily worse). A constant model that always predicts\\nthe expected value of `y`, disregarding the input features, would get\\na :math:`R^2` score of 0.0.\\n\\n결정계수 = 1 - u/v\\n         = 1 - ((y_true - y_pred)** 2).sum()/ ((y_true - y_true.mean()) ** 2).sum()\\n         = 1 - 예측값 분산 / 실제값 분산\\n         \\n         \\n   ==> 만약에 y_pred (예측값)이 y_true(실제값)에 가까워진다면 R2는 1에 가까워진다.\\n   따라서 만약에 R2가 1이면 예측값이 정확하게 실제 값과 일치한다는 의미이다.\\n   결국 결정 계수의 용도는 우리가 만든 모델 (모델에 의해서 예측값이 산출됨)이 \\n   사용중인 실제 Data에 잘 맞는지를 알려주는 척도이다. \\n   \\n단점: 정확도처럼 직관적이지 않기 때문에 추가적인 평가 지표가 필요하다. \\n-MSE, MAE, RMSE 등\\n\\nresidual(잔차) sum of squares (RSS)\\n\\n분산(variance) => 편차(잔차) 제곱 평균 = RSS/n\\n         \\n'"
      ]
     },
     "execution_count": 17,
     "metadata": {},
     "output_type": "execute_result"
    }
   ],
   "source": [
    "'''\n",
    "\n",
    "The coefficient of determination :math:`R^2` is defined as\n",
    ":math:`(1 - \\frac{u}{v})`, where :math:`u` is the residual\n",
    "sum of squares ``((y_true - y_pred)** 2).sum()`` and :math:`v`\n",
    "is the total sum of squares ``((y_true - y_true.mean()) ** 2).sum()``.\n",
    "The best possible score is 1.0 and it can be negative (because the\n",
    "model can be arbitrarily worse). A constant model that always predicts\n",
    "the expected value of `y`, disregarding the input features, would get\n",
    "a :math:`R^2` score of 0.0.\n",
    "\n",
    "결정계수 = 1 - u/v\n",
    "         = 1 - ((y_true - y_pred)** 2).sum()/ ((y_true - y_true.mean()) ** 2).sum()\n",
    "         = 1 - 예측값 분산 / 실제값 분산\n",
    "         \n",
    "         \n",
    "   ==> 만약에 y_pred (예측값)이 y_true(실제값)에 가까워진다면 R2는 1에 가까워진다.\n",
    "   따라서 만약에 R2가 1이면 예측값이 정확하게 실제 값과 일치한다는 의미이다.\n",
    "   결국 결정 계수의 용도는 우리가 만든 모델 (모델에 의해서 예측값이 산출됨)이 \n",
    "   사용중인 실제 Data에 잘 맞는지를 알려주는 척도이다. \n",
    "   \n",
    "단점: 정확도처럼 직관적이지 않기 때문에 추가적인 평가 지표가 필요하다. \n",
    "-MSE, MAE, RMSE 등\n",
    "\n",
    "residual(잔차) sum of squares (RSS)\n",
    "\n",
    "분산(variance) => 편차(잔차) 제곱 평균 = RSS/n\n",
    "         \n",
    "'''"
   ]
  },
  {
   "cell_type": "code",
   "execution_count": 18,
   "id": "97a58ded",
   "metadata": {},
   "outputs": [
    {
     "data": {
      "text/plain": [
       "0.9844644702299776"
      ]
     },
     "execution_count": 18,
     "metadata": {},
     "output_type": "execute_result"
    }
   ],
   "source": [
    "#knr.score(X_train,y_train) # 결정계수 값이다.\n",
    "lr.score(train_poly,y_train) # 결정 계수 값이다."
   ]
  },
  {
   "cell_type": "code",
   "execution_count": 19,
   "id": "045a4302",
   "metadata": {},
   "outputs": [
    {
     "data": {
      "text/plain": [
       "0.916356266171839"
      ]
     },
     "execution_count": 19,
     "metadata": {},
     "output_type": "execute_result"
    }
   ],
   "source": [
    "lr.score(test_poly,y_test)"
   ]
  },
  {
   "cell_type": "markdown",
   "id": "63e79d31",
   "metadata": {},
   "source": [
    "### 7. R2를 대신할 회귀 평가지표 사용 , MAE , MSE, RMSE, R2\n",
    "* 비용함수 (cost function), 손실함수 (loss function)? (실제값-예측값).sum() 최소가 되는 회귀계수를 찾는 함수 (경사 하강법 알고리즘 이용)"
   ]
  },
  {
   "cell_type": "code",
   "execution_count": 20,
   "id": "3c10cd3e",
   "metadata": {},
   "outputs": [],
   "source": [
    "from sklearn.metrics import mean_absolute_error, mean_squared_error, r2_score"
   ]
  },
  {
   "cell_type": "code",
   "execution_count": 21,
   "id": "02b62a63",
   "metadata": {},
   "outputs": [
    {
     "data": {
      "text/plain": [
       "'mae:65.68821349119177, mse:10170.192223128764, r2:0.916356266171839'"
      ]
     },
     "execution_count": 21,
     "metadata": {},
     "output_type": "execute_result"
    }
   ],
   "source": [
    "# y_pred = lr.predict(X_test)\n",
    "y_pred=lr.predict(test_poly)\n",
    "mae = mean_absolute_error(y_test,y_pred)\n",
    "mse = mean_squared_error(y_test,y_pred)\n",
    "r2=r2_score(y_test,y_pred)\n",
    "'mae:{}, mse:{}, r2:{}'.format(mae,mse,r2)"
   ]
  },
  {
   "cell_type": "markdown",
   "id": "9d888361",
   "metadata": {},
   "source": [
    "### 생성된 회귀식의 기울기(가중치, coef)와 절편 (bias,intercept) 알아보기 "
   ]
  },
  {
   "cell_type": "code",
   "execution_count": 22,
   "id": "21a68ee7",
   "metadata": {},
   "outputs": [
    {
     "data": {
      "text/plain": [
       "(array([-22.52508559,   0.99775003]), 144.16086417734118)"
      ]
     },
     "execution_count": 22,
     "metadata": {},
     "output_type": "execute_result"
    }
   ],
   "source": [
    "lr.coef_ , lr.intercept_"
   ]
  },
  {
   "cell_type": "markdown",
   "id": "5e85a57b",
   "metadata": {},
   "source": [
    "### 다음 회귀식이 생성됨\n",
    "* y =  -22.52508559 * x + 0.99775003 * x**2 + 144.16086417734118"
   ]
  },
  {
   "cell_type": "markdown",
   "id": "d9bb20bc",
   "metadata": {},
   "source": [
    "### 8. 새로운 데이터 이용한 농어무게 예측"
   ]
  },
  {
   "cell_type": "code",
   "execution_count": 23,
   "id": "86b28c41",
   "metadata": {},
   "outputs": [
    {
     "data": {
      "text/plain": [
       "array([1512.28167153])"
      ]
     },
     "execution_count": 23,
     "metadata": {},
     "output_type": "execute_result"
    }
   ],
   "source": [
    "#knr.predict([[50.0]])\n",
    "lr.predict([[50,50**2]])"
   ]
  },
  {
   "cell_type": "code",
   "execution_count": 24,
   "id": "bfc48169",
   "metadata": {},
   "outputs": [
    {
     "data": {
      "text/plain": [
       "1512.2816596773412"
      ]
     },
     "execution_count": 24,
     "metadata": {},
     "output_type": "execute_result"
    }
   ],
   "source": [
    "y_hat = -22.52508559 * 50 +  0.99775003 * 50**2 + 144.16086417734118\n",
    "y_hat"
   ]
  },
  {
   "cell_type": "code",
   "execution_count": 25,
   "id": "72412ac3",
   "metadata": {},
   "outputs": [
    {
     "data": {
      "text/plain": [
       "array([7869.15265272])"
      ]
     },
     "execution_count": 25,
     "metadata": {},
     "output_type": "execute_result"
    }
   ],
   "source": [
    "#knr.predict([[100.0]])\n",
    "lr.predict([[100,100**2]])"
   ]
  },
  {
   "cell_type": "code",
   "execution_count": 26,
   "id": "14027a49",
   "metadata": {},
   "outputs": [
    {
     "data": {
      "text/plain": [
       "7869.152605177341"
      ]
     },
     "execution_count": 26,
     "metadata": {},
     "output_type": "execute_result"
    }
   ],
   "source": [
    "y_hat = -22.52508559 * 100 +  0.99775003 * 100**2 + 144.16086417734118\n",
    "y_hat"
   ]
  },
  {
   "cell_type": "markdown",
   "id": "ac07b679",
   "metadata": {},
   "source": [
    "### 시각화"
   ]
  },
  {
   "cell_type": "code",
   "execution_count": 27,
   "id": "754e801f",
   "metadata": {},
   "outputs": [],
   "source": [
    "import matplotlib.pyplot as plt\n",
    "%matplotlib inline"
   ]
  },
  {
   "cell_type": "code",
   "execution_count": 28,
   "id": "c697d017",
   "metadata": {},
   "outputs": [
    {
     "data": {
      "image/png": "[encoded data removed]",
      "text/plain": [
       "<Figure size 640x480 with 1 Axes>"
      ]
     },
     "metadata": {},
     "output_type": "display_data"
    }
   ],
   "source": [
    "# lr.coef_  , lr.intercept_\n",
    "y1 =  lr.coef_[0] * 15 +  lr.coef_[1] * 15**2 + lr.intercept_\n",
    "y2 =  lr.coef_[0] * 50 +  lr.coef_[1] * 50**2 + lr.intercept_\n",
    "y_hat = lr.coef_[0] * 50 +  lr.coef_[1] * 50**2 + lr.intercept_\n",
    "plt.scatter(X_train , y_train)\n",
    "plt.plot(list(range(15,51)),[lr.coef_[0] * i +  lr.coef_[1] * i**2 + lr.intercept_ for i in range(15,51)])#직선\n",
    "plt.scatter(50, y_hat, marker=\"^\", s=150)\n",
    "plt.xlabel(\"length\")\n",
    "plt.ylabel(\"width\")\n",
    "plt.show()"
   ]
  },
  {
   "cell_type": "code",
   "execution_count": 29,
   "id": "8cc0ed31",
   "metadata": {},
   "outputs": [
    {
     "data": {
      "image/png": "[encoded data removed]",
      "text/plain": [
       "<Figure size 640x480 with 1 Axes>"
      ]
     },
     "metadata": {},
     "output_type": "display_data"
    }
   ],
   "source": [
    "#인택씨꺼\n",
    "# lr.coef_,lr.intercept_\n",
    "y1 = 15*lr.coef_[0]+(15**2)*lr.coef_[1] + lr.intercept_\n",
    "y2 = 50*lr.coef_[0]+(50**2)*lr.coef_[1] + lr.intercept_\n",
    "y_hat = 50*lr.coef_[0]+(50**2)*lr.coef_[1] + lr.intercept_\n",
    "\n",
    "plt.scatter(X_train,y_train)\n",
    "x = np.linspace(15, 50, num=100)\n",
    "y = x*lr.coef_[0]+(x**2)*lr.coef_[1] + lr.intercept_\n",
    "plt.plot(x,y)\n",
    "plt.scatter(50,y_hat,marker='^',s=150)\n",
    "\n",
    "plt.xlabel('length')\n",
    "plt.ylabel('weight')\n",
    "plt.show()\n"
   ]
  }
 ],
 "metadata": {
  "kernelspec": {
   "display_name": "Python 3 (ipykernel)",
   "language": "python",
   "name": "python3"
  },
  "language_info": {
   "codemirror_mode": {
    "name": "ipython",
    "version": 3
   },
   "file_extension": ".py",
   "mimetype": "text/x-python",
   "name": "python",
   "nbconvert_exporter": "python",
   "pygments_lexer": "ipython3",
   "version": "3.8.13"
  }
 },
 "nbformat": 4,
 "nbformat_minor": 5
}
