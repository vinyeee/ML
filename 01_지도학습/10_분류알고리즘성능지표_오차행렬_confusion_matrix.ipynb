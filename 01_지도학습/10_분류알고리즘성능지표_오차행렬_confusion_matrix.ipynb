{
 "cells": [
  {
   "cell_type": "code",
   "execution_count": 1,
   "id": "32074160",
   "metadata": {},
   "outputs": [
    {
     "data": {
      "text/plain": [
       "'\\n\\n    오차행렬 (confusion matrix)\\n    \\n    1) confusion_matrix(y_test,y_pred)\\n    \\n    \\n'"
      ]
     },
     "execution_count": 1,
     "metadata": {},
     "output_type": "execute_result"
    }
   ],
   "source": [
    "'''\n",
    "\n",
    "    오차행렬 (confusion matrix)\n",
    "    \n",
    "                               예측값\n",
    "                       negative         positive     \n",
    "          negative     TN  3              FP  1\n",
    "  실제값  \n",
    "          positive     FN  2              TP  6\n",
    "    \n",
    "    1) confusion_matrix(y_test,y_pred)\n",
    "    \n",
    "    2) 정밀도(precision) vs 재현율(recall)\n",
    "   \n",
    "   * 재현율 : recall = (TP) / (TP + FN)\n",
    "                        재현율을 높이려면 FN 값을 작게 \n",
    "                        재현율은 업무상 risk 매우큰 경우이다 (맞는 걸 아니라고 예측한 경우)\n",
    "                        \n",
    "    \n",
    "   * 정밀도 : precision = (TP) / (TP + FP)\n",
    "                        정밀도를 높이려면 FP 값을 낮게\n",
    "                        재현율보다 덜 중요한 경우이다. (아닌걸 맞다고 예측)\n",
    "                        예> 스팸메일 \n",
    "   \n",
    "   \n",
    "   * 신뢰 레벨 : confidence score\n",
    "   => 예측한 것에 대해서 얼마나 확신이 있는지 알려주는 척도\n",
    "   => 기본 값은 0.5인데 임의로 변경할 수 있다. \n",
    "   \n",
    "        - 덜 엄격해짐                              - 엄격해짐\n",
    "          정밀도 떨어짐                              정밀도 높아짐\n",
    "          재현율은 높아짐                            재현율 낮아짐\n",
    "          \n",
    "   -----------|------------------- -|-------------------|----------------\n",
    "             0.2                  0.5               0.8  \n",
    "   \n",
    "'''"
   ]
  },
  {
   "cell_type": "code",
   "execution_count": 2,
   "id": "45edc4f3",
   "metadata": {},
   "outputs": [],
   "source": [
    "import numpy as np"
   ]
  },
  {
   "cell_type": "code",
   "execution_count": 3,
   "id": "a324c2fc",
   "metadata": {},
   "outputs": [],
   "source": [
    "# cancer: 1 (양성)   0 (음성)\n",
    "y_test = np.array([1,1,1,1,1,1,1,1, 0,0,0,0])\n",
    "y_pred = np.array([0,0,1,1,1,1,1,1, 1,0,0,0])\n",
    "\n"
   ]
  },
  {
   "cell_type": "code",
   "execution_count": 4,
   "id": "733dd3ee",
   "metadata": {},
   "outputs": [
    {
     "data": {
      "text/plain": [
       "((12,), (12,))"
      ]
     },
     "execution_count": 4,
     "metadata": {},
     "output_type": "execute_result"
    }
   ],
   "source": [
    "y_test.shape, y_pred.shape"
   ]
  },
  {
   "cell_type": "markdown",
   "id": "1955cc8d",
   "metadata": {},
   "source": [
    "### 2. 오차 행렬"
   ]
  },
  {
   "cell_type": "code",
   "execution_count": 5,
   "id": "75a5cf8a",
   "metadata": {},
   "outputs": [],
   "source": [
    "from sklearn.metrics import confusion_matrix"
   ]
  },
  {
   "cell_type": "code",
   "execution_count": 6,
   "id": "e127ddb9",
   "metadata": {},
   "outputs": [
    {
     "data": {
      "text/plain": [
       "array([[3, 1],\n",
       "       [2, 6]], dtype=int64)"
      ]
     },
     "execution_count": 6,
     "metadata": {},
     "output_type": "execute_result"
    }
   ],
   "source": [
    "c_mat = confusion_matrix(y_test,y_pred)\n",
    "c_mat"
   ]
  },
  {
   "cell_type": "code",
   "execution_count": 7,
   "id": "18990b62",
   "metadata": {},
   "outputs": [
    {
     "data": {
      "text/plain": [
       "'\\n\\n   y_test = np.array([1,  1,  1,  1,  1,  1,  1,  1, 0, 0, 0, 0])\\n   y_pred = np.array([0,  0,  1,  1,  1,  1,  1,  1, 1, 0, 0, 0])\\n                     FN  FN  TP  TP  TP  TP  TP  TP  FP TN TN TN\\n  \\n                            예측값\\n                       negative         positive     \\n          negative     TN  3              FP  1\\n  실제값  \\n          positive     FN  2              TP  6\\n   \\n    주의할 점은 positive를 먼저 사용하는 가이드도 있다.\\n    https://en.wikipedia.org/wiki/Confusion_matrix\\n\\n'"
      ]
     },
     "execution_count": 7,
     "metadata": {},
     "output_type": "execute_result"
    }
   ],
   "source": [
    "'''\n",
    "\n",
    "   y_test = np.array([1,  1,  1,  1,  1,  1,  1,  1, 0, 0, 0, 0])\n",
    "   y_pred = np.array([0,  0,  1,  1,  1,  1,  1,  1, 1, 0, 0, 0])\n",
    "                     FN  FN  TP  TP  TP  TP  TP  TP  FP TN TN TN\n",
    "  \n",
    "                            예측값\n",
    "                       negative         positive     \n",
    "          negative     TN  3              FP  1\n",
    "  실제값  \n",
    "          positive     FN  2              TP  6\n",
    "   \n",
    "    주의할 점은 positive를 먼저 사용하는 가이드도 있다.\n",
    "    https://en.wikipedia.org/wiki/Confusion_matrix\n",
    "\n",
    "'''\n"
   ]
  },
  {
   "cell_type": "markdown",
   "id": "ac01acfd",
   "metadata": {},
   "source": [
    "### 3. 정밀도, 정확도, 재현율 출력"
   ]
  },
  {
   "cell_type": "markdown",
   "id": "03aaa76b",
   "metadata": {},
   "source": [
    "### 가. 직접구현"
   ]
  },
  {
   "cell_type": "code",
   "execution_count": 8,
   "id": "1efa5997",
   "metadata": {},
   "outputs": [],
   "source": [
    "# 정확도 : accuracy = (TN + TP) / (TP + TN + FP + FN)\n",
    "accuracy = (3 + 6) / (6 + 3 + 1 + 2)\n",
    "\n",
    "# 정밀도 : precision = (TP) / (TP + FP)\n",
    "precision = 6 / (6 + 1)\n",
    "\n",
    "#재현율 : recall = (TP) / (TP + FN)\n",
    "recall = 6 / (6 + 2)"
   ]
  },
  {
   "cell_type": "code",
   "execution_count": 9,
   "id": "68d5232c",
   "metadata": {},
   "outputs": [
    {
     "name": "stdout",
     "output_type": "stream",
     "text": [
      "정확도:0.75\n",
      "정밀도:0.8571428571428571\n",
      "재현율:0.75\n"
     ]
    }
   ],
   "source": [
    "print('정확도:{}'.format(accuracy))\n",
    "print('정밀도:{}'.format(precision))\n",
    "print('재현율:{}'.format(recall))"
   ]
  },
  {
   "cell_type": "markdown",
   "id": "2509cb50",
   "metadata": {},
   "source": [
    "### 나. 사이킷런 API "
   ]
  },
  {
   "cell_type": "code",
   "execution_count": 24,
   "id": "20c66c87",
   "metadata": {},
   "outputs": [],
   "source": [
    "from sklearn.metrics import accuracy_score,precision_score,recall_score,f1_score"
   ]
  },
  {
   "cell_type": "code",
   "execution_count": 11,
   "id": "000ae0cc",
   "metadata": {},
   "outputs": [],
   "source": [
    "accuracy = accuracy_score(y_test,y_pred)\n",
    "precision = precision_score(y_test,y_pred)\n",
    "recall = recall_score(y_test,y_pred)"
   ]
  },
  {
   "cell_type": "code",
   "execution_count": 13,
   "id": "58ae4e8b",
   "metadata": {},
   "outputs": [
    {
     "name": "stdout",
     "output_type": "stream",
     "text": [
      "정확도:0.75\n",
      "정밀도:0.8571428571428571\n",
      "재현율:0.75\n"
     ]
    }
   ],
   "source": [
    "print('정확도:{}'.format(accuracy))\n",
    "print('정밀도:{}'.format(precision))\n",
    "print('재현율:{}'.format(recall))"
   ]
  },
  {
   "cell_type": "markdown",
   "id": "ce11d0d3",
   "metadata": {},
   "source": [
    "### 분류 알고리즘에서 성능지표 출력하는 함수 "
   ]
  },
  {
   "cell_type": "code",
   "execution_count": 25,
   "id": "c8d4eebe",
   "metadata": {},
   "outputs": [],
   "source": [
    "def performance_matrix(y_test,y_pred):\n",
    "    c_mat = confusion_matrix(y_test,y_pred)\n",
    "    accuracy = accuracy_score(y_test,y_pred)\n",
    "    precision = precision_score(y_test,y_pred)\n",
    "    recall = recall_score(y_test,y_pred)\n",
    "    print('오차행렬')\n",
    "    print(c_mat)\n",
    "    # f1 score : 정밀도와 재현율이 trade off 관계이기 때문에 두 개의 조화가 매우 중요하다. 얼마나 잘 조화되는지를 알려주는 함수\n",
    "    f1 = f1_score(y_test,y_pred)\n",
    "    print('정확도:{}'.format(accuracy))\n",
    "    print('정밀도:{}'.format(precision))\n",
    "    print('재현율:{}'.format(recall))\n",
    "    print('f1_score:{}'.format(f1))"
   ]
  },
  {
   "cell_type": "code",
   "execution_count": 26,
   "id": "ae97f893",
   "metadata": {},
   "outputs": [
    {
     "name": "stdout",
     "output_type": "stream",
     "text": [
      "오차행렬\n",
      "[[3 1]\n",
      " [2 6]]\n",
      "정확도:0.75\n",
      "정밀도:0.8571428571428571\n",
      "재현율:0.75\n",
      "f1_score:0.7999999999999999\n"
     ]
    }
   ],
   "source": [
    "performance_matrix(y_test,y_pred)"
   ]
  }
 ],
 "metadata": {
  "kernelspec": {
   "display_name": "Python 3 (ipykernel)",
   "language": "python",
   "name": "python3"
  },
  "language_info": {
   "codemirror_mode": {
    "name": "ipython",
    "version": 3
   },
   "file_extension": ".py",
   "mimetype": "text/x-python",
   "name": "python",
   "nbconvert_exporter": "python",
   "pygments_lexer": "ipython3",
   "version": "3.8.13"
  }
 },
 "nbformat": 4,
 "nbformat_minor": 5
}
